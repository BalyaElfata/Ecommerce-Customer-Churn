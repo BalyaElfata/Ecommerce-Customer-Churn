{
  "nbformat": 4,
  "nbformat_minor": 0,
  "metadata": {
    "colab": {
      "provenance": [],
      "collapsed_sections": [],
      "toc_visible": true
    },
    "kernelspec": {
      "name": "python3",
      "display_name": "Python 3"
    },
    "language_info": {
      "name": "python"
    }
  },
  "cells": [
    {
      "cell_type": "markdown",
      "source": [
        "# HR Analytics: Ecommerce Customer Churn\n",
        "### Created By : Balya Elfata"
      ],
      "metadata": {
        "id": "sesRYOHnL3PZ"
      }
    },
    {
      "cell_type": "markdown",
      "source": [
        "# Part 1 : Business Problem"
      ],
      "metadata": {
        "id": "O71GmUiTf5tn"
      }
    },
    {
      "cell_type": "markdown",
      "source": [
        "## Business Problem Understanding"
      ],
      "metadata": {
        "id": "PxAEMWh9METx"
      }
    },
    {
      "cell_type": "markdown",
      "source": [
        "**Busniness Context**  \n",
        "E-commerce merupakan sebuah perkembangan teknologi di bidang bisnis yang melibatkan promosi, pembelian dan pemasaran produk melalui media elektronik atau internet. E-commerce merupakan penerapan dari bisnis elektronik yang cukup efisien dengan persaingan yang ketat untuk menawarkan produk yang menarik kepada pelanggan mereka. Bahkan, sering terjadi akuisisi pelanggan antar perusahaan. Pelanggan yang berhenti menggunakan platform e-commerce perusahaan dan beralih ke platform elektronik lainnya dikenal sebagai *churn*. Pelanggan merupakan aset terpenting bagi perusahaan sebagai sumber keuntungan dari perusahaan. Maka dari itu, perusahaan memerlukan strategi bisnis yang baik untuk mencegah churn.\n",
        "\n",
        "Target :\n",
        "\n",
        "0 : Pelanggan Tidak Churn\n",
        "\n",
        "1 : Pelanggan Churn"
      ],
      "metadata": {
        "id": "GT_lzuREMIKQ"
      }
    },
    {
      "cell_type": "markdown",
      "source": [
        "**Problem Statement :**\n",
        "\n",
        "Proses treatment pelanggan yang akan churn bisa memakan waktu dan sumber daya jika perusahaan menargetkan semua pelanggan tanpa melakukan penyaringan terlebih dahulu. Perusahaan ingin meningkatkan efisiensi promosi dengan mengetahui pelanggan mana yang akan churn sehingga memfokuskan promosi ke mereka. \n",
        "\n",
        "Jika promosi diberikan kepada semua pelanggan, maka biaya promosi tersebut akan menjadi sia-sia jika pelanggan tersebut memang tidak berniat untuk churn.\n",
        "\n",
        "**Goals :**\n",
        "\n",
        "Maka berdasarkan permasalahan tersebut, perusahaan ingin memiliki kemampuan untuk memprediksi kemungkinan seorang pelanggan untuk churn, sehingga dapat memfokuskan promosi pada pelanggan yang ingin churn saja.\n",
        "\n",
        "Dan juga, perusahaan ingin mengetahui apa/faktor/variabel apa yang membuat seorang pelanggan ingin churn, sehingga mereka dapat membuat strategi bisnis yang lebih baik dalam treatment pelanggan.\n",
        "\n",
        "**Analytic Approach :**\n",
        "\n",
        "Jadi yang akan kita lakukan adalah menganalisis data untuk menemukan pola yang membedakan pelanggan yang akan churn dan yang tidak akan churn.\n",
        "\n",
        "Kemudian kita akan membangun model klasifikasi yang akan membantu perusahaan untuk dapat memprediksi probabilitas seorang pelanggan akan churn atau tidak."
      ],
      "metadata": {
        "id": "0ZfuqynNMLaK"
      }
    },
    {
      "cell_type": "markdown",
      "source": [
        "# Part 2 : Data Understanding and Data Cleaning"
      ],
      "metadata": {
        "id": "tno2c9epgA_C"
      }
    },
    {
      "cell_type": "markdown",
      "source": [
        "### Import Libraries"
      ],
      "metadata": {
        "id": "bDrI4rsihAom"
      }
    },
    {
      "cell_type": "code",
      "source": [
        "# Library\n",
        "\n",
        "import pandas as pd\n",
        "import numpy as np\n",
        "\n",
        "# Visualization\n",
        "import matplotlib.pyplot as plt\n",
        "import seaborn as sns\n",
        "import missingno\n",
        "\n",
        "# Feature Engineering\n",
        "from sklearn.pipeline import Pipeline\n",
        "from sklearn.preprocessing import OneHotEncoder\n",
        "from sklearn.compose import ColumnTransformer\n",
        "\n",
        "# Model Selection\n",
        "from sklearn.linear_model import LogisticRegression\n",
        "from sklearn.tree import DecisionTreeClassifier\n",
        "from sklearn.model_selection import GridSearchCV,StratifiedKFold,train_test_split, cross_val_score\n",
        "from sklearn.metrics import classification_report, confusion_matrix\n",
        "from sklearn.neighbors import KNeighborsClassifier\n",
        "from sklearn.ensemble import RandomForestClassifier\n",
        "from xgboost import XGBClassifier\n",
        "import lightgbm as lgb\n",
        "from sklearn.metrics import f1_score\n",
        "\n",
        "# Imbalance Dataset\n",
        "from imblearn.pipeline import Pipeline\n",
        "from imblearn.over_sampling import RandomOverSampler\n",
        "\n",
        "# Ignore Warning\n",
        "import sys\n",
        "import warnings\n",
        "if not sys.warnoptions:\n",
        "    warnings.simplefilter(\"ignore\")\n",
        "\n",
        "# Set max columns\n",
        "pd.set_option('display.max_columns', None)"
      ],
      "metadata": {
        "id": "j0CFUPgDMgWh"
      },
      "execution_count": 67,
      "outputs": []
    },
    {
      "cell_type": "markdown",
      "source": [
        "## Data Understanding"
      ],
      "metadata": {
        "id": "_RVLMk61MJNt"
      }
    },
    {
      "cell_type": "markdown",
      "source": [
        "### Attribute Information\n",
        "\n",
        "| Attribute | Data Type | Description |\n",
        "| --- | --- | --- |\n",
        "| Tenure\t| Float\t| Tenure of customer in ecommerce company |\n",
        "| WarehouseToHome |\tFloat |\tDistance in between warehouse to home of customer |\n",
        "| NumberOfDeviceRegistered |\tInteger |\tTotal number of devices registered on particular customer |\n",
        "| PreferedOrderCat |\tText |\tPreferred order category of customer in last month |\n",
        "| SatisfactionScore |\tInteger |\tSatisfactory score of customer on service |\n",
        "| MaritalStatus |\tText |\tMarital status of customer |\n",
        "| NumberOfAddress |\tInteger |\tTotal number of address added on particular customer |\n",
        "| Complain |\tInteger |\tAny complaint has been raised in last month |\n",
        "| DaySinceLastOrder |\tFloat |\tDay Since last order by customer |\n",
        "| CashbackAmount |\tFloat |\tAverage cashback in last month |\n",
        "| Churn |\tBoolean |\tChurn Flag |"
      ],
      "metadata": {
        "id": "PFccNuQlwiWo"
      }
    },
    {
      "cell_type": "markdown",
      "source": [
        "Dataset source : https://drive.google.com/file/d/1Ipw3ZtQGEPTqkclBTmi_bA2Raor93UMr/view"
      ],
      "metadata": {
        "id": "d0h-TEEQMUMv"
      }
    },
    {
      "cell_type": "markdown",
      "source": [
        "### Reading Data"
      ],
      "metadata": {
        "id": "bZtXauBKhRnr"
      }
    },
    {
      "cell_type": "code",
      "source": [
        "!gdown 1Ipw3ZtQGEPTqkclBTmi_bA2Raor93UMr"
      ],
      "metadata": {
        "id": "uec_s1MdMlSq",
        "colab": {
          "base_uri": "https://localhost:8080/"
        },
        "outputId": "fdf56025-3f49-4f8d-e1d5-d234a94f017b"
      },
      "execution_count": 68,
      "outputs": [
        {
          "output_type": "stream",
          "name": "stdout",
          "text": [
            "Downloading...\n",
            "From: https://drive.google.com/uc?id=1Ipw3ZtQGEPTqkclBTmi_bA2Raor93UMr\n",
            "To: /content/data_ecommerce_customer_churn.csv\n",
            "\r  0% 0.00/207k [00:00<?, ?B/s]\r100% 207k/207k [00:00<00:00, 73.5MB/s]\n"
          ]
        }
      ]
    },
    {
      "cell_type": "code",
      "execution_count": 69,
      "metadata": {
        "colab": {
          "base_uri": "https://localhost:8080/",
          "height": 305
        },
        "id": "RxSkc2V2KvHK",
        "outputId": "ddec6f09-743e-4a2c-df60-a3e33fc00b1a"
      },
      "outputs": [
        {
          "output_type": "execute_result",
          "data": {
            "text/plain": [
              "   Tenure  WarehouseToHome  NumberOfDeviceRegistered    PreferedOrderCat  \\\n",
              "0    15.0             29.0                         4  Laptop & Accessory   \n",
              "1     7.0             25.0                         4              Mobile   \n",
              "2    27.0             13.0                         3  Laptop & Accessory   \n",
              "3    20.0             25.0                         4             Fashion   \n",
              "4    30.0             15.0                         4              Others   \n",
              "\n",
              "   SatisfactionScore MaritalStatus  NumberOfAddress  Complain  \\\n",
              "0                  3        Single                2         0   \n",
              "1                  1       Married                2         0   \n",
              "2                  1       Married                5         0   \n",
              "3                  3      Divorced                7         0   \n",
              "4                  4        Single                8         0   \n",
              "\n",
              "   DaySinceLastOrder  CashbackAmount  Churn  \n",
              "0                7.0          143.32      0  \n",
              "1                7.0          129.29      0  \n",
              "2                7.0          168.54      0  \n",
              "3                NaN          230.27      0  \n",
              "4                8.0          322.17      0  "
            ],
            "text/html": [
              "\n",
              "  <div id=\"df-2e87e963-cbd0-490d-b94a-e6e2b3f573e0\">\n",
              "    <div class=\"colab-df-container\">\n",
              "      <div>\n",
              "<style scoped>\n",
              "    .dataframe tbody tr th:only-of-type {\n",
              "        vertical-align: middle;\n",
              "    }\n",
              "\n",
              "    .dataframe tbody tr th {\n",
              "        vertical-align: top;\n",
              "    }\n",
              "\n",
              "    .dataframe thead th {\n",
              "        text-align: right;\n",
              "    }\n",
              "</style>\n",
              "<table border=\"1\" class=\"dataframe\">\n",
              "  <thead>\n",
              "    <tr style=\"text-align: right;\">\n",
              "      <th></th>\n",
              "      <th>Tenure</th>\n",
              "      <th>WarehouseToHome</th>\n",
              "      <th>NumberOfDeviceRegistered</th>\n",
              "      <th>PreferedOrderCat</th>\n",
              "      <th>SatisfactionScore</th>\n",
              "      <th>MaritalStatus</th>\n",
              "      <th>NumberOfAddress</th>\n",
              "      <th>Complain</th>\n",
              "      <th>DaySinceLastOrder</th>\n",
              "      <th>CashbackAmount</th>\n",
              "      <th>Churn</th>\n",
              "    </tr>\n",
              "  </thead>\n",
              "  <tbody>\n",
              "    <tr>\n",
              "      <th>0</th>\n",
              "      <td>15.0</td>\n",
              "      <td>29.0</td>\n",
              "      <td>4</td>\n",
              "      <td>Laptop &amp; Accessory</td>\n",
              "      <td>3</td>\n",
              "      <td>Single</td>\n",
              "      <td>2</td>\n",
              "      <td>0</td>\n",
              "      <td>7.0</td>\n",
              "      <td>143.32</td>\n",
              "      <td>0</td>\n",
              "    </tr>\n",
              "    <tr>\n",
              "      <th>1</th>\n",
              "      <td>7.0</td>\n",
              "      <td>25.0</td>\n",
              "      <td>4</td>\n",
              "      <td>Mobile</td>\n",
              "      <td>1</td>\n",
              "      <td>Married</td>\n",
              "      <td>2</td>\n",
              "      <td>0</td>\n",
              "      <td>7.0</td>\n",
              "      <td>129.29</td>\n",
              "      <td>0</td>\n",
              "    </tr>\n",
              "    <tr>\n",
              "      <th>2</th>\n",
              "      <td>27.0</td>\n",
              "      <td>13.0</td>\n",
              "      <td>3</td>\n",
              "      <td>Laptop &amp; Accessory</td>\n",
              "      <td>1</td>\n",
              "      <td>Married</td>\n",
              "      <td>5</td>\n",
              "      <td>0</td>\n",
              "      <td>7.0</td>\n",
              "      <td>168.54</td>\n",
              "      <td>0</td>\n",
              "    </tr>\n",
              "    <tr>\n",
              "      <th>3</th>\n",
              "      <td>20.0</td>\n",
              "      <td>25.0</td>\n",
              "      <td>4</td>\n",
              "      <td>Fashion</td>\n",
              "      <td>3</td>\n",
              "      <td>Divorced</td>\n",
              "      <td>7</td>\n",
              "      <td>0</td>\n",
              "      <td>NaN</td>\n",
              "      <td>230.27</td>\n",
              "      <td>0</td>\n",
              "    </tr>\n",
              "    <tr>\n",
              "      <th>4</th>\n",
              "      <td>30.0</td>\n",
              "      <td>15.0</td>\n",
              "      <td>4</td>\n",
              "      <td>Others</td>\n",
              "      <td>4</td>\n",
              "      <td>Single</td>\n",
              "      <td>8</td>\n",
              "      <td>0</td>\n",
              "      <td>8.0</td>\n",
              "      <td>322.17</td>\n",
              "      <td>0</td>\n",
              "    </tr>\n",
              "  </tbody>\n",
              "</table>\n",
              "</div>\n",
              "      <button class=\"colab-df-convert\" onclick=\"convertToInteractive('df-2e87e963-cbd0-490d-b94a-e6e2b3f573e0')\"\n",
              "              title=\"Convert this dataframe to an interactive table.\"\n",
              "              style=\"display:none;\">\n",
              "        \n",
              "  <svg xmlns=\"http://www.w3.org/2000/svg\" height=\"24px\"viewBox=\"0 0 24 24\"\n",
              "       width=\"24px\">\n",
              "    <path d=\"M0 0h24v24H0V0z\" fill=\"none\"/>\n",
              "    <path d=\"M18.56 5.44l.94 2.06.94-2.06 2.06-.94-2.06-.94-.94-2.06-.94 2.06-2.06.94zm-11 1L8.5 8.5l.94-2.06 2.06-.94-2.06-.94L8.5 2.5l-.94 2.06-2.06.94zm10 10l.94 2.06.94-2.06 2.06-.94-2.06-.94-.94-2.06-.94 2.06-2.06.94z\"/><path d=\"M17.41 7.96l-1.37-1.37c-.4-.4-.92-.59-1.43-.59-.52 0-1.04.2-1.43.59L10.3 9.45l-7.72 7.72c-.78.78-.78 2.05 0 2.83L4 21.41c.39.39.9.59 1.41.59.51 0 1.02-.2 1.41-.59l7.78-7.78 2.81-2.81c.8-.78.8-2.07 0-2.86zM5.41 20L4 18.59l7.72-7.72 1.47 1.35L5.41 20z\"/>\n",
              "  </svg>\n",
              "      </button>\n",
              "      \n",
              "  <style>\n",
              "    .colab-df-container {\n",
              "      display:flex;\n",
              "      flex-wrap:wrap;\n",
              "      gap: 12px;\n",
              "    }\n",
              "\n",
              "    .colab-df-convert {\n",
              "      background-color: #E8F0FE;\n",
              "      border: none;\n",
              "      border-radius: 50%;\n",
              "      cursor: pointer;\n",
              "      display: none;\n",
              "      fill: #1967D2;\n",
              "      height: 32px;\n",
              "      padding: 0 0 0 0;\n",
              "      width: 32px;\n",
              "    }\n",
              "\n",
              "    .colab-df-convert:hover {\n",
              "      background-color: #E2EBFA;\n",
              "      box-shadow: 0px 1px 2px rgba(60, 64, 67, 0.3), 0px 1px 3px 1px rgba(60, 64, 67, 0.15);\n",
              "      fill: #174EA6;\n",
              "    }\n",
              "\n",
              "    [theme=dark] .colab-df-convert {\n",
              "      background-color: #3B4455;\n",
              "      fill: #D2E3FC;\n",
              "    }\n",
              "\n",
              "    [theme=dark] .colab-df-convert:hover {\n",
              "      background-color: #434B5C;\n",
              "      box-shadow: 0px 1px 3px 1px rgba(0, 0, 0, 0.15);\n",
              "      filter: drop-shadow(0px 1px 2px rgba(0, 0, 0, 0.3));\n",
              "      fill: #FFFFFF;\n",
              "    }\n",
              "  </style>\n",
              "\n",
              "      <script>\n",
              "        const buttonEl =\n",
              "          document.querySelector('#df-2e87e963-cbd0-490d-b94a-e6e2b3f573e0 button.colab-df-convert');\n",
              "        buttonEl.style.display =\n",
              "          google.colab.kernel.accessAllowed ? 'block' : 'none';\n",
              "\n",
              "        async function convertToInteractive(key) {\n",
              "          const element = document.querySelector('#df-2e87e963-cbd0-490d-b94a-e6e2b3f573e0');\n",
              "          const dataTable =\n",
              "            await google.colab.kernel.invokeFunction('convertToInteractive',\n",
              "                                                     [key], {});\n",
              "          if (!dataTable) return;\n",
              "\n",
              "          const docLinkHtml = 'Like what you see? Visit the ' +\n",
              "            '<a target=\"_blank\" href=https://colab.research.google.com/notebooks/data_table.ipynb>data table notebook</a>'\n",
              "            + ' to learn more about interactive tables.';\n",
              "          element.innerHTML = '';\n",
              "          dataTable['output_type'] = 'display_data';\n",
              "          await google.colab.output.renderOutput(dataTable, element);\n",
              "          const docLink = document.createElement('div');\n",
              "          docLink.innerHTML = docLinkHtml;\n",
              "          element.appendChild(docLink);\n",
              "        }\n",
              "      </script>\n",
              "    </div>\n",
              "  </div>\n",
              "  "
            ]
          },
          "metadata": {},
          "execution_count": 69
        }
      ],
      "source": [
        "#Load Dataset\n",
        "df = pd.read_csv('data_ecommerce_customer_churn.csv')\n",
        "df.head()"
      ]
    },
    {
      "cell_type": "code",
      "source": [
        "# Count and Datatype for each Column\n",
        "df.info()"
      ],
      "metadata": {
        "colab": {
          "base_uri": "https://localhost:8080/"
        },
        "id": "gZIwj1gJNyZB",
        "outputId": "81e669d1-bfc3-448e-db24-7026e192502d"
      },
      "execution_count": 70,
      "outputs": [
        {
          "output_type": "stream",
          "name": "stdout",
          "text": [
            "<class 'pandas.core.frame.DataFrame'>\n",
            "RangeIndex: 3941 entries, 0 to 3940\n",
            "Data columns (total 11 columns):\n",
            " #   Column                    Non-Null Count  Dtype  \n",
            "---  ------                    --------------  -----  \n",
            " 0   Tenure                    3747 non-null   float64\n",
            " 1   WarehouseToHome           3772 non-null   float64\n",
            " 2   NumberOfDeviceRegistered  3941 non-null   int64  \n",
            " 3   PreferedOrderCat          3941 non-null   object \n",
            " 4   SatisfactionScore         3941 non-null   int64  \n",
            " 5   MaritalStatus             3941 non-null   object \n",
            " 6   NumberOfAddress           3941 non-null   int64  \n",
            " 7   Complain                  3941 non-null   int64  \n",
            " 8   DaySinceLastOrder         3728 non-null   float64\n",
            " 9   CashbackAmount            3941 non-null   float64\n",
            " 10  Churn                     3941 non-null   int64  \n",
            "dtypes: float64(4), int64(5), object(2)\n",
            "memory usage: 338.8+ KB\n"
          ]
        }
      ]
    },
    {
      "cell_type": "code",
      "source": [
        "listItem = []\n",
        "for col in df.columns :\n",
        "    listItem.append([col, df[col].dtype, df[col].isna().sum(), round((df[col].isna().sum()/len(df[col])) * 100,2),\n",
        "                    df[col].nunique(), list(df[col].drop_duplicates().sample(2).values)]);\n",
        "\n",
        "dfDesc = pd.DataFrame(columns=['dataFeatures', 'dataType', 'null', 'nullPct', 'unique', 'uniqueSample'],\n",
        "                     data=listItem)\n",
        "dfDesc"
      ],
      "metadata": {
        "colab": {
          "base_uri": "https://localhost:8080/",
          "height": 394
        },
        "id": "-515eXtFN_5O",
        "outputId": "0039ba49-c77e-46f6-d6ad-9154e8ec2f8a"
      },
      "execution_count": 71,
      "outputs": [
        {
          "output_type": "execute_result",
          "data": {
            "text/plain": [
              "                dataFeatures dataType  null  nullPct  unique  \\\n",
              "0                     Tenure  float64   194     4.92      36   \n",
              "1            WarehouseToHome  float64   169     4.29      33   \n",
              "2   NumberOfDeviceRegistered    int64     0     0.00       6   \n",
              "3           PreferedOrderCat   object     0     0.00       6   \n",
              "4          SatisfactionScore    int64     0     0.00       5   \n",
              "5              MaritalStatus   object     0     0.00       3   \n",
              "6            NumberOfAddress    int64     0     0.00      14   \n",
              "7                   Complain    int64     0     0.00       2   \n",
              "8          DaySinceLastOrder  float64   213     5.40      22   \n",
              "9             CashbackAmount  float64     0     0.00    2335   \n",
              "10                     Churn    int64     0     0.00       2   \n",
              "\n",
              "           uniqueSample  \n",
              "0          [61.0, 60.0]  \n",
              "1           [5.0, 13.0]  \n",
              "2                [2, 1]  \n",
              "3     [Mobile, Fashion]  \n",
              "4                [1, 4]  \n",
              "5   [Married, Divorced]  \n",
              "6               [8, 11]  \n",
              "7                [1, 0]  \n",
              "8            [6.0, 8.0]  \n",
              "9      [209.74, 127.42]  \n",
              "10               [1, 0]  "
            ],
            "text/html": [
              "\n",
              "  <div id=\"df-bdfd8083-0ce6-4a6d-8c92-094c0f968a30\">\n",
              "    <div class=\"colab-df-container\">\n",
              "      <div>\n",
              "<style scoped>\n",
              "    .dataframe tbody tr th:only-of-type {\n",
              "        vertical-align: middle;\n",
              "    }\n",
              "\n",
              "    .dataframe tbody tr th {\n",
              "        vertical-align: top;\n",
              "    }\n",
              "\n",
              "    .dataframe thead th {\n",
              "        text-align: right;\n",
              "    }\n",
              "</style>\n",
              "<table border=\"1\" class=\"dataframe\">\n",
              "  <thead>\n",
              "    <tr style=\"text-align: right;\">\n",
              "      <th></th>\n",
              "      <th>dataFeatures</th>\n",
              "      <th>dataType</th>\n",
              "      <th>null</th>\n",
              "      <th>nullPct</th>\n",
              "      <th>unique</th>\n",
              "      <th>uniqueSample</th>\n",
              "    </tr>\n",
              "  </thead>\n",
              "  <tbody>\n",
              "    <tr>\n",
              "      <th>0</th>\n",
              "      <td>Tenure</td>\n",
              "      <td>float64</td>\n",
              "      <td>194</td>\n",
              "      <td>4.92</td>\n",
              "      <td>36</td>\n",
              "      <td>[61.0, 60.0]</td>\n",
              "    </tr>\n",
              "    <tr>\n",
              "      <th>1</th>\n",
              "      <td>WarehouseToHome</td>\n",
              "      <td>float64</td>\n",
              "      <td>169</td>\n",
              "      <td>4.29</td>\n",
              "      <td>33</td>\n",
              "      <td>[5.0, 13.0]</td>\n",
              "    </tr>\n",
              "    <tr>\n",
              "      <th>2</th>\n",
              "      <td>NumberOfDeviceRegistered</td>\n",
              "      <td>int64</td>\n",
              "      <td>0</td>\n",
              "      <td>0.00</td>\n",
              "      <td>6</td>\n",
              "      <td>[2, 1]</td>\n",
              "    </tr>\n",
              "    <tr>\n",
              "      <th>3</th>\n",
              "      <td>PreferedOrderCat</td>\n",
              "      <td>object</td>\n",
              "      <td>0</td>\n",
              "      <td>0.00</td>\n",
              "      <td>6</td>\n",
              "      <td>[Mobile, Fashion]</td>\n",
              "    </tr>\n",
              "    <tr>\n",
              "      <th>4</th>\n",
              "      <td>SatisfactionScore</td>\n",
              "      <td>int64</td>\n",
              "      <td>0</td>\n",
              "      <td>0.00</td>\n",
              "      <td>5</td>\n",
              "      <td>[1, 4]</td>\n",
              "    </tr>\n",
              "    <tr>\n",
              "      <th>5</th>\n",
              "      <td>MaritalStatus</td>\n",
              "      <td>object</td>\n",
              "      <td>0</td>\n",
              "      <td>0.00</td>\n",
              "      <td>3</td>\n",
              "      <td>[Married, Divorced]</td>\n",
              "    </tr>\n",
              "    <tr>\n",
              "      <th>6</th>\n",
              "      <td>NumberOfAddress</td>\n",
              "      <td>int64</td>\n",
              "      <td>0</td>\n",
              "      <td>0.00</td>\n",
              "      <td>14</td>\n",
              "      <td>[8, 11]</td>\n",
              "    </tr>\n",
              "    <tr>\n",
              "      <th>7</th>\n",
              "      <td>Complain</td>\n",
              "      <td>int64</td>\n",
              "      <td>0</td>\n",
              "      <td>0.00</td>\n",
              "      <td>2</td>\n",
              "      <td>[1, 0]</td>\n",
              "    </tr>\n",
              "    <tr>\n",
              "      <th>8</th>\n",
              "      <td>DaySinceLastOrder</td>\n",
              "      <td>float64</td>\n",
              "      <td>213</td>\n",
              "      <td>5.40</td>\n",
              "      <td>22</td>\n",
              "      <td>[6.0, 8.0]</td>\n",
              "    </tr>\n",
              "    <tr>\n",
              "      <th>9</th>\n",
              "      <td>CashbackAmount</td>\n",
              "      <td>float64</td>\n",
              "      <td>0</td>\n",
              "      <td>0.00</td>\n",
              "      <td>2335</td>\n",
              "      <td>[209.74, 127.42]</td>\n",
              "    </tr>\n",
              "    <tr>\n",
              "      <th>10</th>\n",
              "      <td>Churn</td>\n",
              "      <td>int64</td>\n",
              "      <td>0</td>\n",
              "      <td>0.00</td>\n",
              "      <td>2</td>\n",
              "      <td>[1, 0]</td>\n",
              "    </tr>\n",
              "  </tbody>\n",
              "</table>\n",
              "</div>\n",
              "      <button class=\"colab-df-convert\" onclick=\"convertToInteractive('df-bdfd8083-0ce6-4a6d-8c92-094c0f968a30')\"\n",
              "              title=\"Convert this dataframe to an interactive table.\"\n",
              "              style=\"display:none;\">\n",
              "        \n",
              "  <svg xmlns=\"http://www.w3.org/2000/svg\" height=\"24px\"viewBox=\"0 0 24 24\"\n",
              "       width=\"24px\">\n",
              "    <path d=\"M0 0h24v24H0V0z\" fill=\"none\"/>\n",
              "    <path d=\"M18.56 5.44l.94 2.06.94-2.06 2.06-.94-2.06-.94-.94-2.06-.94 2.06-2.06.94zm-11 1L8.5 8.5l.94-2.06 2.06-.94-2.06-.94L8.5 2.5l-.94 2.06-2.06.94zm10 10l.94 2.06.94-2.06 2.06-.94-2.06-.94-.94-2.06-.94 2.06-2.06.94z\"/><path d=\"M17.41 7.96l-1.37-1.37c-.4-.4-.92-.59-1.43-.59-.52 0-1.04.2-1.43.59L10.3 9.45l-7.72 7.72c-.78.78-.78 2.05 0 2.83L4 21.41c.39.39.9.59 1.41.59.51 0 1.02-.2 1.41-.59l7.78-7.78 2.81-2.81c.8-.78.8-2.07 0-2.86zM5.41 20L4 18.59l7.72-7.72 1.47 1.35L5.41 20z\"/>\n",
              "  </svg>\n",
              "      </button>\n",
              "      \n",
              "  <style>\n",
              "    .colab-df-container {\n",
              "      display:flex;\n",
              "      flex-wrap:wrap;\n",
              "      gap: 12px;\n",
              "    }\n",
              "\n",
              "    .colab-df-convert {\n",
              "      background-color: #E8F0FE;\n",
              "      border: none;\n",
              "      border-radius: 50%;\n",
              "      cursor: pointer;\n",
              "      display: none;\n",
              "      fill: #1967D2;\n",
              "      height: 32px;\n",
              "      padding: 0 0 0 0;\n",
              "      width: 32px;\n",
              "    }\n",
              "\n",
              "    .colab-df-convert:hover {\n",
              "      background-color: #E2EBFA;\n",
              "      box-shadow: 0px 1px 2px rgba(60, 64, 67, 0.3), 0px 1px 3px 1px rgba(60, 64, 67, 0.15);\n",
              "      fill: #174EA6;\n",
              "    }\n",
              "\n",
              "    [theme=dark] .colab-df-convert {\n",
              "      background-color: #3B4455;\n",
              "      fill: #D2E3FC;\n",
              "    }\n",
              "\n",
              "    [theme=dark] .colab-df-convert:hover {\n",
              "      background-color: #434B5C;\n",
              "      box-shadow: 0px 1px 3px 1px rgba(0, 0, 0, 0.15);\n",
              "      filter: drop-shadow(0px 1px 2px rgba(0, 0, 0, 0.3));\n",
              "      fill: #FFFFFF;\n",
              "    }\n",
              "  </style>\n",
              "\n",
              "      <script>\n",
              "        const buttonEl =\n",
              "          document.querySelector('#df-bdfd8083-0ce6-4a6d-8c92-094c0f968a30 button.colab-df-convert');\n",
              "        buttonEl.style.display =\n",
              "          google.colab.kernel.accessAllowed ? 'block' : 'none';\n",
              "\n",
              "        async function convertToInteractive(key) {\n",
              "          const element = document.querySelector('#df-bdfd8083-0ce6-4a6d-8c92-094c0f968a30');\n",
              "          const dataTable =\n",
              "            await google.colab.kernel.invokeFunction('convertToInteractive',\n",
              "                                                     [key], {});\n",
              "          if (!dataTable) return;\n",
              "\n",
              "          const docLinkHtml = 'Like what you see? Visit the ' +\n",
              "            '<a target=\"_blank\" href=https://colab.research.google.com/notebooks/data_table.ipynb>data table notebook</a>'\n",
              "            + ' to learn more about interactive tables.';\n",
              "          element.innerHTML = '';\n",
              "          dataTable['output_type'] = 'display_data';\n",
              "          await google.colab.output.renderOutput(dataTable, element);\n",
              "          const docLink = document.createElement('div');\n",
              "          docLink.innerHTML = docLinkHtml;\n",
              "          element.appendChild(docLink);\n",
              "        }\n",
              "      </script>\n",
              "    </div>\n",
              "  </div>\n",
              "  "
            ]
          },
          "metadata": {},
          "execution_count": 71
        }
      ]
    },
    {
      "cell_type": "markdown",
      "source": [
        "Berdasarkan informasi diatas diketahui bahwa dalam dataset terdapat 11 kolom dan 5624 baris. Dengan komposisi sebagai berikut:\n",
        "\n",
        "- 2 data bertipe object\n",
        "- 4 data bertipe integer\n",
        "- 4 data bertipe float, dan\n",
        "- 1 data bertipe boolean. (Churn)"
      ],
      "metadata": {
        "id": "dnuiWMMlis9Z"
      }
    },
    {
      "cell_type": "markdown",
      "source": [
        "Terdapat beberapa variabel yang memiliki missing value, yaitu:\n",
        "\n",
        "- Tenure (4.92 %)\n",
        "- WarehouseToHome (4.29 %)\n",
        "- DaySinceLastOrder (5.4 %)\n",
        "\n",
        "Kebanyakan dari variabel ini adalah variabel continous sehingga missing value perlu diberikan perlakuan agar siap digunakan dalam model machine learning."
      ],
      "metadata": {
        "id": "hn1iciBodG6H"
      }
    },
    {
      "cell_type": "markdown",
      "source": [
        "## Data Cleaning\n",
        "\n",
        "Ada data yang hilang/kosong di beberapa fitur/kolom. Maka dari itu, kita akan memperbaiki semua datanya dan membuatnya menjadi siap pakai untuk melakukan analisis terhadap masalahnya dan juga pembuatan model machine learningnya."
      ],
      "metadata": {
        "id": "_EgBGVg4N9rc"
      }
    },
    {
      "cell_type": "markdown",
      "source": [
        "### Duplicated Data"
      ],
      "metadata": {
        "id": "oKSNalPQhffw"
      }
    },
    {
      "cell_type": "code",
      "source": [
        "# Check for Duplicates\n",
        "df[df.duplicated()]"
      ],
      "metadata": {
        "colab": {
          "base_uri": "https://localhost:8080/",
          "height": 592
        },
        "id": "34dVm03VXUXn",
        "outputId": "a523557c-3489-421e-9ef1-21f6be46e4e0"
      },
      "execution_count": 72,
      "outputs": [
        {
          "output_type": "execute_result",
          "data": {
            "text/plain": [
              "      Tenure  WarehouseToHome  NumberOfDeviceRegistered    PreferedOrderCat  \\\n",
              "70       1.0             11.0                         4        Mobile Phone   \n",
              "128      1.0             10.0                         4        Mobile Phone   \n",
              "194     18.0             26.0                         3  Laptop & Accessory   \n",
              "253     19.0              6.0                         3             Fashion   \n",
              "289     16.0             36.0                         4  Laptop & Accessory   \n",
              "...      ...              ...                       ...                 ...   \n",
              "3930    22.0             17.0                         3  Laptop & Accessory   \n",
              "3932    20.0             15.0                         5  Laptop & Accessory   \n",
              "3934    10.0             25.0                         3  Laptop & Accessory   \n",
              "3938    30.0              6.0                         5  Laptop & Accessory   \n",
              "3939     6.0              NaN                         4              Mobile   \n",
              "\n",
              "      SatisfactionScore MaritalStatus  NumberOfAddress  Complain  \\\n",
              "70                    5        Single                3         0   \n",
              "128                   1        Single                3         1   \n",
              "194                   3        Single                9         0   \n",
              "253                   5       Married                2         0   \n",
              "289                   3       Married                4         0   \n",
              "...                 ...           ...              ...       ...   \n",
              "3930                  1        Single                4         0   \n",
              "3932                  5       Married               10         1   \n",
              "3934                  3       Married                4         0   \n",
              "3938                  3       Married                3         1   \n",
              "3939                  3       Married               10         1   \n",
              "\n",
              "      DaySinceLastOrder  CashbackAmount  Churn  \n",
              "70                  1.0          154.73      1  \n",
              "128                 1.0          140.69      1  \n",
              "194                 1.0          148.50      0  \n",
              "253                 7.0          204.53      0  \n",
              "289                 3.0          170.56      0  \n",
              "...                 ...             ...    ...  \n",
              "3930                4.0          145.07      0  \n",
              "3932                8.0          171.15      0  \n",
              "3934                2.0          157.68      0  \n",
              "3938                2.0          156.60      0  \n",
              "3939                0.0          124.37      1  \n",
              "\n",
              "[671 rows x 11 columns]"
            ],
            "text/html": [
              "\n",
              "  <div id=\"df-02ffb827-71ce-4378-9e50-447448e7996b\">\n",
              "    <div class=\"colab-df-container\">\n",
              "      <div>\n",
              "<style scoped>\n",
              "    .dataframe tbody tr th:only-of-type {\n",
              "        vertical-align: middle;\n",
              "    }\n",
              "\n",
              "    .dataframe tbody tr th {\n",
              "        vertical-align: top;\n",
              "    }\n",
              "\n",
              "    .dataframe thead th {\n",
              "        text-align: right;\n",
              "    }\n",
              "</style>\n",
              "<table border=\"1\" class=\"dataframe\">\n",
              "  <thead>\n",
              "    <tr style=\"text-align: right;\">\n",
              "      <th></th>\n",
              "      <th>Tenure</th>\n",
              "      <th>WarehouseToHome</th>\n",
              "      <th>NumberOfDeviceRegistered</th>\n",
              "      <th>PreferedOrderCat</th>\n",
              "      <th>SatisfactionScore</th>\n",
              "      <th>MaritalStatus</th>\n",
              "      <th>NumberOfAddress</th>\n",
              "      <th>Complain</th>\n",
              "      <th>DaySinceLastOrder</th>\n",
              "      <th>CashbackAmount</th>\n",
              "      <th>Churn</th>\n",
              "    </tr>\n",
              "  </thead>\n",
              "  <tbody>\n",
              "    <tr>\n",
              "      <th>70</th>\n",
              "      <td>1.0</td>\n",
              "      <td>11.0</td>\n",
              "      <td>4</td>\n",
              "      <td>Mobile Phone</td>\n",
              "      <td>5</td>\n",
              "      <td>Single</td>\n",
              "      <td>3</td>\n",
              "      <td>0</td>\n",
              "      <td>1.0</td>\n",
              "      <td>154.73</td>\n",
              "      <td>1</td>\n",
              "    </tr>\n",
              "    <tr>\n",
              "      <th>128</th>\n",
              "      <td>1.0</td>\n",
              "      <td>10.0</td>\n",
              "      <td>4</td>\n",
              "      <td>Mobile Phone</td>\n",
              "      <td>1</td>\n",
              "      <td>Single</td>\n",
              "      <td>3</td>\n",
              "      <td>1</td>\n",
              "      <td>1.0</td>\n",
              "      <td>140.69</td>\n",
              "      <td>1</td>\n",
              "    </tr>\n",
              "    <tr>\n",
              "      <th>194</th>\n",
              "      <td>18.0</td>\n",
              "      <td>26.0</td>\n",
              "      <td>3</td>\n",
              "      <td>Laptop &amp; Accessory</td>\n",
              "      <td>3</td>\n",
              "      <td>Single</td>\n",
              "      <td>9</td>\n",
              "      <td>0</td>\n",
              "      <td>1.0</td>\n",
              "      <td>148.50</td>\n",
              "      <td>0</td>\n",
              "    </tr>\n",
              "    <tr>\n",
              "      <th>253</th>\n",
              "      <td>19.0</td>\n",
              "      <td>6.0</td>\n",
              "      <td>3</td>\n",
              "      <td>Fashion</td>\n",
              "      <td>5</td>\n",
              "      <td>Married</td>\n",
              "      <td>2</td>\n",
              "      <td>0</td>\n",
              "      <td>7.0</td>\n",
              "      <td>204.53</td>\n",
              "      <td>0</td>\n",
              "    </tr>\n",
              "    <tr>\n",
              "      <th>289</th>\n",
              "      <td>16.0</td>\n",
              "      <td>36.0</td>\n",
              "      <td>4</td>\n",
              "      <td>Laptop &amp; Accessory</td>\n",
              "      <td>3</td>\n",
              "      <td>Married</td>\n",
              "      <td>4</td>\n",
              "      <td>0</td>\n",
              "      <td>3.0</td>\n",
              "      <td>170.56</td>\n",
              "      <td>0</td>\n",
              "    </tr>\n",
              "    <tr>\n",
              "      <th>...</th>\n",
              "      <td>...</td>\n",
              "      <td>...</td>\n",
              "      <td>...</td>\n",
              "      <td>...</td>\n",
              "      <td>...</td>\n",
              "      <td>...</td>\n",
              "      <td>...</td>\n",
              "      <td>...</td>\n",
              "      <td>...</td>\n",
              "      <td>...</td>\n",
              "      <td>...</td>\n",
              "    </tr>\n",
              "    <tr>\n",
              "      <th>3930</th>\n",
              "      <td>22.0</td>\n",
              "      <td>17.0</td>\n",
              "      <td>3</td>\n",
              "      <td>Laptop &amp; Accessory</td>\n",
              "      <td>1</td>\n",
              "      <td>Single</td>\n",
              "      <td>4</td>\n",
              "      <td>0</td>\n",
              "      <td>4.0</td>\n",
              "      <td>145.07</td>\n",
              "      <td>0</td>\n",
              "    </tr>\n",
              "    <tr>\n",
              "      <th>3932</th>\n",
              "      <td>20.0</td>\n",
              "      <td>15.0</td>\n",
              "      <td>5</td>\n",
              "      <td>Laptop &amp; Accessory</td>\n",
              "      <td>5</td>\n",
              "      <td>Married</td>\n",
              "      <td>10</td>\n",
              "      <td>1</td>\n",
              "      <td>8.0</td>\n",
              "      <td>171.15</td>\n",
              "      <td>0</td>\n",
              "    </tr>\n",
              "    <tr>\n",
              "      <th>3934</th>\n",
              "      <td>10.0</td>\n",
              "      <td>25.0</td>\n",
              "      <td>3</td>\n",
              "      <td>Laptop &amp; Accessory</td>\n",
              "      <td>3</td>\n",
              "      <td>Married</td>\n",
              "      <td>4</td>\n",
              "      <td>0</td>\n",
              "      <td>2.0</td>\n",
              "      <td>157.68</td>\n",
              "      <td>0</td>\n",
              "    </tr>\n",
              "    <tr>\n",
              "      <th>3938</th>\n",
              "      <td>30.0</td>\n",
              "      <td>6.0</td>\n",
              "      <td>5</td>\n",
              "      <td>Laptop &amp; Accessory</td>\n",
              "      <td>3</td>\n",
              "      <td>Married</td>\n",
              "      <td>3</td>\n",
              "      <td>1</td>\n",
              "      <td>2.0</td>\n",
              "      <td>156.60</td>\n",
              "      <td>0</td>\n",
              "    </tr>\n",
              "    <tr>\n",
              "      <th>3939</th>\n",
              "      <td>6.0</td>\n",
              "      <td>NaN</td>\n",
              "      <td>4</td>\n",
              "      <td>Mobile</td>\n",
              "      <td>3</td>\n",
              "      <td>Married</td>\n",
              "      <td>10</td>\n",
              "      <td>1</td>\n",
              "      <td>0.0</td>\n",
              "      <td>124.37</td>\n",
              "      <td>1</td>\n",
              "    </tr>\n",
              "  </tbody>\n",
              "</table>\n",
              "<p>671 rows × 11 columns</p>\n",
              "</div>\n",
              "      <button class=\"colab-df-convert\" onclick=\"convertToInteractive('df-02ffb827-71ce-4378-9e50-447448e7996b')\"\n",
              "              title=\"Convert this dataframe to an interactive table.\"\n",
              "              style=\"display:none;\">\n",
              "        \n",
              "  <svg xmlns=\"http://www.w3.org/2000/svg\" height=\"24px\"viewBox=\"0 0 24 24\"\n",
              "       width=\"24px\">\n",
              "    <path d=\"M0 0h24v24H0V0z\" fill=\"none\"/>\n",
              "    <path d=\"M18.56 5.44l.94 2.06.94-2.06 2.06-.94-2.06-.94-.94-2.06-.94 2.06-2.06.94zm-11 1L8.5 8.5l.94-2.06 2.06-.94-2.06-.94L8.5 2.5l-.94 2.06-2.06.94zm10 10l.94 2.06.94-2.06 2.06-.94-2.06-.94-.94-2.06-.94 2.06-2.06.94z\"/><path d=\"M17.41 7.96l-1.37-1.37c-.4-.4-.92-.59-1.43-.59-.52 0-1.04.2-1.43.59L10.3 9.45l-7.72 7.72c-.78.78-.78 2.05 0 2.83L4 21.41c.39.39.9.59 1.41.59.51 0 1.02-.2 1.41-.59l7.78-7.78 2.81-2.81c.8-.78.8-2.07 0-2.86zM5.41 20L4 18.59l7.72-7.72 1.47 1.35L5.41 20z\"/>\n",
              "  </svg>\n",
              "      </button>\n",
              "      \n",
              "  <style>\n",
              "    .colab-df-container {\n",
              "      display:flex;\n",
              "      flex-wrap:wrap;\n",
              "      gap: 12px;\n",
              "    }\n",
              "\n",
              "    .colab-df-convert {\n",
              "      background-color: #E8F0FE;\n",
              "      border: none;\n",
              "      border-radius: 50%;\n",
              "      cursor: pointer;\n",
              "      display: none;\n",
              "      fill: #1967D2;\n",
              "      height: 32px;\n",
              "      padding: 0 0 0 0;\n",
              "      width: 32px;\n",
              "    }\n",
              "\n",
              "    .colab-df-convert:hover {\n",
              "      background-color: #E2EBFA;\n",
              "      box-shadow: 0px 1px 2px rgba(60, 64, 67, 0.3), 0px 1px 3px 1px rgba(60, 64, 67, 0.15);\n",
              "      fill: #174EA6;\n",
              "    }\n",
              "\n",
              "    [theme=dark] .colab-df-convert {\n",
              "      background-color: #3B4455;\n",
              "      fill: #D2E3FC;\n",
              "    }\n",
              "\n",
              "    [theme=dark] .colab-df-convert:hover {\n",
              "      background-color: #434B5C;\n",
              "      box-shadow: 0px 1px 3px 1px rgba(0, 0, 0, 0.15);\n",
              "      filter: drop-shadow(0px 1px 2px rgba(0, 0, 0, 0.3));\n",
              "      fill: #FFFFFF;\n",
              "    }\n",
              "  </style>\n",
              "\n",
              "      <script>\n",
              "        const buttonEl =\n",
              "          document.querySelector('#df-02ffb827-71ce-4378-9e50-447448e7996b button.colab-df-convert');\n",
              "        buttonEl.style.display =\n",
              "          google.colab.kernel.accessAllowed ? 'block' : 'none';\n",
              "\n",
              "        async function convertToInteractive(key) {\n",
              "          const element = document.querySelector('#df-02ffb827-71ce-4378-9e50-447448e7996b');\n",
              "          const dataTable =\n",
              "            await google.colab.kernel.invokeFunction('convertToInteractive',\n",
              "                                                     [key], {});\n",
              "          if (!dataTable) return;\n",
              "\n",
              "          const docLinkHtml = 'Like what you see? Visit the ' +\n",
              "            '<a target=\"_blank\" href=https://colab.research.google.com/notebooks/data_table.ipynb>data table notebook</a>'\n",
              "            + ' to learn more about interactive tables.';\n",
              "          element.innerHTML = '';\n",
              "          dataTable['output_type'] = 'display_data';\n",
              "          await google.colab.output.renderOutput(dataTable, element);\n",
              "          const docLink = document.createElement('div');\n",
              "          docLink.innerHTML = docLinkHtml;\n",
              "          element.appendChild(docLink);\n",
              "        }\n",
              "      </script>\n",
              "    </div>\n",
              "  </div>\n",
              "  "
            ]
          },
          "metadata": {},
          "execution_count": 72
        }
      ]
    },
    {
      "cell_type": "markdown",
      "source": [
        "tanpa adanya id transaksi ataupun id pelanggan, kita tidak bisa memastikan data duplikat di atas merupakan data duplikat asli atau hanya transaksi yang diulang pelanggan.\n",
        "\n",
        "Maka dari itu, tidak diperlukan perlakuan khusus terhadap data duplikat."
      ],
      "metadata": {
        "id": "uPiJayvThi7n"
      }
    },
    {
      "cell_type": "markdown",
      "source": [
        "### Missing Value"
      ],
      "metadata": {
        "id": "2CXvW8x7awti"
      }
    },
    {
      "cell_type": "markdown",
      "source": [
        "Missing Values dapat dikategorikan dalam 3 jenis:\n",
        "- **Missing at Random (MAR)**: Data yang hilang pada suatu variabel terkait dengan beberapa variabel terukur lainnya dalam model analisis, tetapi tidak terkait dengan nilai variabel itu sendiri.\n",
        "- **Missing Completely at Random (MCAR)**: Data yang hilang pada suatu variabel tidak terkait dengan variabel terukur lainnya dan tidak terkait dengan nilai variabel itu sendiri.\n",
        "- **Missing Not at Random (MNAR)**: Data yang hilang pada suatu variabel terkait dengan nilai variabel itu sendiri, bahkan setelah mengontrol variabel lain."
      ],
      "metadata": {
        "id": "A86MdI9BWhMp"
      }
    },
    {
      "cell_type": "markdown",
      "source": [
        "#### Bar Plot"
      ],
      "metadata": {
        "id": "L-nGaBsegivs"
      }
    },
    {
      "cell_type": "code",
      "source": [
        "# Bar Plot\n",
        "missingno.bar(df,color=\"dodgerblue\", sort=\"ascending\", figsize=(10,5), fontsize=12);"
      ],
      "metadata": {
        "colab": {
          "base_uri": "https://localhost:8080/",
          "height": 480
        },
        "id": "lwTqbkIdZvxH",
        "outputId": "3941eb07-b3f8-495c-aa67-db7fe45ce1eb"
      },
      "execution_count": 73,
      "outputs": [
        {
          "output_type": "display_data",
          "data": {
            "text/plain": [
              "<Figure size 720x360 with 3 Axes>"
            ],
            "image/png": "[encoded data removed]"
          },
          "metadata": {}
        }
      ]
    },
    {
      "cell_type": "markdown",
      "source": [
        "Terlihat dari Bar Plot tersebut, bahwa kolom DaySinceLastOrder, Tenure, dan WarehouseToHome memiliki missing values atau data yang hilang. (informasi ini sebenarnya dapat dilihat juga di tabel di atas)\n",
        "\n",
        "Kemudian berdasarkan Bar Plot tersebut juga, kolom DaySinceLastOrder adalah kolom yang memiliki data yang hilang terbanyak, sedangkan kolom WarehouseToHome memiliki hanya sedikit saja data yang hilang."
      ],
      "metadata": {
        "id": "HiXzJfBHaANA"
      }
    },
    {
      "cell_type": "markdown",
      "source": [
        "#### Matrix Plot"
      ],
      "metadata": {
        "id": "Sb6XPIf_gf5P"
      }
    },
    {
      "cell_type": "code",
      "source": [
        "# Matrix Plot\n",
        "missingno.matrix(df)"
      ],
      "metadata": {
        "id": "dJGN2HOnadLG",
        "colab": {
          "base_uri": "https://localhost:8080/",
          "height": 594
        },
        "outputId": "28e14edb-1172-4dbf-fb4b-e828312eda55"
      },
      "execution_count": 74,
      "outputs": [
        {
          "output_type": "execute_result",
          "data": {
            "text/plain": [
              "<matplotlib.axes._subplots.AxesSubplot at 0x7fbd75d6c9d0>"
            ]
          },
          "metadata": {},
          "execution_count": 74
        },
        {
          "output_type": "display_data",
          "data": {
            "text/plain": [
              "<Figure size 1800x720 with 2 Axes>"
            ],
            "image/png": "[encoded data removed]"
          },
          "metadata": {}
        }
      ]
    },
    {
      "cell_type": "markdown",
      "source": [
        "Terlihat bahwa missing value/data yang hilang pada setiap kolom memiliki pola yang cukup acak. "
      ],
      "metadata": {
        "id": "W4YG3Yzyagf8"
      }
    },
    {
      "cell_type": "markdown",
      "source": [
        "#### Heatmap"
      ],
      "metadata": {
        "id": "3szfcdS3a1F7"
      }
    },
    {
      "cell_type": "markdown",
      "source": [
        "Di bawah ini kita memplot Heatmap yang menunjukkan korelasi nulitas antara berbagai kolom yang memiliki data yang hilang pada dataset kita.\n",
        "\n",
        "Korelasi nulitas berkisar dari -1 hingga 1.\n",
        "\n",
        "- -1 - Korelasi Negatif yang menyatakan bahwa jika nilai satu variabel ada maka nilai variabel lain pasti tidak ada.\n",
        "- 0 - Tidak ada korelasi yang menyatakan bahwa nilai variabel yang ada atau tidak ada tidak berpengaruh satu sama lain.\n",
        "- 1 - Korelasi Positif yang menyatakan bahwa jika nilai satu variabel ada maka nilai yang lain pasti ada"
      ],
      "metadata": {
        "id": "XHqKQNfpa29q"
      }
    },
    {
      "cell_type": "code",
      "source": [
        "missingno.heatmap(df, cmap=\"RdYlGn\", figsize=(10,5), fontsize=12);"
      ],
      "metadata": {
        "id": "vWRU1-V1biIC",
        "colab": {
          "base_uri": "https://localhost:8080/",
          "height": 407
        },
        "outputId": "eadae5c1-e365-4121-d141-5258e8b0820e"
      },
      "execution_count": 75,
      "outputs": [
        {
          "output_type": "display_data",
          "data": {
            "text/plain": [
              "<Figure size 720x360 with 2 Axes>"
            ],
            "image/png": "[encoded data removed]"
          },
          "metadata": {}
        }
      ]
    },
    {
      "cell_type": "markdown",
      "source": [
        "Terlihat dari Heatmap tersebut bahwa missing values atau data yang hilang antara 1 kolom dengan kolom yang lainnya itu tidak berhubungan/berkorelasi."
      ],
      "metadata": {
        "id": "keu5zd_Bb7Zx"
      }
    },
    {
      "cell_type": "markdown",
      "source": [
        "#### Statistik Missing Values"
      ],
      "metadata": {
        "id": "iUU1ShR5ZvT-"
      }
    },
    {
      "cell_type": "code",
      "source": [
        "df[df['DaySinceLastOrder'].isna() == True].describe()"
      ],
      "metadata": {
        "colab": {
          "base_uri": "https://localhost:8080/",
          "height": 364
        },
        "id": "z9YqnszgZjNY",
        "outputId": "bf04f451-0237-46eb-e1d7-091f1ddc24f1"
      },
      "execution_count": 76,
      "outputs": [
        {
          "output_type": "execute_result",
          "data": {
            "text/plain": [
              "           Tenure  WarehouseToHome  NumberOfDeviceRegistered  \\\n",
              "count  213.000000       213.000000                213.000000   \n",
              "mean    11.530516        15.647887                  4.103286   \n",
              "std      8.281330         8.079963                  0.894764   \n",
              "min      0.000000         6.000000                  1.000000   \n",
              "25%      5.000000         9.000000                  4.000000   \n",
              "50%     10.000000        14.000000                  4.000000   \n",
              "75%     17.000000        19.000000                  5.000000   \n",
              "max     31.000000        36.000000                  6.000000   \n",
              "\n",
              "       SatisfactionScore  NumberOfAddress    Complain  DaySinceLastOrder  \\\n",
              "count         213.000000       213.000000  213.000000                0.0   \n",
              "mean            2.915493         4.877934    0.272300                NaN   \n",
              "std             1.418342         2.606981    0.446192                NaN   \n",
              "min             1.000000         1.000000    0.000000                NaN   \n",
              "25%             2.000000         3.000000    0.000000                NaN   \n",
              "50%             3.000000         4.000000    0.000000                NaN   \n",
              "75%             4.000000         6.000000    1.000000                NaN   \n",
              "max             5.000000        11.000000    1.000000                NaN   \n",
              "\n",
              "       CashbackAmount       Churn  \n",
              "count      213.000000  213.000000  \n",
              "mean       220.923052    0.187793  \n",
              "std          6.621594    0.391467  \n",
              "min        209.340000    0.000000  \n",
              "25%        214.980000    0.000000  \n",
              "50%        221.690000    0.000000  \n",
              "75%        227.090000    0.000000  \n",
              "max        231.420000    1.000000  "
            ],
            "text/html": [
              "\n",
              "  <div id=\"df-701c952f-c494-4d76-8f26-fdca969e972d\">\n",
              "    <div class=\"colab-df-container\">\n",
              "      <div>\n",
              "<style scoped>\n",
              "    .dataframe tbody tr th:only-of-type {\n",
              "        vertical-align: middle;\n",
              "    }\n",
              "\n",
              "    .dataframe tbody tr th {\n",
              "        vertical-align: top;\n",
              "    }\n",
              "\n",
              "    .dataframe thead th {\n",
              "        text-align: right;\n",
              "    }\n",
              "</style>\n",
              "<table border=\"1\" class=\"dataframe\">\n",
              "  <thead>\n",
              "    <tr style=\"text-align: right;\">\n",
              "      <th></th>\n",
              "      <th>Tenure</th>\n",
              "      <th>WarehouseToHome</th>\n",
              "      <th>NumberOfDeviceRegistered</th>\n",
              "      <th>SatisfactionScore</th>\n",
              "      <th>NumberOfAddress</th>\n",
              "      <th>Complain</th>\n",
              "      <th>DaySinceLastOrder</th>\n",
              "      <th>CashbackAmount</th>\n",
              "      <th>Churn</th>\n",
              "    </tr>\n",
              "  </thead>\n",
              "  <tbody>\n",
              "    <tr>\n",
              "      <th>count</th>\n",
              "      <td>213.000000</td>\n",
              "      <td>213.000000</td>\n",
              "      <td>213.000000</td>\n",
              "      <td>213.000000</td>\n",
              "      <td>213.000000</td>\n",
              "      <td>213.000000</td>\n",
              "      <td>0.0</td>\n",
              "      <td>213.000000</td>\n",
              "      <td>213.000000</td>\n",
              "    </tr>\n",
              "    <tr>\n",
              "      <th>mean</th>\n",
              "      <td>11.530516</td>\n",
              "      <td>15.647887</td>\n",
              "      <td>4.103286</td>\n",
              "      <td>2.915493</td>\n",
              "      <td>4.877934</td>\n",
              "      <td>0.272300</td>\n",
              "      <td>NaN</td>\n",
              "      <td>220.923052</td>\n",
              "      <td>0.187793</td>\n",
              "    </tr>\n",
              "    <tr>\n",
              "      <th>std</th>\n",
              "      <td>8.281330</td>\n",
              "      <td>8.079963</td>\n",
              "      <td>0.894764</td>\n",
              "      <td>1.418342</td>\n",
              "      <td>2.606981</td>\n",
              "      <td>0.446192</td>\n",
              "      <td>NaN</td>\n",
              "      <td>6.621594</td>\n",
              "      <td>0.391467</td>\n",
              "    </tr>\n",
              "    <tr>\n",
              "      <th>min</th>\n",
              "      <td>0.000000</td>\n",
              "      <td>6.000000</td>\n",
              "      <td>1.000000</td>\n",
              "      <td>1.000000</td>\n",
              "      <td>1.000000</td>\n",
              "      <td>0.000000</td>\n",
              "      <td>NaN</td>\n",
              "      <td>209.340000</td>\n",
              "      <td>0.000000</td>\n",
              "    </tr>\n",
              "    <tr>\n",
              "      <th>25%</th>\n",
              "      <td>5.000000</td>\n",
              "      <td>9.000000</td>\n",
              "      <td>4.000000</td>\n",
              "      <td>2.000000</td>\n",
              "      <td>3.000000</td>\n",
              "      <td>0.000000</td>\n",
              "      <td>NaN</td>\n",
              "      <td>214.980000</td>\n",
              "      <td>0.000000</td>\n",
              "    </tr>\n",
              "    <tr>\n",
              "      <th>50%</th>\n",
              "      <td>10.000000</td>\n",
              "      <td>14.000000</td>\n",
              "      <td>4.000000</td>\n",
              "      <td>3.000000</td>\n",
              "      <td>4.000000</td>\n",
              "      <td>0.000000</td>\n",
              "      <td>NaN</td>\n",
              "      <td>221.690000</td>\n",
              "      <td>0.000000</td>\n",
              "    </tr>\n",
              "    <tr>\n",
              "      <th>75%</th>\n",
              "      <td>17.000000</td>\n",
              "      <td>19.000000</td>\n",
              "      <td>5.000000</td>\n",
              "      <td>4.000000</td>\n",
              "      <td>6.000000</td>\n",
              "      <td>1.000000</td>\n",
              "      <td>NaN</td>\n",
              "      <td>227.090000</td>\n",
              "      <td>0.000000</td>\n",
              "    </tr>\n",
              "    <tr>\n",
              "      <th>max</th>\n",
              "      <td>31.000000</td>\n",
              "      <td>36.000000</td>\n",
              "      <td>6.000000</td>\n",
              "      <td>5.000000</td>\n",
              "      <td>11.000000</td>\n",
              "      <td>1.000000</td>\n",
              "      <td>NaN</td>\n",
              "      <td>231.420000</td>\n",
              "      <td>1.000000</td>\n",
              "    </tr>\n",
              "  </tbody>\n",
              "</table>\n",
              "</div>\n",
              "      <button class=\"colab-df-convert\" onclick=\"convertToInteractive('df-701c952f-c494-4d76-8f26-fdca969e972d')\"\n",
              "              title=\"Convert this dataframe to an interactive table.\"\n",
              "              style=\"display:none;\">\n",
              "        \n",
              "  <svg xmlns=\"http://www.w3.org/2000/svg\" height=\"24px\"viewBox=\"0 0 24 24\"\n",
              "       width=\"24px\">\n",
              "    <path d=\"M0 0h24v24H0V0z\" fill=\"none\"/>\n",
              "    <path d=\"M18.56 5.44l.94 2.06.94-2.06 2.06-.94-2.06-.94-.94-2.06-.94 2.06-2.06.94zm-11 1L8.5 8.5l.94-2.06 2.06-.94-2.06-.94L8.5 2.5l-.94 2.06-2.06.94zm10 10l.94 2.06.94-2.06 2.06-.94-2.06-.94-.94-2.06-.94 2.06-2.06.94z\"/><path d=\"M17.41 7.96l-1.37-1.37c-.4-.4-.92-.59-1.43-.59-.52 0-1.04.2-1.43.59L10.3 9.45l-7.72 7.72c-.78.78-.78 2.05 0 2.83L4 21.41c.39.39.9.59 1.41.59.51 0 1.02-.2 1.41-.59l7.78-7.78 2.81-2.81c.8-.78.8-2.07 0-2.86zM5.41 20L4 18.59l7.72-7.72 1.47 1.35L5.41 20z\"/>\n",
              "  </svg>\n",
              "      </button>\n",
              "      \n",
              "  <style>\n",
              "    .colab-df-container {\n",
              "      display:flex;\n",
              "      flex-wrap:wrap;\n",
              "      gap: 12px;\n",
              "    }\n",
              "\n",
              "    .colab-df-convert {\n",
              "      background-color: #E8F0FE;\n",
              "      border: none;\n",
              "      border-radius: 50%;\n",
              "      cursor: pointer;\n",
              "      display: none;\n",
              "      fill: #1967D2;\n",
              "      height: 32px;\n",
              "      padding: 0 0 0 0;\n",
              "      width: 32px;\n",
              "    }\n",
              "\n",
              "    .colab-df-convert:hover {\n",
              "      background-color: #E2EBFA;\n",
              "      box-shadow: 0px 1px 2px rgba(60, 64, 67, 0.3), 0px 1px 3px 1px rgba(60, 64, 67, 0.15);\n",
              "      fill: #174EA6;\n",
              "    }\n",
              "\n",
              "    [theme=dark] .colab-df-convert {\n",
              "      background-color: #3B4455;\n",
              "      fill: #D2E3FC;\n",
              "    }\n",
              "\n",
              "    [theme=dark] .colab-df-convert:hover {\n",
              "      background-color: #434B5C;\n",
              "      box-shadow: 0px 1px 3px 1px rgba(0, 0, 0, 0.15);\n",
              "      filter: drop-shadow(0px 1px 2px rgba(0, 0, 0, 0.3));\n",
              "      fill: #FFFFFF;\n",
              "    }\n",
              "  </style>\n",
              "\n",
              "      <script>\n",
              "        const buttonEl =\n",
              "          document.querySelector('#df-701c952f-c494-4d76-8f26-fdca969e972d button.colab-df-convert');\n",
              "        buttonEl.style.display =\n",
              "          google.colab.kernel.accessAllowed ? 'block' : 'none';\n",
              "\n",
              "        async function convertToInteractive(key) {\n",
              "          const element = document.querySelector('#df-701c952f-c494-4d76-8f26-fdca969e972d');\n",
              "          const dataTable =\n",
              "            await google.colab.kernel.invokeFunction('convertToInteractive',\n",
              "                                                     [key], {});\n",
              "          if (!dataTable) return;\n",
              "\n",
              "          const docLinkHtml = 'Like what you see? Visit the ' +\n",
              "            '<a target=\"_blank\" href=https://colab.research.google.com/notebooks/data_table.ipynb>data table notebook</a>'\n",
              "            + ' to learn more about interactive tables.';\n",
              "          element.innerHTML = '';\n",
              "          dataTable['output_type'] = 'display_data';\n",
              "          await google.colab.output.renderOutput(dataTable, element);\n",
              "          const docLink = document.createElement('div');\n",
              "          docLink.innerHTML = docLinkHtml;\n",
              "          element.appendChild(docLink);\n",
              "        }\n",
              "      </script>\n",
              "    </div>\n",
              "  </div>\n",
              "  "
            ]
          },
          "metadata": {},
          "execution_count": 76
        }
      ]
    },
    {
      "cell_type": "code",
      "source": [
        "df[df['DaySinceLastOrder'].isna() == True][['PreferedOrderCat','MaritalStatus']].value_counts()"
      ],
      "metadata": {
        "colab": {
          "base_uri": "https://localhost:8080/"
        },
        "id": "gfICziHduhd0",
        "outputId": "b9e8f715-a637-4b78-c491-64ebf9765d97"
      },
      "execution_count": 77,
      "outputs": [
        {
          "output_type": "execute_result",
          "data": {
            "text/plain": [
              "PreferedOrderCat    MaritalStatus\n",
              "Fashion             Married          92\n",
              "                    Single           50\n",
              "                    Divorced         24\n",
              "Laptop & Accessory  Married          20\n",
              "                    Single           11\n",
              "Grocery             Married           9\n",
              "Laptop & Accessory  Divorced          4\n",
              "Grocery             Divorced          2\n",
              "                    Single            1\n",
              "dtype: int64"
            ]
          },
          "metadata": {},
          "execution_count": 77
        }
      ]
    },
    {
      "cell_type": "code",
      "source": [
        "df[(df['Tenure'].isna() == True)].describe()"
      ],
      "metadata": {
        "colab": {
          "base_uri": "https://localhost:8080/",
          "height": 364
        },
        "id": "OUkCCiwJaIcG",
        "outputId": "30adf091-67dd-4d2a-8138-6b0fb2cd9136"
      },
      "execution_count": 78,
      "outputs": [
        {
          "output_type": "execute_result",
          "data": {
            "text/plain": [
              "       Tenure  WarehouseToHome  NumberOfDeviceRegistered  SatisfactionScore  \\\n",
              "count     0.0       194.000000                 194.00000         194.000000   \n",
              "mean      NaN        14.556701                   3.28866           3.180412   \n",
              "std       NaN         7.714422                   0.80102           1.284998   \n",
              "min       NaN         6.000000                   1.00000           1.000000   \n",
              "25%       NaN         8.000000                   3.00000           3.000000   \n",
              "50%       NaN        13.000000                   3.00000           3.000000   \n",
              "75%       NaN        19.000000                   4.00000           4.000000   \n",
              "max       NaN        34.000000                   5.00000           5.000000   \n",
              "\n",
              "       NumberOfAddress    Complain  DaySinceLastOrder  CashbackAmount  \\\n",
              "count       194.000000  194.000000         194.000000      194.000000   \n",
              "mean          3.144330    0.257732           2.025773      120.363660   \n",
              "std           2.332424    0.438517           2.328992        2.737009   \n",
              "min           1.000000    0.000000           0.000000      112.000000   \n",
              "25%           2.000000    0.000000           0.000000      120.220000   \n",
              "50%           2.000000    0.000000           2.000000      121.070000   \n",
              "75%           4.000000    1.000000           3.000000      122.175000   \n",
              "max          19.000000    1.000000          13.000000      123.130000   \n",
              "\n",
              "            Churn  \n",
              "count  194.000000  \n",
              "mean     0.329897  \n",
              "std      0.471392  \n",
              "min      0.000000  \n",
              "25%      0.000000  \n",
              "50%      0.000000  \n",
              "75%      1.000000  \n",
              "max      1.000000  "
            ],
            "text/html": [
              "\n",
              "  <div id=\"df-1dd55ee2-f4fc-4726-b3cf-81f678cd6929\">\n",
              "    <div class=\"colab-df-container\">\n",
              "      <div>\n",
              "<style scoped>\n",
              "    .dataframe tbody tr th:only-of-type {\n",
              "        vertical-align: middle;\n",
              "    }\n",
              "\n",
              "    .dataframe tbody tr th {\n",
              "        vertical-align: top;\n",
              "    }\n",
              "\n",
              "    .dataframe thead th {\n",
              "        text-align: right;\n",
              "    }\n",
              "</style>\n",
              "<table border=\"1\" class=\"dataframe\">\n",
              "  <thead>\n",
              "    <tr style=\"text-align: right;\">\n",
              "      <th></th>\n",
              "      <th>Tenure</th>\n",
              "      <th>WarehouseToHome</th>\n",
              "      <th>NumberOfDeviceRegistered</th>\n",
              "      <th>SatisfactionScore</th>\n",
              "      <th>NumberOfAddress</th>\n",
              "      <th>Complain</th>\n",
              "      <th>DaySinceLastOrder</th>\n",
              "      <th>CashbackAmount</th>\n",
              "      <th>Churn</th>\n",
              "    </tr>\n",
              "  </thead>\n",
              "  <tbody>\n",
              "    <tr>\n",
              "      <th>count</th>\n",
              "      <td>0.0</td>\n",
              "      <td>194.000000</td>\n",
              "      <td>194.00000</td>\n",
              "      <td>194.000000</td>\n",
              "      <td>194.000000</td>\n",
              "      <td>194.000000</td>\n",
              "      <td>194.000000</td>\n",
              "      <td>194.000000</td>\n",
              "      <td>194.000000</td>\n",
              "    </tr>\n",
              "    <tr>\n",
              "      <th>mean</th>\n",
              "      <td>NaN</td>\n",
              "      <td>14.556701</td>\n",
              "      <td>3.28866</td>\n",
              "      <td>3.180412</td>\n",
              "      <td>3.144330</td>\n",
              "      <td>0.257732</td>\n",
              "      <td>2.025773</td>\n",
              "      <td>120.363660</td>\n",
              "      <td>0.329897</td>\n",
              "    </tr>\n",
              "    <tr>\n",
              "      <th>std</th>\n",
              "      <td>NaN</td>\n",
              "      <td>7.714422</td>\n",
              "      <td>0.80102</td>\n",
              "      <td>1.284998</td>\n",
              "      <td>2.332424</td>\n",
              "      <td>0.438517</td>\n",
              "      <td>2.328992</td>\n",
              "      <td>2.737009</td>\n",
              "      <td>0.471392</td>\n",
              "    </tr>\n",
              "    <tr>\n",
              "      <th>min</th>\n",
              "      <td>NaN</td>\n",
              "      <td>6.000000</td>\n",
              "      <td>1.00000</td>\n",
              "      <td>1.000000</td>\n",
              "      <td>1.000000</td>\n",
              "      <td>0.000000</td>\n",
              "      <td>0.000000</td>\n",
              "      <td>112.000000</td>\n",
              "      <td>0.000000</td>\n",
              "    </tr>\n",
              "    <tr>\n",
              "      <th>25%</th>\n",
              "      <td>NaN</td>\n",
              "      <td>8.000000</td>\n",
              "      <td>3.00000</td>\n",
              "      <td>3.000000</td>\n",
              "      <td>2.000000</td>\n",
              "      <td>0.000000</td>\n",
              "      <td>0.000000</td>\n",
              "      <td>120.220000</td>\n",
              "      <td>0.000000</td>\n",
              "    </tr>\n",
              "    <tr>\n",
              "      <th>50%</th>\n",
              "      <td>NaN</td>\n",
              "      <td>13.000000</td>\n",
              "      <td>3.00000</td>\n",
              "      <td>3.000000</td>\n",
              "      <td>2.000000</td>\n",
              "      <td>0.000000</td>\n",
              "      <td>2.000000</td>\n",
              "      <td>121.070000</td>\n",
              "      <td>0.000000</td>\n",
              "    </tr>\n",
              "    <tr>\n",
              "      <th>75%</th>\n",
              "      <td>NaN</td>\n",
              "      <td>19.000000</td>\n",
              "      <td>4.00000</td>\n",
              "      <td>4.000000</td>\n",
              "      <td>4.000000</td>\n",
              "      <td>1.000000</td>\n",
              "      <td>3.000000</td>\n",
              "      <td>122.175000</td>\n",
              "      <td>1.000000</td>\n",
              "    </tr>\n",
              "    <tr>\n",
              "      <th>max</th>\n",
              "      <td>NaN</td>\n",
              "      <td>34.000000</td>\n",
              "      <td>5.00000</td>\n",
              "      <td>5.000000</td>\n",
              "      <td>19.000000</td>\n",
              "      <td>1.000000</td>\n",
              "      <td>13.000000</td>\n",
              "      <td>123.130000</td>\n",
              "      <td>1.000000</td>\n",
              "    </tr>\n",
              "  </tbody>\n",
              "</table>\n",
              "</div>\n",
              "      <button class=\"colab-df-convert\" onclick=\"convertToInteractive('df-1dd55ee2-f4fc-4726-b3cf-81f678cd6929')\"\n",
              "              title=\"Convert this dataframe to an interactive table.\"\n",
              "              style=\"display:none;\">\n",
              "        \n",
              "  <svg xmlns=\"http://www.w3.org/2000/svg\" height=\"24px\"viewBox=\"0 0 24 24\"\n",
              "       width=\"24px\">\n",
              "    <path d=\"M0 0h24v24H0V0z\" fill=\"none\"/>\n",
              "    <path d=\"M18.56 5.44l.94 2.06.94-2.06 2.06-.94-2.06-.94-.94-2.06-.94 2.06-2.06.94zm-11 1L8.5 8.5l.94-2.06 2.06-.94-2.06-.94L8.5 2.5l-.94 2.06-2.06.94zm10 10l.94 2.06.94-2.06 2.06-.94-2.06-.94-.94-2.06-.94 2.06-2.06.94z\"/><path d=\"M17.41 7.96l-1.37-1.37c-.4-.4-.92-.59-1.43-.59-.52 0-1.04.2-1.43.59L10.3 9.45l-7.72 7.72c-.78.78-.78 2.05 0 2.83L4 21.41c.39.39.9.59 1.41.59.51 0 1.02-.2 1.41-.59l7.78-7.78 2.81-2.81c.8-.78.8-2.07 0-2.86zM5.41 20L4 18.59l7.72-7.72 1.47 1.35L5.41 20z\"/>\n",
              "  </svg>\n",
              "      </button>\n",
              "      \n",
              "  <style>\n",
              "    .colab-df-container {\n",
              "      display:flex;\n",
              "      flex-wrap:wrap;\n",
              "      gap: 12px;\n",
              "    }\n",
              "\n",
              "    .colab-df-convert {\n",
              "      background-color: #E8F0FE;\n",
              "      border: none;\n",
              "      border-radius: 50%;\n",
              "      cursor: pointer;\n",
              "      display: none;\n",
              "      fill: #1967D2;\n",
              "      height: 32px;\n",
              "      padding: 0 0 0 0;\n",
              "      width: 32px;\n",
              "    }\n",
              "\n",
              "    .colab-df-convert:hover {\n",
              "      background-color: #E2EBFA;\n",
              "      box-shadow: 0px 1px 2px rgba(60, 64, 67, 0.3), 0px 1px 3px 1px rgba(60, 64, 67, 0.15);\n",
              "      fill: #174EA6;\n",
              "    }\n",
              "\n",
              "    [theme=dark] .colab-df-convert {\n",
              "      background-color: #3B4455;\n",
              "      fill: #D2E3FC;\n",
              "    }\n",
              "\n",
              "    [theme=dark] .colab-df-convert:hover {\n",
              "      background-color: #434B5C;\n",
              "      box-shadow: 0px 1px 3px 1px rgba(0, 0, 0, 0.15);\n",
              "      filter: drop-shadow(0px 1px 2px rgba(0, 0, 0, 0.3));\n",
              "      fill: #FFFFFF;\n",
              "    }\n",
              "  </style>\n",
              "\n",
              "      <script>\n",
              "        const buttonEl =\n",
              "          document.querySelector('#df-1dd55ee2-f4fc-4726-b3cf-81f678cd6929 button.colab-df-convert');\n",
              "        buttonEl.style.display =\n",
              "          google.colab.kernel.accessAllowed ? 'block' : 'none';\n",
              "\n",
              "        async function convertToInteractive(key) {\n",
              "          const element = document.querySelector('#df-1dd55ee2-f4fc-4726-b3cf-81f678cd6929');\n",
              "          const dataTable =\n",
              "            await google.colab.kernel.invokeFunction('convertToInteractive',\n",
              "                                                     [key], {});\n",
              "          if (!dataTable) return;\n",
              "\n",
              "          const docLinkHtml = 'Like what you see? Visit the ' +\n",
              "            '<a target=\"_blank\" href=https://colab.research.google.com/notebooks/data_table.ipynb>data table notebook</a>'\n",
              "            + ' to learn more about interactive tables.';\n",
              "          element.innerHTML = '';\n",
              "          dataTable['output_type'] = 'display_data';\n",
              "          await google.colab.output.renderOutput(dataTable, element);\n",
              "          const docLink = document.createElement('div');\n",
              "          docLink.innerHTML = docLinkHtml;\n",
              "          element.appendChild(docLink);\n",
              "        }\n",
              "      </script>\n",
              "    </div>\n",
              "  </div>\n",
              "  "
            ]
          },
          "metadata": {},
          "execution_count": 78
        }
      ]
    },
    {
      "cell_type": "code",
      "source": [
        "df[df['Tenure'].isna() == True][['PreferedOrderCat','MaritalStatus']].value_counts()"
      ],
      "metadata": {
        "colab": {
          "base_uri": "https://localhost:8080/"
        },
        "id": "K-ojHJAdtz7u",
        "outputId": "a01e1d33-db39-47f7-c63b-6ae24da297dd"
      },
      "execution_count": 79,
      "outputs": [
        {
          "output_type": "execute_result",
          "data": {
            "text/plain": [
              "PreferedOrderCat    MaritalStatus\n",
              "Mobile              Married          78\n",
              "                    Single           48\n",
              "                    Divorced         25\n",
              "Mobile Phone        Single           20\n",
              "                    Married          11\n",
              "Laptop & Accessory  Married           4\n",
              "Mobile Phone        Divorced          4\n",
              "Laptop & Accessory  Divorced          2\n",
              "                    Single            2\n",
              "dtype: int64"
            ]
          },
          "metadata": {},
          "execution_count": 79
        }
      ]
    },
    {
      "cell_type": "code",
      "source": [
        "df[df['WarehouseToHome'].isna() == True].describe()"
      ],
      "metadata": {
        "colab": {
          "base_uri": "https://localhost:8080/",
          "height": 364
        },
        "id": "ijutPX-PZ_nY",
        "outputId": "6745acee-6dab-48bd-b37f-9db693c8719c"
      },
      "execution_count": 80,
      "outputs": [
        {
          "output_type": "execute_result",
          "data": {
            "text/plain": [
              "           Tenure  WarehouseToHome  NumberOfDeviceRegistered  \\\n",
              "count  169.000000              0.0                169.000000   \n",
              "mean     6.337278              NaN                  3.201183   \n",
              "std      7.480043              NaN                  0.849229   \n",
              "min      0.000000              NaN                  1.000000   \n",
              "25%      0.000000              NaN                  3.000000   \n",
              "50%      4.000000              NaN                  3.000000   \n",
              "75%     11.000000              NaN                  4.000000   \n",
              "max     30.000000              NaN                  5.000000   \n",
              "\n",
              "       SatisfactionScore  NumberOfAddress    Complain  DaySinceLastOrder  \\\n",
              "count          169.00000       169.000000  169.000000         169.000000   \n",
              "mean             3.08284         3.514793    0.301775           2.461538   \n",
              "std              1.44922         2.526306    0.460392           2.712405   \n",
              "min              1.00000         1.000000    0.000000           0.000000   \n",
              "25%              2.00000         2.000000    0.000000           0.000000   \n",
              "50%              3.00000         2.000000    0.000000           2.000000   \n",
              "75%              4.00000         5.000000    1.000000           3.000000   \n",
              "max              5.00000        10.000000    1.000000          15.000000   \n",
              "\n",
              "       CashbackAmount       Churn  \n",
              "count      169.000000  169.000000  \n",
              "mean       124.584793    0.355030  \n",
              "std          0.987585    0.479944  \n",
              "min        123.180000    0.000000  \n",
              "25%        123.720000    0.000000  \n",
              "50%        124.390000    0.000000  \n",
              "75%        125.590000    1.000000  \n",
              "max        126.570000    1.000000  "
            ],
            "text/html": [
              "\n",
              "  <div id=\"df-88c6c01b-c2d3-4c08-9bf3-934ccc19d850\">\n",
              "    <div class=\"colab-df-container\">\n",
              "      <div>\n",
              "<style scoped>\n",
              "    .dataframe tbody tr th:only-of-type {\n",
              "        vertical-align: middle;\n",
              "    }\n",
              "\n",
              "    .dataframe tbody tr th {\n",
              "        vertical-align: top;\n",
              "    }\n",
              "\n",
              "    .dataframe thead th {\n",
              "        text-align: right;\n",
              "    }\n",
              "</style>\n",
              "<table border=\"1\" class=\"dataframe\">\n",
              "  <thead>\n",
              "    <tr style=\"text-align: right;\">\n",
              "      <th></th>\n",
              "      <th>Tenure</th>\n",
              "      <th>WarehouseToHome</th>\n",
              "      <th>NumberOfDeviceRegistered</th>\n",
              "      <th>SatisfactionScore</th>\n",
              "      <th>NumberOfAddress</th>\n",
              "      <th>Complain</th>\n",
              "      <th>DaySinceLastOrder</th>\n",
              "      <th>CashbackAmount</th>\n",
              "      <th>Churn</th>\n",
              "    </tr>\n",
              "  </thead>\n",
              "  <tbody>\n",
              "    <tr>\n",
              "      <th>count</th>\n",
              "      <td>169.000000</td>\n",
              "      <td>0.0</td>\n",
              "      <td>169.000000</td>\n",
              "      <td>169.00000</td>\n",
              "      <td>169.000000</td>\n",
              "      <td>169.000000</td>\n",
              "      <td>169.000000</td>\n",
              "      <td>169.000000</td>\n",
              "      <td>169.000000</td>\n",
              "    </tr>\n",
              "    <tr>\n",
              "      <th>mean</th>\n",
              "      <td>6.337278</td>\n",
              "      <td>NaN</td>\n",
              "      <td>3.201183</td>\n",
              "      <td>3.08284</td>\n",
              "      <td>3.514793</td>\n",
              "      <td>0.301775</td>\n",
              "      <td>2.461538</td>\n",
              "      <td>124.584793</td>\n",
              "      <td>0.355030</td>\n",
              "    </tr>\n",
              "    <tr>\n",
              "      <th>std</th>\n",
              "      <td>7.480043</td>\n",
              "      <td>NaN</td>\n",
              "      <td>0.849229</td>\n",
              "      <td>1.44922</td>\n",
              "      <td>2.526306</td>\n",
              "      <td>0.460392</td>\n",
              "      <td>2.712405</td>\n",
              "      <td>0.987585</td>\n",
              "      <td>0.479944</td>\n",
              "    </tr>\n",
              "    <tr>\n",
              "      <th>min</th>\n",
              "      <td>0.000000</td>\n",
              "      <td>NaN</td>\n",
              "      <td>1.000000</td>\n",
              "      <td>1.00000</td>\n",
              "      <td>1.000000</td>\n",
              "      <td>0.000000</td>\n",
              "      <td>0.000000</td>\n",
              "      <td>123.180000</td>\n",
              "      <td>0.000000</td>\n",
              "    </tr>\n",
              "    <tr>\n",
              "      <th>25%</th>\n",
              "      <td>0.000000</td>\n",
              "      <td>NaN</td>\n",
              "      <td>3.000000</td>\n",
              "      <td>2.00000</td>\n",
              "      <td>2.000000</td>\n",
              "      <td>0.000000</td>\n",
              "      <td>0.000000</td>\n",
              "      <td>123.720000</td>\n",
              "      <td>0.000000</td>\n",
              "    </tr>\n",
              "    <tr>\n",
              "      <th>50%</th>\n",
              "      <td>4.000000</td>\n",
              "      <td>NaN</td>\n",
              "      <td>3.000000</td>\n",
              "      <td>3.00000</td>\n",
              "      <td>2.000000</td>\n",
              "      <td>0.000000</td>\n",
              "      <td>2.000000</td>\n",
              "      <td>124.390000</td>\n",
              "      <td>0.000000</td>\n",
              "    </tr>\n",
              "    <tr>\n",
              "      <th>75%</th>\n",
              "      <td>11.000000</td>\n",
              "      <td>NaN</td>\n",
              "      <td>4.000000</td>\n",
              "      <td>4.00000</td>\n",
              "      <td>5.000000</td>\n",
              "      <td>1.000000</td>\n",
              "      <td>3.000000</td>\n",
              "      <td>125.590000</td>\n",
              "      <td>1.000000</td>\n",
              "    </tr>\n",
              "    <tr>\n",
              "      <th>max</th>\n",
              "      <td>30.000000</td>\n",
              "      <td>NaN</td>\n",
              "      <td>5.000000</td>\n",
              "      <td>5.00000</td>\n",
              "      <td>10.000000</td>\n",
              "      <td>1.000000</td>\n",
              "      <td>15.000000</td>\n",
              "      <td>126.570000</td>\n",
              "      <td>1.000000</td>\n",
              "    </tr>\n",
              "  </tbody>\n",
              "</table>\n",
              "</div>\n",
              "      <button class=\"colab-df-convert\" onclick=\"convertToInteractive('df-88c6c01b-c2d3-4c08-9bf3-934ccc19d850')\"\n",
              "              title=\"Convert this dataframe to an interactive table.\"\n",
              "              style=\"display:none;\">\n",
              "        \n",
              "  <svg xmlns=\"http://www.w3.org/2000/svg\" height=\"24px\"viewBox=\"0 0 24 24\"\n",
              "       width=\"24px\">\n",
              "    <path d=\"M0 0h24v24H0V0z\" fill=\"none\"/>\n",
              "    <path d=\"M18.56 5.44l.94 2.06.94-2.06 2.06-.94-2.06-.94-.94-2.06-.94 2.06-2.06.94zm-11 1L8.5 8.5l.94-2.06 2.06-.94-2.06-.94L8.5 2.5l-.94 2.06-2.06.94zm10 10l.94 2.06.94-2.06 2.06-.94-2.06-.94-.94-2.06-.94 2.06-2.06.94z\"/><path d=\"M17.41 7.96l-1.37-1.37c-.4-.4-.92-.59-1.43-.59-.52 0-1.04.2-1.43.59L10.3 9.45l-7.72 7.72c-.78.78-.78 2.05 0 2.83L4 21.41c.39.39.9.59 1.41.59.51 0 1.02-.2 1.41-.59l7.78-7.78 2.81-2.81c.8-.78.8-2.07 0-2.86zM5.41 20L4 18.59l7.72-7.72 1.47 1.35L5.41 20z\"/>\n",
              "  </svg>\n",
              "      </button>\n",
              "      \n",
              "  <style>\n",
              "    .colab-df-container {\n",
              "      display:flex;\n",
              "      flex-wrap:wrap;\n",
              "      gap: 12px;\n",
              "    }\n",
              "\n",
              "    .colab-df-convert {\n",
              "      background-color: #E8F0FE;\n",
              "      border: none;\n",
              "      border-radius: 50%;\n",
              "      cursor: pointer;\n",
              "      display: none;\n",
              "      fill: #1967D2;\n",
              "      height: 32px;\n",
              "      padding: 0 0 0 0;\n",
              "      width: 32px;\n",
              "    }\n",
              "\n",
              "    .colab-df-convert:hover {\n",
              "      background-color: #E2EBFA;\n",
              "      box-shadow: 0px 1px 2px rgba(60, 64, 67, 0.3), 0px 1px 3px 1px rgba(60, 64, 67, 0.15);\n",
              "      fill: #174EA6;\n",
              "    }\n",
              "\n",
              "    [theme=dark] .colab-df-convert {\n",
              "      background-color: #3B4455;\n",
              "      fill: #D2E3FC;\n",
              "    }\n",
              "\n",
              "    [theme=dark] .colab-df-convert:hover {\n",
              "      background-color: #434B5C;\n",
              "      box-shadow: 0px 1px 3px 1px rgba(0, 0, 0, 0.15);\n",
              "      filter: drop-shadow(0px 1px 2px rgba(0, 0, 0, 0.3));\n",
              "      fill: #FFFFFF;\n",
              "    }\n",
              "  </style>\n",
              "\n",
              "      <script>\n",
              "        const buttonEl =\n",
              "          document.querySelector('#df-88c6c01b-c2d3-4c08-9bf3-934ccc19d850 button.colab-df-convert');\n",
              "        buttonEl.style.display =\n",
              "          google.colab.kernel.accessAllowed ? 'block' : 'none';\n",
              "\n",
              "        async function convertToInteractive(key) {\n",
              "          const element = document.querySelector('#df-88c6c01b-c2d3-4c08-9bf3-934ccc19d850');\n",
              "          const dataTable =\n",
              "            await google.colab.kernel.invokeFunction('convertToInteractive',\n",
              "                                                     [key], {});\n",
              "          if (!dataTable) return;\n",
              "\n",
              "          const docLinkHtml = 'Like what you see? Visit the ' +\n",
              "            '<a target=\"_blank\" href=https://colab.research.google.com/notebooks/data_table.ipynb>data table notebook</a>'\n",
              "            + ' to learn more about interactive tables.';\n",
              "          element.innerHTML = '';\n",
              "          dataTable['output_type'] = 'display_data';\n",
              "          await google.colab.output.renderOutput(dataTable, element);\n",
              "          const docLink = document.createElement('div');\n",
              "          docLink.innerHTML = docLinkHtml;\n",
              "          element.appendChild(docLink);\n",
              "        }\n",
              "      </script>\n",
              "    </div>\n",
              "  </div>\n",
              "  "
            ]
          },
          "metadata": {},
          "execution_count": 80
        }
      ]
    },
    {
      "cell_type": "code",
      "source": [
        "df[df['WarehouseToHome'].isna() == True][['PreferedOrderCat','MaritalStatus']].value_counts()"
      ],
      "metadata": {
        "colab": {
          "base_uri": "https://localhost:8080/"
        },
        "id": "oSFqDcpEaWsE",
        "outputId": "33d1a20b-9fce-4cbf-d1e4-8c55fad5e760"
      },
      "execution_count": 81,
      "outputs": [
        {
          "output_type": "execute_result",
          "data": {
            "text/plain": [
              "PreferedOrderCat    MaritalStatus\n",
              "Mobile              Married          70\n",
              "                    Single           68\n",
              "                    Divorced         24\n",
              "Laptop & Accessory  Married           4\n",
              "                    Single            2\n",
              "                    Divorced          1\n",
              "dtype: int64"
            ]
          },
          "metadata": {},
          "execution_count": 81
        }
      ]
    },
    {
      "cell_type": "markdown",
      "source": [
        "Analisis:\n",
        "- Data kosong pada fitur `DaySinceLastOrder` memiliki \n",
        "jumlah Cashback lebih banyak daripada fitur lainnya. yaitu pada rentang 209.34 - 231.42. Data kosongnya sebagian besar ditemukan di kategori Fashion.\n",
        "- Data kosong pada fitur `WarehouseToHome` hanya ditemukan di kategori Mobile dan Laptop & Accessory di mana data kosong sebagian besar berada di kategori Mobile.\n",
        "- Data kosong pada fitur `Tenure` sebagian besar ditemukan di kategori Mobile dan Mobile Phone.\n",
        "- Urutan data kosong berdasarkan status pernikahannya dari yang terbanyak adalah menikah, single, lalu cerai. Hal ini dikarenakan banyaknya jumlah data pada ketiga status tersebut memiliki urutan yang sama.\n",
        "- Data kosong pada dataset ini dapat dikategorikan Missing Not At Random (MNAR) karena dipengaruhi oleh kolom lainnya."
      ],
      "metadata": {
        "id": "XI3EnYoDZP9m"
      }
    },
    {
      "cell_type": "markdown",
      "source": [
        "#### Handling Missing Values"
      ],
      "metadata": {
        "id": "oi8tPUhT71Wk"
      }
    },
    {
      "cell_type": "code",
      "source": [
        "# Handling Missing Value Fitur DaySinceLastOrder\n",
        "df['DaySinceLastOrder'] = df['DaySinceLastOrder'].fillna(df[(df['CashbackAmount'] >= 209.34) & (df['CashbackAmount'] <= 231.42)]['DaySinceLastOrder'].median())"
      ],
      "metadata": {
        "id": "La-x_UO6xO2-"
      },
      "execution_count": 82,
      "outputs": []
    },
    {
      "cell_type": "code",
      "source": [
        "# Handling Missing Value Fitur Tenure\n",
        "df['Tenure'] = df['Tenure'].fillna(df[(df['PreferedOrderCat'] == 'Mobile') | (df['PreferedOrderCat'] == 'Mobile Phone')]['Tenure'].median())"
      ],
      "metadata": {
        "id": "Tm9I4_E2xZbM"
      },
      "execution_count": 83,
      "outputs": []
    },
    {
      "cell_type": "code",
      "source": [
        "# Handling Missing Value Fitur WarehouseToHome\n",
        "df['WarehouseToHome'] = df['WarehouseToHome'].fillna(df[df['PreferedOrderCat'] == 'Mobile']['WarehouseToHome'].median())"
      ],
      "metadata": {
        "id": "W2UikCvoxUKr"
      },
      "execution_count": 84,
      "outputs": []
    },
    {
      "cell_type": "code",
      "source": [
        "df.isna().sum()"
      ],
      "metadata": {
        "colab": {
          "base_uri": "https://localhost:8080/"
        },
        "id": "3Uu1Cupe79vR",
        "outputId": "ddc6ceac-211d-44cb-f414-ca538e4165b2"
      },
      "execution_count": 85,
      "outputs": [
        {
          "output_type": "execute_result",
          "data": {
            "text/plain": [
              "Tenure                      0\n",
              "WarehouseToHome             0\n",
              "NumberOfDeviceRegistered    0\n",
              "PreferedOrderCat            0\n",
              "SatisfactionScore           0\n",
              "MaritalStatus               0\n",
              "NumberOfAddress             0\n",
              "Complain                    0\n",
              "DaySinceLastOrder           0\n",
              "CashbackAmount              0\n",
              "Churn                       0\n",
              "dtype: int64"
            ]
          },
          "metadata": {},
          "execution_count": 85
        }
      ]
    },
    {
      "cell_type": "markdown",
      "source": [
        "Dataset sudah tidak memiliki data kosong."
      ],
      "metadata": {
        "id": "uz8A57r98ArE"
      }
    },
    {
      "cell_type": "markdown",
      "source": [
        "### Outliers"
      ],
      "metadata": {
        "id": "4HitH77Td7Cx"
      }
    },
    {
      "cell_type": "code",
      "source": [
        "num_features = [feature for feature in df.columns if ((df[feature].dtypes != 'O') & (feature not in ['Churn']))]"
      ],
      "metadata": {
        "id": "42KvFZlYoeJ6"
      },
      "execution_count": 86,
      "outputs": []
    },
    {
      "cell_type": "code",
      "source": [
        "plt.figure(figsize=(15, 20))\n",
        "# sns.set(style='whitegrid')\n",
        "sns.set(palette='bright')\n",
        "plotnumber = 1\n",
        "\n",
        "for feature in num_features:\n",
        "    ax = plt.subplot(4, 2, plotnumber)\n",
        "    sns.boxplot(data=df,y=feature, x='Churn')\n",
        "    plt.title(feature, fontsize=20)\n",
        "    plotnumber += 1\n",
        "    plt.tight_layout();"
      ],
      "metadata": {
        "colab": {
          "base_uri": "https://localhost:8080/",
          "height": 1000
        },
        "id": "OMUEr0jNeYPM",
        "outputId": "633fae43-bd59-4f0f-f3cd-ce5945a04ddb"
      },
      "execution_count": 87,
      "outputs": [
        {
          "output_type": "display_data",
          "data": {
            "text/plain": [
              "<Figure size 1080x1440 with 8 Axes>"
            ],
            "image/png": "[encoded data removed]"
          },
          "metadata": {}
        }
      ]
    },
    {
      "cell_type": "markdown",
      "source": [
        "Kehadiran outlier dapat memengaruhi model machine learning, tetapi outlier tidak selalu harus dihilangkan. Kehadiran outlier dalam data tidak berarti bahwa data tersebut buruk. Kehadiran outlier dapat mengandung informasi yang berguna yang dapat digunakan dalam analisis data.\n",
        "\n",
        "Kita hanya akan menghapus outlier dengan nilai paling ekstrem, karena jika menghapus semua outlier akan menyisakan data yang sangat sedikit sehingga tidak mewakili data sebenarnya.\n",
        "\n",
        "Dengan melihat grafik box plot, terlihat bahwa fitur `WarehouseToHome`, `DaySinceLastOrder`, `NumberOfAddress`, dan `Tenure` memiliki outliers yg cukup ekstrem nilainya dibanding data yang lain. Maka hanya data tersebut yang akan kita hilangkan, sedangkan untuk outliers lainnya kita biarkan."
      ],
      "metadata": {
        "id": "OlAwbsBLjLnH"
      }
    },
    {
      "cell_type": "markdown",
      "source": [
        "#### Handling Outliers"
      ],
      "metadata": {
        "id": "vvqrglgh6-Ky"
      }
    },
    {
      "cell_type": "code",
      "source": [
        "# Menghapus outlier pada fitur WarehouseToHome\n",
        "df = df.drop(df[df['WarehouseToHome']>= 120].index) "
      ],
      "metadata": {
        "id": "grUS2t_ikNwM"
      },
      "execution_count": 88,
      "outputs": []
    },
    {
      "cell_type": "code",
      "source": [
        "# Menghapus outlier pada fitur DaySinceLastOrder\n",
        "df = df.drop(df[df['DaySinceLastOrder']>= 25].index) "
      ],
      "metadata": {
        "id": "w8-ZA23DnJlz"
      },
      "execution_count": 89,
      "outputs": []
    },
    {
      "cell_type": "code",
      "source": [
        "# Menghapus outlier pada fitur NumberOfAddress\n",
        "df = df.drop(df[df['NumberOfAddress']>= 15].index) "
      ],
      "metadata": {
        "id": "ZgcJD0CwnT_U"
      },
      "execution_count": 90,
      "outputs": []
    },
    {
      "cell_type": "code",
      "source": [
        "# Menghapus outlier pada fitur Tenure\n",
        "df = df.drop(df[df['Tenure']>= 40].index) "
      ],
      "metadata": {
        "id": "lAfU4cce6lla"
      },
      "execution_count": 91,
      "outputs": []
    },
    {
      "cell_type": "code",
      "source": [
        "plt.figure(figsize=(15, 20))\n",
        "sns.set(palette='bright')\n",
        "plotnumber = 1\n",
        "\n",
        "for feature in num_features:\n",
        "    ax = plt.subplot(4, 2, plotnumber)\n",
        "    sns.boxplot(data=df,y=feature, x='Churn')\n",
        "    plt.title(feature, fontsize=20)\n",
        "    plotnumber += 1\n",
        "    plt.tight_layout();"
      ],
      "metadata": {
        "colab": {
          "base_uri": "https://localhost:8080/",
          "height": 1000
        },
        "id": "dbzCnNq_5hT4",
        "outputId": "30d80cdf-3e11-46e0-cb1f-1210cf8fc90a"
      },
      "execution_count": 92,
      "outputs": [
        {
          "output_type": "display_data",
          "data": {
            "text/plain": [
              "<Figure size 1080x1440 with 8 Axes>"
            ],
            "image/png": "[encoded data removed]"
          },
          "metadata": {}
        }
      ]
    },
    {
      "cell_type": "markdown",
      "source": [
        "## Data Analysis"
      ],
      "metadata": {
        "id": "1nwqEkvNgRwa"
      }
    },
    {
      "cell_type": "markdown",
      "source": [
        "### Numerical Features"
      ],
      "metadata": {
        "id": "yAFTAYo1zVkX"
      }
    },
    {
      "cell_type": "code",
      "source": [
        "# Histogram Setiap Fitur\n",
        "plt.figure(figsize=(15, 20))\n",
        "plotnumber = 1\n",
        "\n",
        "for feature in num_features:\n",
        "    ax = plt.subplot(4, 2, plotnumber)\n",
        "    sns.histplot(data=df,x=feature,hue='Churn')\n",
        "    plt.title(feature, fontsize=20)\n",
        "    plotnumber += 1\n",
        "    plt.tight_layout();"
      ],
      "metadata": {
        "colab": {
          "base_uri": "https://localhost:8080/",
          "height": 1000
        },
        "id": "ACRXRgahLYU9",
        "outputId": "f732962a-c489-45ab-c443-72ee7721a761"
      },
      "execution_count": 93,
      "outputs": [
        {
          "output_type": "display_data",
          "data": {
            "text/plain": [
              "<Figure size 1080x1440 with 8 Axes>"
            ],
            "image/png": "[encoded data removed]"
          },
          "metadata": {}
        }
      ]
    },
    {
      "cell_type": "markdown",
      "source": [
        "Berdasarkan histogram di atas, kita dapat menyimpulkan bahwa terlihat perbedaan distribusi `CashbackAmount`, `Tenure`, dan `Complain` dari pelanggan yang tidak churn (nilainya 0) dan pelanggan yang churn (nilainya 1)\n",
        "- Pada distribusi `CashbackAmount` dan `Tenure`, pelanggan yang churn condong nilai fiturnya lebih rendah dari pelanggan yang tidak churn. \n",
        "- Sebaliknya pada distribusi `Complain`, pelanggan yang churn condong nilai fiturnya lebih tinggi dari pelanggan yang tidak churn.\n",
        "\n",
        "Sedangkan untuk distribusi fitur lainnya kurang lebih sama antara target 0 dan 1. Di mana berarti kemungkinan nilainya tidak mempengaruhi seorang kandidat jadi tertarik dan tidaknya."
      ],
      "metadata": {
        "id": "LbmkuPoki2AC"
      }
    },
    {
      "cell_type": "code",
      "source": [
        "# Persentase Pelanggan Churn dan Tidak Churn\n",
        "df['Churn'].value_counts()"
      ],
      "metadata": {
        "colab": {
          "base_uri": "https://localhost:8080/"
        },
        "id": "RAPPQ_NVpCK9",
        "outputId": "e74df8ac-5849-4614-8144-ecd811e740b0"
      },
      "execution_count": 94,
      "outputs": [
        {
          "output_type": "execute_result",
          "data": {
            "text/plain": [
              "0    3258\n",
              "1     672\n",
              "Name: Churn, dtype: int64"
            ]
          },
          "metadata": {},
          "execution_count": 94
        }
      ]
    },
    {
      "cell_type": "code",
      "source": [
        "df.dropna()['Churn'].value_counts()"
      ],
      "metadata": {
        "colab": {
          "base_uri": "https://localhost:8080/"
        },
        "id": "U553zXGxyw4o",
        "outputId": "a8017543-4e08-4b40-8502-8965526b5ef1"
      },
      "execution_count": 95,
      "outputs": [
        {
          "output_type": "execute_result",
          "data": {
            "text/plain": [
              "0    3258\n",
              "1     672\n",
              "Name: Churn, dtype: int64"
            ]
          },
          "metadata": {},
          "execution_count": 95
        }
      ]
    },
    {
      "cell_type": "code",
      "source": [
        "df['Churn'].value_counts()/len(df) * 100"
      ],
      "metadata": {
        "colab": {
          "base_uri": "https://localhost:8080/"
        },
        "id": "voUL8Lj9y2l8",
        "outputId": "9a01c39d-daf6-4299-cbe2-ff4f848ca146"
      },
      "execution_count": 96,
      "outputs": [
        {
          "output_type": "execute_result",
          "data": {
            "text/plain": [
              "0    82.900763\n",
              "1    17.099237\n",
              "Name: Churn, dtype: float64"
            ]
          },
          "metadata": {},
          "execution_count": 96
        }
      ]
    },
    {
      "cell_type": "code",
      "source": [
        "df.dropna()['Churn'].value_counts()/len(df.dropna()['Churn']) * 100"
      ],
      "metadata": {
        "colab": {
          "base_uri": "https://localhost:8080/"
        },
        "id": "F_6ahYeNy_df",
        "outputId": "064ff9df-bbf3-44fb-a34a-3fafa3c7ffb0"
      },
      "execution_count": 97,
      "outputs": [
        {
          "output_type": "execute_result",
          "data": {
            "text/plain": [
              "0    82.900763\n",
              "1    17.099237\n",
              "Name: Churn, dtype: float64"
            ]
          },
          "metadata": {},
          "execution_count": 97
        }
      ]
    },
    {
      "cell_type": "markdown",
      "source": [
        "Data kita termasuk ke jenis Imbalance Data sehingga perlu dilakukan treatment untuk Imbalance Classification nanti. \n",
        "\n",
        "Terlihat bahwa distribusi kolom target kita kurang lebih sama seperti sebelum data yang kosong dihapus.\n",
        "\n",
        "Mari sekarang kita check juga distribusi data kolom categorical kita"
      ],
      "metadata": {
        "id": "GLKdZA4-zNue"
      }
    },
    {
      "cell_type": "markdown",
      "source": [
        "### Categorical Features"
      ],
      "metadata": {
        "id": "pRtNc9E4zfD0"
      }
    },
    {
      "cell_type": "code",
      "source": [
        "df.describe(include=['O'])"
      ],
      "metadata": {
        "colab": {
          "base_uri": "https://localhost:8080/",
          "height": 175
        },
        "id": "pAik2AhZzhnj",
        "outputId": "ddd43dd4-7f48-4975-d0d0-6d424ee1f7fe"
      },
      "execution_count": 98,
      "outputs": [
        {
          "output_type": "execute_result",
          "data": {
            "text/plain": [
              "          PreferedOrderCat MaritalStatus\n",
              "count                 3930          3930\n",
              "unique                   6             3\n",
              "top     Laptop & Accessory       Married\n",
              "freq                  1454          2049"
            ],
            "text/html": [
              "\n",
              "  <div id=\"df-de168b5c-2a32-44ec-a28c-fb0c9267f594\">\n",
              "    <div class=\"colab-df-container\">\n",
              "      <div>\n",
              "<style scoped>\n",
              "    .dataframe tbody tr th:only-of-type {\n",
              "        vertical-align: middle;\n",
              "    }\n",
              "\n",
              "    .dataframe tbody tr th {\n",
              "        vertical-align: top;\n",
              "    }\n",
              "\n",
              "    .dataframe thead th {\n",
              "        text-align: right;\n",
              "    }\n",
              "</style>\n",
              "<table border=\"1\" class=\"dataframe\">\n",
              "  <thead>\n",
              "    <tr style=\"text-align: right;\">\n",
              "      <th></th>\n",
              "      <th>PreferedOrderCat</th>\n",
              "      <th>MaritalStatus</th>\n",
              "    </tr>\n",
              "  </thead>\n",
              "  <tbody>\n",
              "    <tr>\n",
              "      <th>count</th>\n",
              "      <td>3930</td>\n",
              "      <td>3930</td>\n",
              "    </tr>\n",
              "    <tr>\n",
              "      <th>unique</th>\n",
              "      <td>6</td>\n",
              "      <td>3</td>\n",
              "    </tr>\n",
              "    <tr>\n",
              "      <th>top</th>\n",
              "      <td>Laptop &amp; Accessory</td>\n",
              "      <td>Married</td>\n",
              "    </tr>\n",
              "    <tr>\n",
              "      <th>freq</th>\n",
              "      <td>1454</td>\n",
              "      <td>2049</td>\n",
              "    </tr>\n",
              "  </tbody>\n",
              "</table>\n",
              "</div>\n",
              "      <button class=\"colab-df-convert\" onclick=\"convertToInteractive('df-de168b5c-2a32-44ec-a28c-fb0c9267f594')\"\n",
              "              title=\"Convert this dataframe to an interactive table.\"\n",
              "              style=\"display:none;\">\n",
              "        \n",
              "  <svg xmlns=\"http://www.w3.org/2000/svg\" height=\"24px\"viewBox=\"0 0 24 24\"\n",
              "       width=\"24px\">\n",
              "    <path d=\"M0 0h24v24H0V0z\" fill=\"none\"/>\n",
              "    <path d=\"M18.56 5.44l.94 2.06.94-2.06 2.06-.94-2.06-.94-.94-2.06-.94 2.06-2.06.94zm-11 1L8.5 8.5l.94-2.06 2.06-.94-2.06-.94L8.5 2.5l-.94 2.06-2.06.94zm10 10l.94 2.06.94-2.06 2.06-.94-2.06-.94-.94-2.06-.94 2.06-2.06.94z\"/><path d=\"M17.41 7.96l-1.37-1.37c-.4-.4-.92-.59-1.43-.59-.52 0-1.04.2-1.43.59L10.3 9.45l-7.72 7.72c-.78.78-.78 2.05 0 2.83L4 21.41c.39.39.9.59 1.41.59.51 0 1.02-.2 1.41-.59l7.78-7.78 2.81-2.81c.8-.78.8-2.07 0-2.86zM5.41 20L4 18.59l7.72-7.72 1.47 1.35L5.41 20z\"/>\n",
              "  </svg>\n",
              "      </button>\n",
              "      \n",
              "  <style>\n",
              "    .colab-df-container {\n",
              "      display:flex;\n",
              "      flex-wrap:wrap;\n",
              "      gap: 12px;\n",
              "    }\n",
              "\n",
              "    .colab-df-convert {\n",
              "      background-color: #E8F0FE;\n",
              "      border: none;\n",
              "      border-radius: 50%;\n",
              "      cursor: pointer;\n",
              "      display: none;\n",
              "      fill: #1967D2;\n",
              "      height: 32px;\n",
              "      padding: 0 0 0 0;\n",
              "      width: 32px;\n",
              "    }\n",
              "\n",
              "    .colab-df-convert:hover {\n",
              "      background-color: #E2EBFA;\n",
              "      box-shadow: 0px 1px 2px rgba(60, 64, 67, 0.3), 0px 1px 3px 1px rgba(60, 64, 67, 0.15);\n",
              "      fill: #174EA6;\n",
              "    }\n",
              "\n",
              "    [theme=dark] .colab-df-convert {\n",
              "      background-color: #3B4455;\n",
              "      fill: #D2E3FC;\n",
              "    }\n",
              "\n",
              "    [theme=dark] .colab-df-convert:hover {\n",
              "      background-color: #434B5C;\n",
              "      box-shadow: 0px 1px 3px 1px rgba(0, 0, 0, 0.15);\n",
              "      filter: drop-shadow(0px 1px 2px rgba(0, 0, 0, 0.3));\n",
              "      fill: #FFFFFF;\n",
              "    }\n",
              "  </style>\n",
              "\n",
              "      <script>\n",
              "        const buttonEl =\n",
              "          document.querySelector('#df-de168b5c-2a32-44ec-a28c-fb0c9267f594 button.colab-df-convert');\n",
              "        buttonEl.style.display =\n",
              "          google.colab.kernel.accessAllowed ? 'block' : 'none';\n",
              "\n",
              "        async function convertToInteractive(key) {\n",
              "          const element = document.querySelector('#df-de168b5c-2a32-44ec-a28c-fb0c9267f594');\n",
              "          const dataTable =\n",
              "            await google.colab.kernel.invokeFunction('convertToInteractive',\n",
              "                                                     [key], {});\n",
              "          if (!dataTable) return;\n",
              "\n",
              "          const docLinkHtml = 'Like what you see? Visit the ' +\n",
              "            '<a target=\"_blank\" href=https://colab.research.google.com/notebooks/data_table.ipynb>data table notebook</a>'\n",
              "            + ' to learn more about interactive tables.';\n",
              "          element.innerHTML = '';\n",
              "          dataTable['output_type'] = 'display_data';\n",
              "          await google.colab.output.renderOutput(dataTable, element);\n",
              "          const docLink = document.createElement('div');\n",
              "          docLink.innerHTML = docLinkHtml;\n",
              "          element.appendChild(docLink);\n",
              "        }\n",
              "      </script>\n",
              "    </div>\n",
              "  </div>\n",
              "  "
            ]
          },
          "metadata": {},
          "execution_count": 98
        }
      ]
    },
    {
      "cell_type": "code",
      "source": [
        "df.dropna().describe(include=['O'])"
      ],
      "metadata": {
        "colab": {
          "base_uri": "https://localhost:8080/",
          "height": 175
        },
        "id": "bbX2h6Hoz7qY",
        "outputId": "96b12594-0239-4320-e862-a6a4ed2ce009"
      },
      "execution_count": 99,
      "outputs": [
        {
          "output_type": "execute_result",
          "data": {
            "text/plain": [
              "          PreferedOrderCat MaritalStatus\n",
              "count                 3930          3930\n",
              "unique                   6             3\n",
              "top     Laptop & Accessory       Married\n",
              "freq                  1454          2049"
            ],
            "text/html": [
              "\n",
              "  <div id=\"df-cba13c80-e9f7-429e-83f7-036bc8ae952a\">\n",
              "    <div class=\"colab-df-container\">\n",
              "      <div>\n",
              "<style scoped>\n",
              "    .dataframe tbody tr th:only-of-type {\n",
              "        vertical-align: middle;\n",
              "    }\n",
              "\n",
              "    .dataframe tbody tr th {\n",
              "        vertical-align: top;\n",
              "    }\n",
              "\n",
              "    .dataframe thead th {\n",
              "        text-align: right;\n",
              "    }\n",
              "</style>\n",
              "<table border=\"1\" class=\"dataframe\">\n",
              "  <thead>\n",
              "    <tr style=\"text-align: right;\">\n",
              "      <th></th>\n",
              "      <th>PreferedOrderCat</th>\n",
              "      <th>MaritalStatus</th>\n",
              "    </tr>\n",
              "  </thead>\n",
              "  <tbody>\n",
              "    <tr>\n",
              "      <th>count</th>\n",
              "      <td>3930</td>\n",
              "      <td>3930</td>\n",
              "    </tr>\n",
              "    <tr>\n",
              "      <th>unique</th>\n",
              "      <td>6</td>\n",
              "      <td>3</td>\n",
              "    </tr>\n",
              "    <tr>\n",
              "      <th>top</th>\n",
              "      <td>Laptop &amp; Accessory</td>\n",
              "      <td>Married</td>\n",
              "    </tr>\n",
              "    <tr>\n",
              "      <th>freq</th>\n",
              "      <td>1454</td>\n",
              "      <td>2049</td>\n",
              "    </tr>\n",
              "  </tbody>\n",
              "</table>\n",
              "</div>\n",
              "      <button class=\"colab-df-convert\" onclick=\"convertToInteractive('df-cba13c80-e9f7-429e-83f7-036bc8ae952a')\"\n",
              "              title=\"Convert this dataframe to an interactive table.\"\n",
              "              style=\"display:none;\">\n",
              "        \n",
              "  <svg xmlns=\"http://www.w3.org/2000/svg\" height=\"24px\"viewBox=\"0 0 24 24\"\n",
              "       width=\"24px\">\n",
              "    <path d=\"M0 0h24v24H0V0z\" fill=\"none\"/>\n",
              "    <path d=\"M18.56 5.44l.94 2.06.94-2.06 2.06-.94-2.06-.94-.94-2.06-.94 2.06-2.06.94zm-11 1L8.5 8.5l.94-2.06 2.06-.94-2.06-.94L8.5 2.5l-.94 2.06-2.06.94zm10 10l.94 2.06.94-2.06 2.06-.94-2.06-.94-.94-2.06-.94 2.06-2.06.94z\"/><path d=\"M17.41 7.96l-1.37-1.37c-.4-.4-.92-.59-1.43-.59-.52 0-1.04.2-1.43.59L10.3 9.45l-7.72 7.72c-.78.78-.78 2.05 0 2.83L4 21.41c.39.39.9.59 1.41.59.51 0 1.02-.2 1.41-.59l7.78-7.78 2.81-2.81c.8-.78.8-2.07 0-2.86zM5.41 20L4 18.59l7.72-7.72 1.47 1.35L5.41 20z\"/>\n",
              "  </svg>\n",
              "      </button>\n",
              "      \n",
              "  <style>\n",
              "    .colab-df-container {\n",
              "      display:flex;\n",
              "      flex-wrap:wrap;\n",
              "      gap: 12px;\n",
              "    }\n",
              "\n",
              "    .colab-df-convert {\n",
              "      background-color: #E8F0FE;\n",
              "      border: none;\n",
              "      border-radius: 50%;\n",
              "      cursor: pointer;\n",
              "      display: none;\n",
              "      fill: #1967D2;\n",
              "      height: 32px;\n",
              "      padding: 0 0 0 0;\n",
              "      width: 32px;\n",
              "    }\n",
              "\n",
              "    .colab-df-convert:hover {\n",
              "      background-color: #E2EBFA;\n",
              "      box-shadow: 0px 1px 2px rgba(60, 64, 67, 0.3), 0px 1px 3px 1px rgba(60, 64, 67, 0.15);\n",
              "      fill: #174EA6;\n",
              "    }\n",
              "\n",
              "    [theme=dark] .colab-df-convert {\n",
              "      background-color: #3B4455;\n",
              "      fill: #D2E3FC;\n",
              "    }\n",
              "\n",
              "    [theme=dark] .colab-df-convert:hover {\n",
              "      background-color: #434B5C;\n",
              "      box-shadow: 0px 1px 3px 1px rgba(0, 0, 0, 0.15);\n",
              "      filter: drop-shadow(0px 1px 2px rgba(0, 0, 0, 0.3));\n",
              "      fill: #FFFFFF;\n",
              "    }\n",
              "  </style>\n",
              "\n",
              "      <script>\n",
              "        const buttonEl =\n",
              "          document.querySelector('#df-cba13c80-e9f7-429e-83f7-036bc8ae952a button.colab-df-convert');\n",
              "        buttonEl.style.display =\n",
              "          google.colab.kernel.accessAllowed ? 'block' : 'none';\n",
              "\n",
              "        async function convertToInteractive(key) {\n",
              "          const element = document.querySelector('#df-cba13c80-e9f7-429e-83f7-036bc8ae952a');\n",
              "          const dataTable =\n",
              "            await google.colab.kernel.invokeFunction('convertToInteractive',\n",
              "                                                     [key], {});\n",
              "          if (!dataTable) return;\n",
              "\n",
              "          const docLinkHtml = 'Like what you see? Visit the ' +\n",
              "            '<a target=\"_blank\" href=https://colab.research.google.com/notebooks/data_table.ipynb>data table notebook</a>'\n",
              "            + ' to learn more about interactive tables.';\n",
              "          element.innerHTML = '';\n",
              "          dataTable['output_type'] = 'display_data';\n",
              "          await google.colab.output.renderOutput(dataTable, element);\n",
              "          const docLink = document.createElement('div');\n",
              "          docLink.innerHTML = docLinkHtml;\n",
              "          element.appendChild(docLink);\n",
              "        }\n",
              "      </script>\n",
              "    </div>\n",
              "  </div>\n",
              "  "
            ]
          },
          "metadata": {},
          "execution_count": 99
        }
      ]
    },
    {
      "cell_type": "code",
      "source": [
        "df['PreferedOrderCat'].unique()"
      ],
      "metadata": {
        "colab": {
          "base_uri": "https://localhost:8080/"
        },
        "id": "m8GAFKXc0M1F",
        "outputId": "1c0dc380-9e82-401a-d738-b6edd4aee404"
      },
      "execution_count": 100,
      "outputs": [
        {
          "output_type": "execute_result",
          "data": {
            "text/plain": [
              "array(['Laptop & Accessory', 'Mobile', 'Fashion', 'Others',\n",
              "       'Mobile Phone', 'Grocery'], dtype=object)"
            ]
          },
          "metadata": {},
          "execution_count": 100
        }
      ]
    },
    {
      "cell_type": "code",
      "source": [
        "df.dropna()['PreferedOrderCat'].unique()"
      ],
      "metadata": {
        "colab": {
          "base_uri": "https://localhost:8080/"
        },
        "id": "52b5QHP_0Qjs",
        "outputId": "bd1fd6d8-9895-40d5-b8af-bcfc8e7fd3d2"
      },
      "execution_count": 101,
      "outputs": [
        {
          "output_type": "execute_result",
          "data": {
            "text/plain": [
              "array(['Laptop & Accessory', 'Mobile', 'Fashion', 'Others',\n",
              "       'Mobile Phone', 'Grocery'], dtype=object)"
            ]
          },
          "metadata": {},
          "execution_count": 101
        }
      ]
    },
    {
      "cell_type": "code",
      "source": [
        "df['MaritalStatus'].unique()"
      ],
      "metadata": {
        "colab": {
          "base_uri": "https://localhost:8080/"
        },
        "id": "DVomBi5N0SpT",
        "outputId": "ce24c075-a799-4292-a317-16957196a3ee"
      },
      "execution_count": 102,
      "outputs": [
        {
          "output_type": "execute_result",
          "data": {
            "text/plain": [
              "array(['Single', 'Married', 'Divorced'], dtype=object)"
            ]
          },
          "metadata": {},
          "execution_count": 102
        }
      ]
    },
    {
      "cell_type": "code",
      "source": [
        "df.dropna()['MaritalStatus'].unique()"
      ],
      "metadata": {
        "colab": {
          "base_uri": "https://localhost:8080/"
        },
        "id": "M5B51moO0rE3",
        "outputId": "ef05e5fa-599b-48c4-f5d2-ecec20f454b3"
      },
      "execution_count": 103,
      "outputs": [
        {
          "output_type": "execute_result",
          "data": {
            "text/plain": [
              "array(['Single', 'Married', 'Divorced'], dtype=object)"
            ]
          },
          "metadata": {},
          "execution_count": 103
        }
      ]
    },
    {
      "cell_type": "markdown",
      "source": [
        "Data kosong pada fitur kategorikal menyebar secara rata sehingga tidak ada value yang hilang dari fitur kategorikal ketika data kosongnya dihapus."
      ],
      "metadata": {
        "id": "HCmBOgbs3Vfm"
      }
    },
    {
      "cell_type": "markdown",
      "source": [
        "# Part 3 : Feature Engineering"
      ],
      "metadata": {
        "id": "SQrxkaals39g"
      }
    },
    {
      "cell_type": "markdown",
      "source": [
        "## Data Preparation"
      ],
      "metadata": {
        "id": "P-fsfxtoi14Q"
      }
    },
    {
      "cell_type": "code",
      "source": [
        "df.head()"
      ],
      "metadata": {
        "colab": {
          "base_uri": "https://localhost:8080/",
          "height": 305
        },
        "id": "lCOtDE3TH3jh",
        "outputId": "52c835f0-cace-4d3d-8143-78288c4a266f"
      },
      "execution_count": 104,
      "outputs": [
        {
          "output_type": "execute_result",
          "data": {
            "text/plain": [
              "   Tenure  WarehouseToHome  NumberOfDeviceRegistered    PreferedOrderCat  \\\n",
              "0    15.0             29.0                         4  Laptop & Accessory   \n",
              "1     7.0             25.0                         4              Mobile   \n",
              "2    27.0             13.0                         3  Laptop & Accessory   \n",
              "3    20.0             25.0                         4             Fashion   \n",
              "4    30.0             15.0                         4              Others   \n",
              "\n",
              "   SatisfactionScore MaritalStatus  NumberOfAddress  Complain  \\\n",
              "0                  3        Single                2         0   \n",
              "1                  1       Married                2         0   \n",
              "2                  1       Married                5         0   \n",
              "3                  3      Divorced                7         0   \n",
              "4                  4        Single                8         0   \n",
              "\n",
              "   DaySinceLastOrder  CashbackAmount  Churn  \n",
              "0                7.0          143.32      0  \n",
              "1                7.0          129.29      0  \n",
              "2                7.0          168.54      0  \n",
              "3                3.0          230.27      0  \n",
              "4                8.0          322.17      0  "
            ],
            "text/html": [
              "\n",
              "  <div id=\"df-b8233a6d-4f2e-47a1-81e5-282a6395a524\">\n",
              "    <div class=\"colab-df-container\">\n",
              "      <div>\n",
              "<style scoped>\n",
              "    .dataframe tbody tr th:only-of-type {\n",
              "        vertical-align: middle;\n",
              "    }\n",
              "\n",
              "    .dataframe tbody tr th {\n",
              "        vertical-align: top;\n",
              "    }\n",
              "\n",
              "    .dataframe thead th {\n",
              "        text-align: right;\n",
              "    }\n",
              "</style>\n",
              "<table border=\"1\" class=\"dataframe\">\n",
              "  <thead>\n",
              "    <tr style=\"text-align: right;\">\n",
              "      <th></th>\n",
              "      <th>Tenure</th>\n",
              "      <th>WarehouseToHome</th>\n",
              "      <th>NumberOfDeviceRegistered</th>\n",
              "      <th>PreferedOrderCat</th>\n",
              "      <th>SatisfactionScore</th>\n",
              "      <th>MaritalStatus</th>\n",
              "      <th>NumberOfAddress</th>\n",
              "      <th>Complain</th>\n",
              "      <th>DaySinceLastOrder</th>\n",
              "      <th>CashbackAmount</th>\n",
              "      <th>Churn</th>\n",
              "    </tr>\n",
              "  </thead>\n",
              "  <tbody>\n",
              "    <tr>\n",
              "      <th>0</th>\n",
              "      <td>15.0</td>\n",
              "      <td>29.0</td>\n",
              "      <td>4</td>\n",
              "      <td>Laptop &amp; Accessory</td>\n",
              "      <td>3</td>\n",
              "      <td>Single</td>\n",
              "      <td>2</td>\n",
              "      <td>0</td>\n",
              "      <td>7.0</td>\n",
              "      <td>143.32</td>\n",
              "      <td>0</td>\n",
              "    </tr>\n",
              "    <tr>\n",
              "      <th>1</th>\n",
              "      <td>7.0</td>\n",
              "      <td>25.0</td>\n",
              "      <td>4</td>\n",
              "      <td>Mobile</td>\n",
              "      <td>1</td>\n",
              "      <td>Married</td>\n",
              "      <td>2</td>\n",
              "      <td>0</td>\n",
              "      <td>7.0</td>\n",
              "      <td>129.29</td>\n",
              "      <td>0</td>\n",
              "    </tr>\n",
              "    <tr>\n",
              "      <th>2</th>\n",
              "      <td>27.0</td>\n",
              "      <td>13.0</td>\n",
              "      <td>3</td>\n",
              "      <td>Laptop &amp; Accessory</td>\n",
              "      <td>1</td>\n",
              "      <td>Married</td>\n",
              "      <td>5</td>\n",
              "      <td>0</td>\n",
              "      <td>7.0</td>\n",
              "      <td>168.54</td>\n",
              "      <td>0</td>\n",
              "    </tr>\n",
              "    <tr>\n",
              "      <th>3</th>\n",
              "      <td>20.0</td>\n",
              "      <td>25.0</td>\n",
              "      <td>4</td>\n",
              "      <td>Fashion</td>\n",
              "      <td>3</td>\n",
              "      <td>Divorced</td>\n",
              "      <td>7</td>\n",
              "      <td>0</td>\n",
              "      <td>3.0</td>\n",
              "      <td>230.27</td>\n",
              "      <td>0</td>\n",
              "    </tr>\n",
              "    <tr>\n",
              "      <th>4</th>\n",
              "      <td>30.0</td>\n",
              "      <td>15.0</td>\n",
              "      <td>4</td>\n",
              "      <td>Others</td>\n",
              "      <td>4</td>\n",
              "      <td>Single</td>\n",
              "      <td>8</td>\n",
              "      <td>0</td>\n",
              "      <td>8.0</td>\n",
              "      <td>322.17</td>\n",
              "      <td>0</td>\n",
              "    </tr>\n",
              "  </tbody>\n",
              "</table>\n",
              "</div>\n",
              "      <button class=\"colab-df-convert\" onclick=\"convertToInteractive('df-b8233a6d-4f2e-47a1-81e5-282a6395a524')\"\n",
              "              title=\"Convert this dataframe to an interactive table.\"\n",
              "              style=\"display:none;\">\n",
              "        \n",
              "  <svg xmlns=\"http://www.w3.org/2000/svg\" height=\"24px\"viewBox=\"0 0 24 24\"\n",
              "       width=\"24px\">\n",
              "    <path d=\"M0 0h24v24H0V0z\" fill=\"none\"/>\n",
              "    <path d=\"M18.56 5.44l.94 2.06.94-2.06 2.06-.94-2.06-.94-.94-2.06-.94 2.06-2.06.94zm-11 1L8.5 8.5l.94-2.06 2.06-.94-2.06-.94L8.5 2.5l-.94 2.06-2.06.94zm10 10l.94 2.06.94-2.06 2.06-.94-2.06-.94-.94-2.06-.94 2.06-2.06.94z\"/><path d=\"M17.41 7.96l-1.37-1.37c-.4-.4-.92-.59-1.43-.59-.52 0-1.04.2-1.43.59L10.3 9.45l-7.72 7.72c-.78.78-.78 2.05 0 2.83L4 21.41c.39.39.9.59 1.41.59.51 0 1.02-.2 1.41-.59l7.78-7.78 2.81-2.81c.8-.78.8-2.07 0-2.86zM5.41 20L4 18.59l7.72-7.72 1.47 1.35L5.41 20z\"/>\n",
              "  </svg>\n",
              "      </button>\n",
              "      \n",
              "  <style>\n",
              "    .colab-df-container {\n",
              "      display:flex;\n",
              "      flex-wrap:wrap;\n",
              "      gap: 12px;\n",
              "    }\n",
              "\n",
              "    .colab-df-convert {\n",
              "      background-color: #E8F0FE;\n",
              "      border: none;\n",
              "      border-radius: 50%;\n",
              "      cursor: pointer;\n",
              "      display: none;\n",
              "      fill: #1967D2;\n",
              "      height: 32px;\n",
              "      padding: 0 0 0 0;\n",
              "      width: 32px;\n",
              "    }\n",
              "\n",
              "    .colab-df-convert:hover {\n",
              "      background-color: #E2EBFA;\n",
              "      box-shadow: 0px 1px 2px rgba(60, 64, 67, 0.3), 0px 1px 3px 1px rgba(60, 64, 67, 0.15);\n",
              "      fill: #174EA6;\n",
              "    }\n",
              "\n",
              "    [theme=dark] .colab-df-convert {\n",
              "      background-color: #3B4455;\n",
              "      fill: #D2E3FC;\n",
              "    }\n",
              "\n",
              "    [theme=dark] .colab-df-convert:hover {\n",
              "      background-color: #434B5C;\n",
              "      box-shadow: 0px 1px 3px 1px rgba(0, 0, 0, 0.15);\n",
              "      filter: drop-shadow(0px 1px 2px rgba(0, 0, 0, 0.3));\n",
              "      fill: #FFFFFF;\n",
              "    }\n",
              "  </style>\n",
              "\n",
              "      <script>\n",
              "        const buttonEl =\n",
              "          document.querySelector('#df-b8233a6d-4f2e-47a1-81e5-282a6395a524 button.colab-df-convert');\n",
              "        buttonEl.style.display =\n",
              "          google.colab.kernel.accessAllowed ? 'block' : 'none';\n",
              "\n",
              "        async function convertToInteractive(key) {\n",
              "          const element = document.querySelector('#df-b8233a6d-4f2e-47a1-81e5-282a6395a524');\n",
              "          const dataTable =\n",
              "            await google.colab.kernel.invokeFunction('convertToInteractive',\n",
              "                                                     [key], {});\n",
              "          if (!dataTable) return;\n",
              "\n",
              "          const docLinkHtml = 'Like what you see? Visit the ' +\n",
              "            '<a target=\"_blank\" href=https://colab.research.google.com/notebooks/data_table.ipynb>data table notebook</a>'\n",
              "            + ' to learn more about interactive tables.';\n",
              "          element.innerHTML = '';\n",
              "          dataTable['output_type'] = 'display_data';\n",
              "          await google.colab.output.renderOutput(dataTable, element);\n",
              "          const docLink = document.createElement('div');\n",
              "          docLink.innerHTML = docLinkHtml;\n",
              "          element.appendChild(docLink);\n",
              "        }\n",
              "      </script>\n",
              "    </div>\n",
              "  </div>\n",
              "  "
            ]
          },
          "metadata": {},
          "execution_count": 104
        }
      ]
    },
    {
      "cell_type": "markdown",
      "source": [
        "Sekarang mari kita melakukan fitur encoding untuk fitur2 categorical yang kita miliki.\n",
        "Yang akan kita lakukan adalah :\n",
        "\n",
        "1. Merubah fitur/kolom `PreferedOrderCat` menggunakan One Hot Encoding, karena fitur ini tidak memiliki urutan/tidak ordinal, dan juga jumlah unique datanya hanya sedikit.\n",
        "2. Merubah fitur/kolom `MaritalStatus` menggunakan One Hot Encoding, karena fitur ini tidak memiliki urutan/tidak ordinal, dan juga jumlah unique datanya hanya sedikit."
      ],
      "metadata": {
        "id": "ZhwuRzRQH5Ig"
      }
    },
    {
      "cell_type": "code",
      "source": [
        "X = df.drop(columns=['Churn'])\n",
        "y = df['Churn']"
      ],
      "metadata": {
        "id": "w_HzmBZmIuxV"
      },
      "execution_count": 106,
      "outputs": []
    },
    {
      "cell_type": "code",
      "source": [
        "X_train, X_test, y_train, y_test = train_test_split(X,y,stratify=y,test_size=0.2,random_state=0)"
      ],
      "metadata": {
        "id": "tQ11M_CmIxMS"
      },
      "execution_count": 107,
      "outputs": []
    },
    {
      "cell_type": "code",
      "source": [
        "transformer = ColumnTransformer([\n",
        "    ('onehot', OneHotEncoder(drop='first'), ['PreferedOrderCat','MaritalStatus'])\n",
        "], remainder='passthrough')"
      ],
      "metadata": {
        "id": "QXgSQpaiIfNU"
      },
      "execution_count": 105,
      "outputs": []
    },
    {
      "cell_type": "markdown",
      "source": [
        "# Part 4: Modelling and Evaluation"
      ],
      "metadata": {
        "id": "LcwaHBm6JZ_z"
      }
    },
    {
      "cell_type": "code",
      "source": [
        "logreg = LogisticRegression()\n",
        "knn = KNeighborsClassifier()\n",
        "dt = DecisionTreeClassifier()\n",
        "rf = RandomForestClassifier()\n",
        "xgb = XGBClassifier()\n",
        "lgbm = lgb.LGBMClassifier()"
      ],
      "metadata": {
        "id": "PSbJxLImJcIF"
      },
      "execution_count": 110,
      "outputs": []
    },
    {
      "cell_type": "markdown",
      "source": [
        "## Modelling"
      ],
      "metadata": {
        "id": "P_UyAeb_kf2e"
      }
    },
    {
      "cell_type": "markdown",
      "source": [
        "### Model Benchmarking : K-Fold"
      ],
      "metadata": {
        "id": "vBHaxpih9vCS"
      }
    },
    {
      "cell_type": "code",
      "source": [
        "models = [logreg,knn,dt,rf,xgb,lgbm]\n",
        "score=[]\n",
        "rata=[]\n",
        "std=[]\n",
        "\n",
        "for i in models:\n",
        "    skfold=StratifiedKFold(n_splits=5)\n",
        "    estimator=Pipeline([\n",
        "        ('preprocess',transformer),\n",
        "        # ('scaler',scaler),\n",
        "        ('model',i)])\n",
        "    model_cv=cross_val_score(estimator,X_train,y_train,cv=skfold,scoring='f1')\n",
        "    score.append(model_cv)\n",
        "    rata.append(model_cv.mean())\n",
        "    std.append(model_cv.std())\n",
        "    \n",
        "pd.DataFrame({'model':['Logistic Regression', 'KNN', 'Decision Tree', 'Random Forest', 'XGBoost', 'LightGBM'],'mean f1_score':rata,'sdev':std}).set_index('model').sort_values(by='mean f1_score',ascending=False)"
      ],
      "metadata": {
        "colab": {
          "base_uri": "https://localhost:8080/",
          "height": 963
        },
        "id": "eQsvh3yN8kq_",
        "outputId": "5d5b86c8-5bc1-4629-b003-0778a10723c8"
      },
      "execution_count": 111,
      "outputs": [
        {
          "output_type": "stream",
          "name": "stderr",
          "text": [
            "/usr/local/lib/python3.7/dist-packages/sklearn/linear_model/_logistic.py:818: ConvergenceWarning: lbfgs failed to converge (status=1):\n",
            "STOP: TOTAL NO. of ITERATIONS REACHED LIMIT.\n",
            "\n",
            "Increase the number of iterations (max_iter) or scale the data as shown in:\n",
            "    https://scikit-learn.org/stable/modules/preprocessing.html\n",
            "Please also refer to the documentation for alternative solver options:\n",
            "    https://scikit-learn.org/stable/modules/linear_model.html#logistic-regression\n",
            "  extra_warning_msg=_LOGISTIC_SOLVER_CONVERGENCE_MSG,\n",
            "/usr/local/lib/python3.7/dist-packages/sklearn/linear_model/_logistic.py:818: ConvergenceWarning: lbfgs failed to converge (status=1):\n",
            "STOP: TOTAL NO. of ITERATIONS REACHED LIMIT.\n",
            "\n",
            "Increase the number of iterations (max_iter) or scale the data as shown in:\n",
            "    https://scikit-learn.org/stable/modules/preprocessing.html\n",
            "Please also refer to the documentation for alternative solver options:\n",
            "    https://scikit-learn.org/stable/modules/linear_model.html#logistic-regression\n",
            "  extra_warning_msg=_LOGISTIC_SOLVER_CONVERGENCE_MSG,\n",
            "/usr/local/lib/python3.7/dist-packages/sklearn/linear_model/_logistic.py:818: ConvergenceWarning: lbfgs failed to converge (status=1):\n",
            "STOP: TOTAL NO. of ITERATIONS REACHED LIMIT.\n",
            "\n",
            "Increase the number of iterations (max_iter) or scale the data as shown in:\n",
            "    https://scikit-learn.org/stable/modules/preprocessing.html\n",
            "Please also refer to the documentation for alternative solver options:\n",
            "    https://scikit-learn.org/stable/modules/linear_model.html#logistic-regression\n",
            "  extra_warning_msg=_LOGISTIC_SOLVER_CONVERGENCE_MSG,\n",
            "/usr/local/lib/python3.7/dist-packages/sklearn/linear_model/_logistic.py:818: ConvergenceWarning: lbfgs failed to converge (status=1):\n",
            "STOP: TOTAL NO. of ITERATIONS REACHED LIMIT.\n",
            "\n",
            "Increase the number of iterations (max_iter) or scale the data as shown in:\n",
            "    https://scikit-learn.org/stable/modules/preprocessing.html\n",
            "Please also refer to the documentation for alternative solver options:\n",
            "    https://scikit-learn.org/stable/modules/linear_model.html#logistic-regression\n",
            "  extra_warning_msg=_LOGISTIC_SOLVER_CONVERGENCE_MSG,\n",
            "/usr/local/lib/python3.7/dist-packages/sklearn/linear_model/_logistic.py:818: ConvergenceWarning: lbfgs failed to converge (status=1):\n",
            "STOP: TOTAL NO. of ITERATIONS REACHED LIMIT.\n",
            "\n",
            "Increase the number of iterations (max_iter) or scale the data as shown in:\n",
            "    https://scikit-learn.org/stable/modules/preprocessing.html\n",
            "Please also refer to the documentation for alternative solver options:\n",
            "    https://scikit-learn.org/stable/modules/linear_model.html#logistic-regression\n",
            "  extra_warning_msg=_LOGISTIC_SOLVER_CONVERGENCE_MSG,\n"
          ]
        },
        {
          "output_type": "execute_result",
          "data": {
            "text/plain": [
              "                     mean f1_score      sdev\n",
              "model                                       \n",
              "LightGBM                  0.795712  0.019675\n",
              "Random Forest             0.786080  0.034014\n",
              "Decision Tree             0.751564  0.024772\n",
              "XGBoost                   0.682074  0.043350\n",
              "Logistic Regression       0.584946  0.054401\n",
              "KNN                       0.483639  0.024509"
            ],
            "text/html": [
              "\n",
              "  <div id=\"df-35190cee-50f6-4183-a026-ce46ebe40686\">\n",
              "    <div class=\"colab-df-container\">\n",
              "      <div>\n",
              "<style scoped>\n",
              "    .dataframe tbody tr th:only-of-type {\n",
              "        vertical-align: middle;\n",
              "    }\n",
              "\n",
              "    .dataframe tbody tr th {\n",
              "        vertical-align: top;\n",
              "    }\n",
              "\n",
              "    .dataframe thead th {\n",
              "        text-align: right;\n",
              "    }\n",
              "</style>\n",
              "<table border=\"1\" class=\"dataframe\">\n",
              "  <thead>\n",
              "    <tr style=\"text-align: right;\">\n",
              "      <th></th>\n",
              "      <th>mean f1_score</th>\n",
              "      <th>sdev</th>\n",
              "    </tr>\n",
              "    <tr>\n",
              "      <th>model</th>\n",
              "      <th></th>\n",
              "      <th></th>\n",
              "    </tr>\n",
              "  </thead>\n",
              "  <tbody>\n",
              "    <tr>\n",
              "      <th>LightGBM</th>\n",
              "      <td>0.795712</td>\n",
              "      <td>0.019675</td>\n",
              "    </tr>\n",
              "    <tr>\n",
              "      <th>Random Forest</th>\n",
              "      <td>0.786080</td>\n",
              "      <td>0.034014</td>\n",
              "    </tr>\n",
              "    <tr>\n",
              "      <th>Decision Tree</th>\n",
              "      <td>0.751564</td>\n",
              "      <td>0.024772</td>\n",
              "    </tr>\n",
              "    <tr>\n",
              "      <th>XGBoost</th>\n",
              "      <td>0.682074</td>\n",
              "      <td>0.043350</td>\n",
              "    </tr>\n",
              "    <tr>\n",
              "      <th>Logistic Regression</th>\n",
              "      <td>0.584946</td>\n",
              "      <td>0.054401</td>\n",
              "    </tr>\n",
              "    <tr>\n",
              "      <th>KNN</th>\n",
              "      <td>0.483639</td>\n",
              "      <td>0.024509</td>\n",
              "    </tr>\n",
              "  </tbody>\n",
              "</table>\n",
              "</div>\n",
              "      <button class=\"colab-df-convert\" onclick=\"convertToInteractive('df-35190cee-50f6-4183-a026-ce46ebe40686')\"\n",
              "              title=\"Convert this dataframe to an interactive table.\"\n",
              "              style=\"display:none;\">\n",
              "        \n",
              "  <svg xmlns=\"http://www.w3.org/2000/svg\" height=\"24px\"viewBox=\"0 0 24 24\"\n",
              "       width=\"24px\">\n",
              "    <path d=\"M0 0h24v24H0V0z\" fill=\"none\"/>\n",
              "    <path d=\"M18.56 5.44l.94 2.06.94-2.06 2.06-.94-2.06-.94-.94-2.06-.94 2.06-2.06.94zm-11 1L8.5 8.5l.94-2.06 2.06-.94-2.06-.94L8.5 2.5l-.94 2.06-2.06.94zm10 10l.94 2.06.94-2.06 2.06-.94-2.06-.94-.94-2.06-.94 2.06-2.06.94z\"/><path d=\"M17.41 7.96l-1.37-1.37c-.4-.4-.92-.59-1.43-.59-.52 0-1.04.2-1.43.59L10.3 9.45l-7.72 7.72c-.78.78-.78 2.05 0 2.83L4 21.41c.39.39.9.59 1.41.59.51 0 1.02-.2 1.41-.59l7.78-7.78 2.81-2.81c.8-.78.8-2.07 0-2.86zM5.41 20L4 18.59l7.72-7.72 1.47 1.35L5.41 20z\"/>\n",
              "  </svg>\n",
              "      </button>\n",
              "      \n",
              "  <style>\n",
              "    .colab-df-container {\n",
              "      display:flex;\n",
              "      flex-wrap:wrap;\n",
              "      gap: 12px;\n",
              "    }\n",
              "\n",
              "    .colab-df-convert {\n",
              "      background-color: #E8F0FE;\n",
              "      border: none;\n",
              "      border-radius: 50%;\n",
              "      cursor: pointer;\n",
              "      display: none;\n",
              "      fill: #1967D2;\n",
              "      height: 32px;\n",
              "      padding: 0 0 0 0;\n",
              "      width: 32px;\n",
              "    }\n",
              "\n",
              "    .colab-df-convert:hover {\n",
              "      background-color: #E2EBFA;\n",
              "      box-shadow: 0px 1px 2px rgba(60, 64, 67, 0.3), 0px 1px 3px 1px rgba(60, 64, 67, 0.15);\n",
              "      fill: #174EA6;\n",
              "    }\n",
              "\n",
              "    [theme=dark] .colab-df-convert {\n",
              "      background-color: #3B4455;\n",
              "      fill: #D2E3FC;\n",
              "    }\n",
              "\n",
              "    [theme=dark] .colab-df-convert:hover {\n",
              "      background-color: #434B5C;\n",
              "      box-shadow: 0px 1px 3px 1px rgba(0, 0, 0, 0.15);\n",
              "      filter: drop-shadow(0px 1px 2px rgba(0, 0, 0, 0.3));\n",
              "      fill: #FFFFFF;\n",
              "    }\n",
              "  </style>\n",
              "\n",
              "      <script>\n",
              "        const buttonEl =\n",
              "          document.querySelector('#df-35190cee-50f6-4183-a026-ce46ebe40686 button.colab-df-convert');\n",
              "        buttonEl.style.display =\n",
              "          google.colab.kernel.accessAllowed ? 'block' : 'none';\n",
              "\n",
              "        async function convertToInteractive(key) {\n",
              "          const element = document.querySelector('#df-35190cee-50f6-4183-a026-ce46ebe40686');\n",
              "          const dataTable =\n",
              "            await google.colab.kernel.invokeFunction('convertToInteractive',\n",
              "                                                     [key], {});\n",
              "          if (!dataTable) return;\n",
              "\n",
              "          const docLinkHtml = 'Like what you see? Visit the ' +\n",
              "            '<a target=\"_blank\" href=https://colab.research.google.com/notebooks/data_table.ipynb>data table notebook</a>'\n",
              "            + ' to learn more about interactive tables.';\n",
              "          element.innerHTML = '';\n",
              "          dataTable['output_type'] = 'display_data';\n",
              "          await google.colab.output.renderOutput(dataTable, element);\n",
              "          const docLink = document.createElement('div');\n",
              "          docLink.innerHTML = docLinkHtml;\n",
              "          element.appendChild(docLink);\n",
              "        }\n",
              "      </script>\n",
              "    </div>\n",
              "  </div>\n",
              "  "
            ]
          },
          "metadata": {},
          "execution_count": 111
        }
      ]
    },
    {
      "cell_type": "markdown",
      "source": [
        "Terlihat bahwa model LightGBM adalah yang terbaik untuk f1 scorenya dari setiap model yang menggunakan default hyperparameter. LightGBM juga memiliki rata-rata standar deviasi yang paling rendah sehingga membuatnya menjadi model paling konsisten dibanding model lainnya."
      ],
      "metadata": {
        "id": "XTlgKqADMeR5"
      }
    },
    {
      "cell_type": "markdown",
      "source": [
        "### Model Benchmarking : Test Data"
      ],
      "metadata": {
        "id": "MnKa6QGD90IL"
      }
    },
    {
      "cell_type": "code",
      "source": [
        "models = [logreg,knn,dt,rf,xgb,lgbm]\n",
        "score_f1 = []\n",
        "\n",
        "def y_pred_func(i):\n",
        "    estimator=Pipeline([\n",
        "        ('preprocess',transformer),\n",
        "        ('model',i)])\n",
        "    X_train,X_test\n",
        "    \n",
        "    estimator.fit(X_train,y_train)\n",
        "    return(estimator,estimator.predict(X_test),X_test)\n",
        "\n",
        "for i,j in zip(models, ['Logistic Regression', 'KNN', 'Decision Tree', 'Random Forest', 'XGBoost','LightGBM']):\n",
        "    estimator,y_pred,X_test = y_pred_func(i)\n",
        "    score_f1.append(f1_score(y_test,y_pred))\n",
        "    print(j,'\\n', classification_report(y_test,y_pred))\n",
        "    \n",
        "pd.DataFrame({'model':['Logistic Regression', 'KNN', 'Decision Tree', 'Random Forest', 'XGBoost','LightGBM'],\n",
        "             'f1 score':score_f1}).set_index('model').sort_values(by='f1 score',ascending=False)"
      ],
      "metadata": {
        "colab": {
          "base_uri": "https://localhost:8080/",
          "height": 1000
        },
        "id": "tU8D_VQu93GL",
        "outputId": "1ea0eabc-0cfc-4ae1-f8d6-4e67eda4cfc1"
      },
      "execution_count": 112,
      "outputs": [
        {
          "output_type": "stream",
          "name": "stderr",
          "text": [
            "/usr/local/lib/python3.7/dist-packages/sklearn/linear_model/_logistic.py:818: ConvergenceWarning: lbfgs failed to converge (status=1):\n",
            "STOP: TOTAL NO. of ITERATIONS REACHED LIMIT.\n",
            "\n",
            "Increase the number of iterations (max_iter) or scale the data as shown in:\n",
            "    https://scikit-learn.org/stable/modules/preprocessing.html\n",
            "Please also refer to the documentation for alternative solver options:\n",
            "    https://scikit-learn.org/stable/modules/linear_model.html#logistic-regression\n",
            "  extra_warning_msg=_LOGISTIC_SOLVER_CONVERGENCE_MSG,\n"
          ]
        },
        {
          "output_type": "stream",
          "name": "stdout",
          "text": [
            "Logistic Regression \n",
            "               precision    recall  f1-score   support\n",
            "\n",
            "           0       0.90      0.97      0.93       652\n",
            "           1       0.76      0.45      0.56       134\n",
            "\n",
            "    accuracy                           0.88       786\n",
            "   macro avg       0.83      0.71      0.75       786\n",
            "weighted avg       0.87      0.88      0.87       786\n",
            "\n",
            "KNN \n",
            "               precision    recall  f1-score   support\n",
            "\n",
            "           0       0.88      0.94      0.91       652\n",
            "           1       0.56      0.37      0.45       134\n",
            "\n",
            "    accuracy                           0.84       786\n",
            "   macro avg       0.72      0.66      0.68       786\n",
            "weighted avg       0.82      0.84      0.83       786\n",
            "\n",
            "Decision Tree \n",
            "               precision    recall  f1-score   support\n",
            "\n",
            "           0       0.95      0.96      0.96       652\n",
            "           1       0.80      0.76      0.78       134\n",
            "\n",
            "    accuracy                           0.93       786\n",
            "   macro avg       0.87      0.86      0.87       786\n",
            "weighted avg       0.93      0.93      0.93       786\n",
            "\n",
            "Random Forest \n",
            "               precision    recall  f1-score   support\n",
            "\n",
            "           0       0.94      0.98      0.96       652\n",
            "           1       0.87      0.72      0.79       134\n",
            "\n",
            "    accuracy                           0.93       786\n",
            "   macro avg       0.91      0.85      0.87       786\n",
            "weighted avg       0.93      0.93      0.93       786\n",
            "\n",
            "XGBoost \n",
            "               precision    recall  f1-score   support\n",
            "\n",
            "           0       0.92      0.96      0.94       652\n",
            "           1       0.76      0.57      0.65       134\n",
            "\n",
            "    accuracy                           0.90       786\n",
            "   macro avg       0.84      0.77      0.79       786\n",
            "weighted avg       0.89      0.90      0.89       786\n",
            "\n",
            "LightGBM \n",
            "               precision    recall  f1-score   support\n",
            "\n",
            "           0       0.95      0.96      0.96       652\n",
            "           1       0.81      0.74      0.77       134\n",
            "\n",
            "    accuracy                           0.93       786\n",
            "   macro avg       0.88      0.85      0.86       786\n",
            "weighted avg       0.92      0.93      0.92       786\n",
            "\n"
          ]
        },
        {
          "output_type": "execute_result",
          "data": {
            "text/plain": [
              "                     f1 score\n",
              "model                        \n",
              "Random Forest        0.786885\n",
              "Decision Tree        0.778626\n",
              "LightGBM             0.773438\n",
              "XGBoost              0.649573\n",
              "Logistic Regression  0.563380\n",
              "KNN                  0.446429"
            ],
            "text/html": [
              "\n",
              "  <div id=\"df-5cabb67b-2350-4928-9e77-bc6395018542\">\n",
              "    <div class=\"colab-df-container\">\n",
              "      <div>\n",
              "<style scoped>\n",
              "    .dataframe tbody tr th:only-of-type {\n",
              "        vertical-align: middle;\n",
              "    }\n",
              "\n",
              "    .dataframe tbody tr th {\n",
              "        vertical-align: top;\n",
              "    }\n",
              "\n",
              "    .dataframe thead th {\n",
              "        text-align: right;\n",
              "    }\n",
              "</style>\n",
              "<table border=\"1\" class=\"dataframe\">\n",
              "  <thead>\n",
              "    <tr style=\"text-align: right;\">\n",
              "      <th></th>\n",
              "      <th>f1 score</th>\n",
              "    </tr>\n",
              "    <tr>\n",
              "      <th>model</th>\n",
              "      <th></th>\n",
              "    </tr>\n",
              "  </thead>\n",
              "  <tbody>\n",
              "    <tr>\n",
              "      <th>Random Forest</th>\n",
              "      <td>0.786885</td>\n",
              "    </tr>\n",
              "    <tr>\n",
              "      <th>Decision Tree</th>\n",
              "      <td>0.778626</td>\n",
              "    </tr>\n",
              "    <tr>\n",
              "      <th>LightGBM</th>\n",
              "      <td>0.773438</td>\n",
              "    </tr>\n",
              "    <tr>\n",
              "      <th>XGBoost</th>\n",
              "      <td>0.649573</td>\n",
              "    </tr>\n",
              "    <tr>\n",
              "      <th>Logistic Regression</th>\n",
              "      <td>0.563380</td>\n",
              "    </tr>\n",
              "    <tr>\n",
              "      <th>KNN</th>\n",
              "      <td>0.446429</td>\n",
              "    </tr>\n",
              "  </tbody>\n",
              "</table>\n",
              "</div>\n",
              "      <button class=\"colab-df-convert\" onclick=\"convertToInteractive('df-5cabb67b-2350-4928-9e77-bc6395018542')\"\n",
              "              title=\"Convert this dataframe to an interactive table.\"\n",
              "              style=\"display:none;\">\n",
              "        \n",
              "  <svg xmlns=\"http://www.w3.org/2000/svg\" height=\"24px\"viewBox=\"0 0 24 24\"\n",
              "       width=\"24px\">\n",
              "    <path d=\"M0 0h24v24H0V0z\" fill=\"none\"/>\n",
              "    <path d=\"M18.56 5.44l.94 2.06.94-2.06 2.06-.94-2.06-.94-.94-2.06-.94 2.06-2.06.94zm-11 1L8.5 8.5l.94-2.06 2.06-.94-2.06-.94L8.5 2.5l-.94 2.06-2.06.94zm10 10l.94 2.06.94-2.06 2.06-.94-2.06-.94-.94-2.06-.94 2.06-2.06.94z\"/><path d=\"M17.41 7.96l-1.37-1.37c-.4-.4-.92-.59-1.43-.59-.52 0-1.04.2-1.43.59L10.3 9.45l-7.72 7.72c-.78.78-.78 2.05 0 2.83L4 21.41c.39.39.9.59 1.41.59.51 0 1.02-.2 1.41-.59l7.78-7.78 2.81-2.81c.8-.78.8-2.07 0-2.86zM5.41 20L4 18.59l7.72-7.72 1.47 1.35L5.41 20z\"/>\n",
              "  </svg>\n",
              "      </button>\n",
              "      \n",
              "  <style>\n",
              "    .colab-df-container {\n",
              "      display:flex;\n",
              "      flex-wrap:wrap;\n",
              "      gap: 12px;\n",
              "    }\n",
              "\n",
              "    .colab-df-convert {\n",
              "      background-color: #E8F0FE;\n",
              "      border: none;\n",
              "      border-radius: 50%;\n",
              "      cursor: pointer;\n",
              "      display: none;\n",
              "      fill: #1967D2;\n",
              "      height: 32px;\n",
              "      padding: 0 0 0 0;\n",
              "      width: 32px;\n",
              "    }\n",
              "\n",
              "    .colab-df-convert:hover {\n",
              "      background-color: #E2EBFA;\n",
              "      box-shadow: 0px 1px 2px rgba(60, 64, 67, 0.3), 0px 1px 3px 1px rgba(60, 64, 67, 0.15);\n",
              "      fill: #174EA6;\n",
              "    }\n",
              "\n",
              "    [theme=dark] .colab-df-convert {\n",
              "      background-color: #3B4455;\n",
              "      fill: #D2E3FC;\n",
              "    }\n",
              "\n",
              "    [theme=dark] .colab-df-convert:hover {\n",
              "      background-color: #434B5C;\n",
              "      box-shadow: 0px 1px 3px 1px rgba(0, 0, 0, 0.15);\n",
              "      filter: drop-shadow(0px 1px 2px rgba(0, 0, 0, 0.3));\n",
              "      fill: #FFFFFF;\n",
              "    }\n",
              "  </style>\n",
              "\n",
              "      <script>\n",
              "        const buttonEl =\n",
              "          document.querySelector('#df-5cabb67b-2350-4928-9e77-bc6395018542 button.colab-df-convert');\n",
              "        buttonEl.style.display =\n",
              "          google.colab.kernel.accessAllowed ? 'block' : 'none';\n",
              "\n",
              "        async function convertToInteractive(key) {\n",
              "          const element = document.querySelector('#df-5cabb67b-2350-4928-9e77-bc6395018542');\n",
              "          const dataTable =\n",
              "            await google.colab.kernel.invokeFunction('convertToInteractive',\n",
              "                                                     [key], {});\n",
              "          if (!dataTable) return;\n",
              "\n",
              "          const docLinkHtml = 'Like what you see? Visit the ' +\n",
              "            '<a target=\"_blank\" href=https://colab.research.google.com/notebooks/data_table.ipynb>data table notebook</a>'\n",
              "            + ' to learn more about interactive tables.';\n",
              "          element.innerHTML = '';\n",
              "          dataTable['output_type'] = 'display_data';\n",
              "          await google.colab.output.renderOutput(dataTable, element);\n",
              "          const docLink = document.createElement('div');\n",
              "          docLink.innerHTML = docLinkHtml;\n",
              "          element.appendChild(docLink);\n",
              "        }\n",
              "      </script>\n",
              "    </div>\n",
              "  </div>\n",
              "  "
            ]
          },
          "metadata": {},
          "execution_count": 112
        }
      ]
    },
    {
      "cell_type": "markdown",
      "source": [
        "Terlihat perubahan performa di mana Decision Tree menjadi model terbaik untuk test data. Namun mempertimbangkan model LightGBM yang f1 scorenya tidak terlalu jauh dengan standar deviasi yang sangat rendah, maka dipilihlah LightGBM sebagai model machine learning untuk dataset ini.\n",
        "\n",
        "Mari sekarang kita coba melakukan oversampling untuk model LightGBM kita untuk melihat apakah kita dapat mendapatkan hasil yang lebih baik lagi."
      ],
      "metadata": {
        "id": "nQucgQgZNKIz"
      }
    },
    {
      "cell_type": "markdown",
      "source": [
        "## Oversampling"
      ],
      "metadata": {
        "id": "30BRGljKkm5h"
      }
    },
    {
      "cell_type": "markdown",
      "source": [
        "### Test Oversampling with K-Fold Cross Validation"
      ],
      "metadata": {
        "id": "6Ea3PKvABQRe"
      }
    },
    {
      "cell_type": "code",
      "source": [
        "def calc_train_error(X_train, y_train, model):\n",
        "#     '''returns in-sample error for already fit model.'''\n",
        "    predictions = model.predict(X_train)\n",
        "    predictProba = model.predict_proba(X_train)\n",
        "    accuracy = accuracy_score(y_train, predictions)\n",
        "    f1 = f1_score(y_train, predictions, average='macro')\n",
        "    roc_auc = roc_auc_score(y_train, predictProba[:,1])\n",
        "    recall = recall_score(y_train, predictions)\n",
        "    precision = precision_score(y_train, predictions)\n",
        "    report = classification_report(y_train, predictions)\n",
        "    return { \n",
        "        'report': report, \n",
        "        'f1' : f1, \n",
        "        'roc': roc_auc, \n",
        "        'accuracy': accuracy,\n",
        "        'recall': recall,\n",
        "        'precision': precision\n",
        "    }\n",
        "    \n",
        "def calc_validation_error(X_test, y_test, model):\n",
        "#     '''returns out-of-sample error for already fit model.'''\n",
        "    predictions = model.predict(X_test)\n",
        "    predictProba = model.predict_proba(X_test)\n",
        "    accuracy = accuracy_score(y_test, predictions)\n",
        "    f1 = f1_score(y_test, predictions, average='macro')\n",
        "    roc_auc = roc_auc_score(y_test, predictProba[:,1])\n",
        "    recall = recall_score(y_test, predictions)\n",
        "    precision = precision_score(y_test, predictions)\n",
        "    report = classification_report(y_test, predictions)\n",
        "    return { \n",
        "        'report': report, \n",
        "        'f1' : f1, \n",
        "        'roc': roc_auc, \n",
        "        'accuracy': accuracy,\n",
        "        'recall': recall,\n",
        "        'precision': precision\n",
        "    }\n",
        "    \n",
        "def calc_metrics(X_train, y_train, X_test, y_test, model):\n",
        "#     '''fits model and returns the in-sample error and out-of-sample error'''\n",
        "    model.fit(X_train, y_train)\n",
        "    train_error = calc_train_error(X_train, y_train, model)\n",
        "    validation_error = calc_validation_error(X_test, y_test, model)\n",
        "    return train_error, validation_error"
      ],
      "metadata": {
        "id": "yiLT68KAN557"
      },
      "execution_count": 113,
      "outputs": []
    },
    {
      "cell_type": "code",
      "source": [
        "from sklearn.model_selection import StratifiedKFold\n",
        "\n",
        "K = 10\n",
        "kf = StratifiedKFold(n_splits=K, shuffle=True, random_state=0)"
      ],
      "metadata": {
        "id": "WqkNpOU9N8k_"
      },
      "execution_count": 114,
      "outputs": []
    },
    {
      "cell_type": "code",
      "source": [
        "data = X_train\n",
        "target = y_train"
      ],
      "metadata": {
        "id": "Zi3KI5VPN-sY"
      },
      "execution_count": 115,
      "outputs": []
    },
    {
      "cell_type": "code",
      "source": [
        "train_errors_without_oversampling = []\n",
        "validation_errors_without_oversampling = []\n",
        "\n",
        "train_errors_with_oversampling = []\n",
        "validation_errors_with_oversampling = []\n",
        "\n",
        "for train_index, val_index in kf.split(data, target):\n",
        "    \n",
        "    # split data\n",
        "    X_train, X_val = data.iloc[train_index], data.iloc[val_index]\n",
        "    Y_train, Y_val = target.iloc[train_index], target.iloc[val_index]\n",
        "    \n",
        "#     print(len(X_val), (len(X_train) + len(X_val)))\n",
        "    ros = RandomOverSampler()\n",
        "\n",
        "    X_ros, Y_ros = ros.fit_resample(X_train, Y_train)\n",
        "\n",
        "    # instantiate model\n",
        "    lgbm = lgb.LGBMClassifier()\n",
        "    estimator=Pipeline([\n",
        "        ('preprocess',transformer),\n",
        "        ('model',lgbm)\n",
        "    ])\n",
        "\n",
        "    #calculate errors\n",
        "    train_error_without_oversampling, val_error_without_oversampling = calc_metrics(X_train, Y_train, X_val, Y_val, estimator)\n",
        "    train_error_with_oversampling, val_error_with_oversampling = calc_metrics(X_ros, Y_ros, X_val, Y_val, estimator)\n",
        "    \n",
        "    # append to appropriate list\n",
        "    train_errors_without_oversampling.append(train_error_without_oversampling)\n",
        "    validation_errors_without_oversampling.append(val_error_without_oversampling)\n",
        "    \n",
        "    train_errors_with_oversampling.append(train_error_with_oversampling)\n",
        "    validation_errors_with_oversampling.append(val_error_with_oversampling)"
      ],
      "metadata": {
        "id": "YT6LgiYKN_0M"
      },
      "execution_count": 116,
      "outputs": []
    },
    {
      "cell_type": "markdown",
      "source": [
        "#### Evaluation Metrics Without Oversampling"
      ],
      "metadata": {
        "id": "KjVwkhKLONuW"
      }
    },
    {
      "cell_type": "code",
      "source": [
        "listItem = []\n",
        "\n",
        "for tr,val in zip(train_errors_without_oversampling,validation_errors_without_oversampling) :\n",
        "    listItem.append([tr['accuracy'],val['accuracy'],tr['roc'],val['roc'],tr['f1'],val['f1'],\n",
        "                     tr['recall'],val['recall'],tr['precision'],val['precision']])\n",
        "\n",
        "listItem.append(list(np.mean(listItem,axis=0)))\n",
        "    \n",
        "dfEvaluate = pd.DataFrame(listItem, \n",
        "                    columns=['Train Accuracy', \n",
        "                            'Test Accuracy', \n",
        "                            'Train ROC AUC', \n",
        "                            'Test ROC AUC', \n",
        "                            'Train F1 Score',\n",
        "                            'Test F1 Score',\n",
        "                            'Train Recall',\n",
        "                            'Test Recall',\n",
        "                            'Train Precision',\n",
        "                            'Test Precision'])\n",
        "\n",
        "listIndex = list(dfEvaluate.index)\n",
        "listIndex[-1] = 'Average'\n",
        "dfEvaluate.index = listIndex\n",
        "dfEvaluate"
      ],
      "metadata": {
        "colab": {
          "base_uri": "https://localhost:8080/",
          "height": 456
        },
        "id": "Rv35WUosOLYF",
        "outputId": "26a9cab6-eaad-4159-ccb0-31aa6bfc1e7b"
      },
      "execution_count": 117,
      "outputs": [
        {
          "output_type": "execute_result",
          "data": {
            "text/plain": [
              "         Train Accuracy  Test Accuracy  Train ROC AUC  Test ROC AUC  \\\n",
              "0              0.995405       0.930159       0.999892      0.967575   \n",
              "1              0.993991       0.958730       0.999798      0.976089   \n",
              "2              0.994344       0.939683       0.999807      0.960125   \n",
              "3              0.994344       0.942857       0.999666      0.980204   \n",
              "4              0.996466       0.920382       0.999895      0.933203   \n",
              "5              0.994700       0.939490       0.999852      0.961903   \n",
              "6              0.996466       0.920382       0.999859      0.938746   \n",
              "7              0.992933       0.955414       0.999783      0.970299   \n",
              "8              0.993640       0.955414       0.999764      0.978704   \n",
              "9              0.994346       0.949045       0.999836      0.973077   \n",
              "Average        0.994664       0.941156       0.999815      0.963993   \n",
              "\n",
              "         Train F1 Score  Test F1 Score  Train Recall  Test Recall  \\\n",
              "0              0.991852       0.878846      0.979339     0.814815   \n",
              "1              0.989381       0.923356      0.979339     0.814815   \n",
              "2              0.989997       0.887982      0.979339     0.759259   \n",
              "3              0.989964       0.903611      0.975207     0.888889   \n",
              "4              0.993769       0.852518      0.987629     0.716981   \n",
              "5              0.990615       0.889672      0.977320     0.792453   \n",
              "6              0.993759       0.850108      0.987603     0.685185   \n",
              "7              0.987456       0.918065      0.971074     0.814815   \n",
              "8              0.988729       0.913925      0.975207     0.759259   \n",
              "9              0.989965       0.909203      0.975207     0.833333   \n",
              "Average        0.990549       0.892729      0.978726     0.787980   \n",
              "\n",
              "         Train Precision  Test Precision  \n",
              "0               0.993711        0.785714  \n",
              "1               0.985447        0.936170  \n",
              "2               0.987500        0.872340  \n",
              "3               0.991597        0.800000  \n",
              "4               0.991718        0.791667  \n",
              "5               0.991632        0.840000  \n",
              "6               0.991701        0.822222  \n",
              "7               0.987395        0.916667  \n",
              "8               0.987448        0.976190  \n",
              "9               0.991597        0.865385  \n",
              "Average         0.989975        0.860636  "
            ],
            "text/html": [
              "\n",
              "  <div id=\"df-ee074c65-68cc-44a0-81ea-8f8e63720a0d\">\n",
              "    <div class=\"colab-df-container\">\n",
              "      <div>\n",
              "<style scoped>\n",
              "    .dataframe tbody tr th:only-of-type {\n",
              "        vertical-align: middle;\n",
              "    }\n",
              "\n",
              "    .dataframe tbody tr th {\n",
              "        vertical-align: top;\n",
              "    }\n",
              "\n",
              "    .dataframe thead th {\n",
              "        text-align: right;\n",
              "    }\n",
              "</style>\n",
              "<table border=\"1\" class=\"dataframe\">\n",
              "  <thead>\n",
              "    <tr style=\"text-align: right;\">\n",
              "      <th></th>\n",
              "      <th>Train Accuracy</th>\n",
              "      <th>Test Accuracy</th>\n",
              "      <th>Train ROC AUC</th>\n",
              "      <th>Test ROC AUC</th>\n",
              "      <th>Train F1 Score</th>\n",
              "      <th>Test F1 Score</th>\n",
              "      <th>Train Recall</th>\n",
              "      <th>Test Recall</th>\n",
              "      <th>Train Precision</th>\n",
              "      <th>Test Precision</th>\n",
              "    </tr>\n",
              "  </thead>\n",
              "  <tbody>\n",
              "    <tr>\n",
              "      <th>0</th>\n",
              "      <td>0.995405</td>\n",
              "      <td>0.930159</td>\n",
              "      <td>0.999892</td>\n",
              "      <td>0.967575</td>\n",
              "      <td>0.991852</td>\n",
              "      <td>0.878846</td>\n",
              "      <td>0.979339</td>\n",
              "      <td>0.814815</td>\n",
              "      <td>0.993711</td>\n",
              "      <td>0.785714</td>\n",
              "    </tr>\n",
              "    <tr>\n",
              "      <th>1</th>\n",
              "      <td>0.993991</td>\n",
              "      <td>0.958730</td>\n",
              "      <td>0.999798</td>\n",
              "      <td>0.976089</td>\n",
              "      <td>0.989381</td>\n",
              "      <td>0.923356</td>\n",
              "      <td>0.979339</td>\n",
              "      <td>0.814815</td>\n",
              "      <td>0.985447</td>\n",
              "      <td>0.936170</td>\n",
              "    </tr>\n",
              "    <tr>\n",
              "      <th>2</th>\n",
              "      <td>0.994344</td>\n",
              "      <td>0.939683</td>\n",
              "      <td>0.999807</td>\n",
              "      <td>0.960125</td>\n",
              "      <td>0.989997</td>\n",
              "      <td>0.887982</td>\n",
              "      <td>0.979339</td>\n",
              "      <td>0.759259</td>\n",
              "      <td>0.987500</td>\n",
              "      <td>0.872340</td>\n",
              "    </tr>\n",
              "    <tr>\n",
              "      <th>3</th>\n",
              "      <td>0.994344</td>\n",
              "      <td>0.942857</td>\n",
              "      <td>0.999666</td>\n",
              "      <td>0.980204</td>\n",
              "      <td>0.989964</td>\n",
              "      <td>0.903611</td>\n",
              "      <td>0.975207</td>\n",
              "      <td>0.888889</td>\n",
              "      <td>0.991597</td>\n",
              "      <td>0.800000</td>\n",
              "    </tr>\n",
              "    <tr>\n",
              "      <th>4</th>\n",
              "      <td>0.996466</td>\n",
              "      <td>0.920382</td>\n",
              "      <td>0.999895</td>\n",
              "      <td>0.933203</td>\n",
              "      <td>0.993769</td>\n",
              "      <td>0.852518</td>\n",
              "      <td>0.987629</td>\n",
              "      <td>0.716981</td>\n",
              "      <td>0.991718</td>\n",
              "      <td>0.791667</td>\n",
              "    </tr>\n",
              "    <tr>\n",
              "      <th>5</th>\n",
              "      <td>0.994700</td>\n",
              "      <td>0.939490</td>\n",
              "      <td>0.999852</td>\n",
              "      <td>0.961903</td>\n",
              "      <td>0.990615</td>\n",
              "      <td>0.889672</td>\n",
              "      <td>0.977320</td>\n",
              "      <td>0.792453</td>\n",
              "      <td>0.991632</td>\n",
              "      <td>0.840000</td>\n",
              "    </tr>\n",
              "    <tr>\n",
              "      <th>6</th>\n",
              "      <td>0.996466</td>\n",
              "      <td>0.920382</td>\n",
              "      <td>0.999859</td>\n",
              "      <td>0.938746</td>\n",
              "      <td>0.993759</td>\n",
              "      <td>0.850108</td>\n",
              "      <td>0.987603</td>\n",
              "      <td>0.685185</td>\n",
              "      <td>0.991701</td>\n",
              "      <td>0.822222</td>\n",
              "    </tr>\n",
              "    <tr>\n",
              "      <th>7</th>\n",
              "      <td>0.992933</td>\n",
              "      <td>0.955414</td>\n",
              "      <td>0.999783</td>\n",
              "      <td>0.970299</td>\n",
              "      <td>0.987456</td>\n",
              "      <td>0.918065</td>\n",
              "      <td>0.971074</td>\n",
              "      <td>0.814815</td>\n",
              "      <td>0.987395</td>\n",
              "      <td>0.916667</td>\n",
              "    </tr>\n",
              "    <tr>\n",
              "      <th>8</th>\n",
              "      <td>0.993640</td>\n",
              "      <td>0.955414</td>\n",
              "      <td>0.999764</td>\n",
              "      <td>0.978704</td>\n",
              "      <td>0.988729</td>\n",
              "      <td>0.913925</td>\n",
              "      <td>0.975207</td>\n",
              "      <td>0.759259</td>\n",
              "      <td>0.987448</td>\n",
              "      <td>0.976190</td>\n",
              "    </tr>\n",
              "    <tr>\n",
              "      <th>9</th>\n",
              "      <td>0.994346</td>\n",
              "      <td>0.949045</td>\n",
              "      <td>0.999836</td>\n",
              "      <td>0.973077</td>\n",
              "      <td>0.989965</td>\n",
              "      <td>0.909203</td>\n",
              "      <td>0.975207</td>\n",
              "      <td>0.833333</td>\n",
              "      <td>0.991597</td>\n",
              "      <td>0.865385</td>\n",
              "    </tr>\n",
              "    <tr>\n",
              "      <th>Average</th>\n",
              "      <td>0.994664</td>\n",
              "      <td>0.941156</td>\n",
              "      <td>0.999815</td>\n",
              "      <td>0.963993</td>\n",
              "      <td>0.990549</td>\n",
              "      <td>0.892729</td>\n",
              "      <td>0.978726</td>\n",
              "      <td>0.787980</td>\n",
              "      <td>0.989975</td>\n",
              "      <td>0.860636</td>\n",
              "    </tr>\n",
              "  </tbody>\n",
              "</table>\n",
              "</div>\n",
              "      <button class=\"colab-df-convert\" onclick=\"convertToInteractive('df-ee074c65-68cc-44a0-81ea-8f8e63720a0d')\"\n",
              "              title=\"Convert this dataframe to an interactive table.\"\n",
              "              style=\"display:none;\">\n",
              "        \n",
              "  <svg xmlns=\"http://www.w3.org/2000/svg\" height=\"24px\"viewBox=\"0 0 24 24\"\n",
              "       width=\"24px\">\n",
              "    <path d=\"M0 0h24v24H0V0z\" fill=\"none\"/>\n",
              "    <path d=\"M18.56 5.44l.94 2.06.94-2.06 2.06-.94-2.06-.94-.94-2.06-.94 2.06-2.06.94zm-11 1L8.5 8.5l.94-2.06 2.06-.94-2.06-.94L8.5 2.5l-.94 2.06-2.06.94zm10 10l.94 2.06.94-2.06 2.06-.94-2.06-.94-.94-2.06-.94 2.06-2.06.94z\"/><path d=\"M17.41 7.96l-1.37-1.37c-.4-.4-.92-.59-1.43-.59-.52 0-1.04.2-1.43.59L10.3 9.45l-7.72 7.72c-.78.78-.78 2.05 0 2.83L4 21.41c.39.39.9.59 1.41.59.51 0 1.02-.2 1.41-.59l7.78-7.78 2.81-2.81c.8-.78.8-2.07 0-2.86zM5.41 20L4 18.59l7.72-7.72 1.47 1.35L5.41 20z\"/>\n",
              "  </svg>\n",
              "      </button>\n",
              "      \n",
              "  <style>\n",
              "    .colab-df-container {\n",
              "      display:flex;\n",
              "      flex-wrap:wrap;\n",
              "      gap: 12px;\n",
              "    }\n",
              "\n",
              "    .colab-df-convert {\n",
              "      background-color: #E8F0FE;\n",
              "      border: none;\n",
              "      border-radius: 50%;\n",
              "      cursor: pointer;\n",
              "      display: none;\n",
              "      fill: #1967D2;\n",
              "      height: 32px;\n",
              "      padding: 0 0 0 0;\n",
              "      width: 32px;\n",
              "    }\n",
              "\n",
              "    .colab-df-convert:hover {\n",
              "      background-color: #E2EBFA;\n",
              "      box-shadow: 0px 1px 2px rgba(60, 64, 67, 0.3), 0px 1px 3px 1px rgba(60, 64, 67, 0.15);\n",
              "      fill: #174EA6;\n",
              "    }\n",
              "\n",
              "    [theme=dark] .colab-df-convert {\n",
              "      background-color: #3B4455;\n",
              "      fill: #D2E3FC;\n",
              "    }\n",
              "\n",
              "    [theme=dark] .colab-df-convert:hover {\n",
              "      background-color: #434B5C;\n",
              "      box-shadow: 0px 1px 3px 1px rgba(0, 0, 0, 0.15);\n",
              "      filter: drop-shadow(0px 1px 2px rgba(0, 0, 0, 0.3));\n",
              "      fill: #FFFFFF;\n",
              "    }\n",
              "  </style>\n",
              "\n",
              "      <script>\n",
              "        const buttonEl =\n",
              "          document.querySelector('#df-ee074c65-68cc-44a0-81ea-8f8e63720a0d button.colab-df-convert');\n",
              "        buttonEl.style.display =\n",
              "          google.colab.kernel.accessAllowed ? 'block' : 'none';\n",
              "\n",
              "        async function convertToInteractive(key) {\n",
              "          const element = document.querySelector('#df-ee074c65-68cc-44a0-81ea-8f8e63720a0d');\n",
              "          const dataTable =\n",
              "            await google.colab.kernel.invokeFunction('convertToInteractive',\n",
              "                                                     [key], {});\n",
              "          if (!dataTable) return;\n",
              "\n",
              "          const docLinkHtml = 'Like what you see? Visit the ' +\n",
              "            '<a target=\"_blank\" href=https://colab.research.google.com/notebooks/data_table.ipynb>data table notebook</a>'\n",
              "            + ' to learn more about interactive tables.';\n",
              "          element.innerHTML = '';\n",
              "          dataTable['output_type'] = 'display_data';\n",
              "          await google.colab.output.renderOutput(dataTable, element);\n",
              "          const docLink = document.createElement('div');\n",
              "          docLink.innerHTML = docLinkHtml;\n",
              "          element.appendChild(docLink);\n",
              "        }\n",
              "      </script>\n",
              "    </div>\n",
              "  </div>\n",
              "  "
            ]
          },
          "metadata": {},
          "execution_count": 117
        }
      ]
    },
    {
      "cell_type": "markdown",
      "source": [
        "#### Evaluation Metrics With Oversampling"
      ],
      "metadata": {
        "id": "CkZf2n1DOkB_"
      }
    },
    {
      "cell_type": "code",
      "source": [
        "listItem = []\n",
        "\n",
        "for tr,val in zip(train_errors_with_oversampling,validation_errors_with_oversampling) :\n",
        "    listItem.append([tr['accuracy'],val['accuracy'],tr['roc'],val['roc'],tr['f1'],val['f1'],\n",
        "                     tr['recall'],val['recall'],tr['precision'],val['precision']])\n",
        "\n",
        "listItem.append(list(np.mean(listItem,axis=0)))\n",
        "    \n",
        "dfEvaluate = pd.DataFrame(listItem, \n",
        "                    columns=['Train Accuracy', \n",
        "                            'Test Accuracy', \n",
        "                            'Train ROC AUC', \n",
        "                            'Test ROC AUC', \n",
        "                            'Train F1 Score',\n",
        "                            'Test F1 Score',\n",
        "                            'Train Recall',\n",
        "                            'Test Recall',\n",
        "                            'Train Precision',\n",
        "                            'Test Precision'])\n",
        "\n",
        "listIndex = list(dfEvaluate.index)\n",
        "listIndex[-1] = 'Average'\n",
        "dfEvaluate.index = listIndex\n",
        "dfEvaluate"
      ],
      "metadata": {
        "colab": {
          "base_uri": "https://localhost:8080/",
          "height": 456
        },
        "id": "rkLunqmzOkcK",
        "outputId": "ede61ed7-eeef-4681-a74a-651d87c07ac5"
      },
      "execution_count": 118,
      "outputs": [
        {
          "output_type": "execute_result",
          "data": {
            "text/plain": [
              "         Train Accuracy  Test Accuracy  Train ROC AUC  Test ROC AUC  \\\n",
              "0              0.994456       0.936508       0.999909      0.974670   \n",
              "1              0.992751       0.949206       0.999855      0.973464   \n",
              "2              0.994243       0.930159       0.999881      0.957783   \n",
              "3              0.993603       0.939683       0.999912      0.985526   \n",
              "4              0.994243       0.904459       0.999925      0.919396   \n",
              "5              0.993603       0.920382       0.999909      0.970433   \n",
              "6              0.995098       0.929936       0.999907      0.943376   \n",
              "7              0.993606       0.939490       0.999774      0.966311   \n",
              "8              0.993393       0.945860       0.999924      0.984330   \n",
              "9              0.992114       0.936306       0.999796      0.966524   \n",
              "Average        0.993711       0.933199       0.999879      0.964181   \n",
              "\n",
              "         Train F1 Score  Test F1 Score  Train Recall  Test Recall  \\\n",
              "0              0.994456       0.895723      0.999147     0.907407   \n",
              "1              0.992750       0.911888      1.000000     0.870370   \n",
              "2              0.994243       0.880550      0.999147     0.833333   \n",
              "3              0.993603       0.905188      0.999574     0.981481   \n",
              "4              0.994243       0.834679      1.000000     0.754717   \n",
              "5              0.993603       0.868701      0.999574     0.867925   \n",
              "6              0.995098       0.876994      1.000000     0.796296   \n",
              "7              0.993606       0.900212      0.999574     0.907407   \n",
              "8              0.993393       0.908274      0.999574     0.888889   \n",
              "9              0.992114       0.891334      0.998721     0.851852   \n",
              "Average        0.993711       0.887354      0.999531     0.865968   \n",
              "\n",
              "         Train Precision  Test Precision  \n",
              "0               0.989861        0.765625  \n",
              "1               0.985708        0.839286  \n",
              "2               0.989443        0.775862  \n",
              "3               0.987779        0.746479  \n",
              "4               0.988617        0.701754  \n",
              "5               0.987779        0.718750  \n",
              "6               0.990291        0.796296  \n",
              "7               0.987784        0.777778  \n",
              "8               0.987368        0.813559  \n",
              "9               0.985696        0.793103  \n",
              "Average         0.988033        0.772849  "
            ],
            "text/html": [
              "\n",
              "  <div id=\"df-3d65891e-0411-4347-9c23-a5de77f0fc55\">\n",
              "    <div class=\"colab-df-container\">\n",
              "      <div>\n",
              "<style scoped>\n",
              "    .dataframe tbody tr th:only-of-type {\n",
              "        vertical-align: middle;\n",
              "    }\n",
              "\n",
              "    .dataframe tbody tr th {\n",
              "        vertical-align: top;\n",
              "    }\n",
              "\n",
              "    .dataframe thead th {\n",
              "        text-align: right;\n",
              "    }\n",
              "</style>\n",
              "<table border=\"1\" class=\"dataframe\">\n",
              "  <thead>\n",
              "    <tr style=\"text-align: right;\">\n",
              "      <th></th>\n",
              "      <th>Train Accuracy</th>\n",
              "      <th>Test Accuracy</th>\n",
              "      <th>Train ROC AUC</th>\n",
              "      <th>Test ROC AUC</th>\n",
              "      <th>Train F1 Score</th>\n",
              "      <th>Test F1 Score</th>\n",
              "      <th>Train Recall</th>\n",
              "      <th>Test Recall</th>\n",
              "      <th>Train Precision</th>\n",
              "      <th>Test Precision</th>\n",
              "    </tr>\n",
              "  </thead>\n",
              "  <tbody>\n",
              "    <tr>\n",
              "      <th>0</th>\n",
              "      <td>0.994456</td>\n",
              "      <td>0.936508</td>\n",
              "      <td>0.999909</td>\n",
              "      <td>0.974670</td>\n",
              "      <td>0.994456</td>\n",
              "      <td>0.895723</td>\n",
              "      <td>0.999147</td>\n",
              "      <td>0.907407</td>\n",
              "      <td>0.989861</td>\n",
              "      <td>0.765625</td>\n",
              "    </tr>\n",
              "    <tr>\n",
              "      <th>1</th>\n",
              "      <td>0.992751</td>\n",
              "      <td>0.949206</td>\n",
              "      <td>0.999855</td>\n",
              "      <td>0.973464</td>\n",
              "      <td>0.992750</td>\n",
              "      <td>0.911888</td>\n",
              "      <td>1.000000</td>\n",
              "      <td>0.870370</td>\n",
              "      <td>0.985708</td>\n",
              "      <td>0.839286</td>\n",
              "    </tr>\n",
              "    <tr>\n",
              "      <th>2</th>\n",
              "      <td>0.994243</td>\n",
              "      <td>0.930159</td>\n",
              "      <td>0.999881</td>\n",
              "      <td>0.957783</td>\n",
              "      <td>0.994243</td>\n",
              "      <td>0.880550</td>\n",
              "      <td>0.999147</td>\n",
              "      <td>0.833333</td>\n",
              "      <td>0.989443</td>\n",
              "      <td>0.775862</td>\n",
              "    </tr>\n",
              "    <tr>\n",
              "      <th>3</th>\n",
              "      <td>0.993603</td>\n",
              "      <td>0.939683</td>\n",
              "      <td>0.999912</td>\n",
              "      <td>0.985526</td>\n",
              "      <td>0.993603</td>\n",
              "      <td>0.905188</td>\n",
              "      <td>0.999574</td>\n",
              "      <td>0.981481</td>\n",
              "      <td>0.987779</td>\n",
              "      <td>0.746479</td>\n",
              "    </tr>\n",
              "    <tr>\n",
              "      <th>4</th>\n",
              "      <td>0.994243</td>\n",
              "      <td>0.904459</td>\n",
              "      <td>0.999925</td>\n",
              "      <td>0.919396</td>\n",
              "      <td>0.994243</td>\n",
              "      <td>0.834679</td>\n",
              "      <td>1.000000</td>\n",
              "      <td>0.754717</td>\n",
              "      <td>0.988617</td>\n",
              "      <td>0.701754</td>\n",
              "    </tr>\n",
              "    <tr>\n",
              "      <th>5</th>\n",
              "      <td>0.993603</td>\n",
              "      <td>0.920382</td>\n",
              "      <td>0.999909</td>\n",
              "      <td>0.970433</td>\n",
              "      <td>0.993603</td>\n",
              "      <td>0.868701</td>\n",
              "      <td>0.999574</td>\n",
              "      <td>0.867925</td>\n",
              "      <td>0.987779</td>\n",
              "      <td>0.718750</td>\n",
              "    </tr>\n",
              "    <tr>\n",
              "      <th>6</th>\n",
              "      <td>0.995098</td>\n",
              "      <td>0.929936</td>\n",
              "      <td>0.999907</td>\n",
              "      <td>0.943376</td>\n",
              "      <td>0.995098</td>\n",
              "      <td>0.876994</td>\n",
              "      <td>1.000000</td>\n",
              "      <td>0.796296</td>\n",
              "      <td>0.990291</td>\n",
              "      <td>0.796296</td>\n",
              "    </tr>\n",
              "    <tr>\n",
              "      <th>7</th>\n",
              "      <td>0.993606</td>\n",
              "      <td>0.939490</td>\n",
              "      <td>0.999774</td>\n",
              "      <td>0.966311</td>\n",
              "      <td>0.993606</td>\n",
              "      <td>0.900212</td>\n",
              "      <td>0.999574</td>\n",
              "      <td>0.907407</td>\n",
              "      <td>0.987784</td>\n",
              "      <td>0.777778</td>\n",
              "    </tr>\n",
              "    <tr>\n",
              "      <th>8</th>\n",
              "      <td>0.993393</td>\n",
              "      <td>0.945860</td>\n",
              "      <td>0.999924</td>\n",
              "      <td>0.984330</td>\n",
              "      <td>0.993393</td>\n",
              "      <td>0.908274</td>\n",
              "      <td>0.999574</td>\n",
              "      <td>0.888889</td>\n",
              "      <td>0.987368</td>\n",
              "      <td>0.813559</td>\n",
              "    </tr>\n",
              "    <tr>\n",
              "      <th>9</th>\n",
              "      <td>0.992114</td>\n",
              "      <td>0.936306</td>\n",
              "      <td>0.999796</td>\n",
              "      <td>0.966524</td>\n",
              "      <td>0.992114</td>\n",
              "      <td>0.891334</td>\n",
              "      <td>0.998721</td>\n",
              "      <td>0.851852</td>\n",
              "      <td>0.985696</td>\n",
              "      <td>0.793103</td>\n",
              "    </tr>\n",
              "    <tr>\n",
              "      <th>Average</th>\n",
              "      <td>0.993711</td>\n",
              "      <td>0.933199</td>\n",
              "      <td>0.999879</td>\n",
              "      <td>0.964181</td>\n",
              "      <td>0.993711</td>\n",
              "      <td>0.887354</td>\n",
              "      <td>0.999531</td>\n",
              "      <td>0.865968</td>\n",
              "      <td>0.988033</td>\n",
              "      <td>0.772849</td>\n",
              "    </tr>\n",
              "  </tbody>\n",
              "</table>\n",
              "</div>\n",
              "      <button class=\"colab-df-convert\" onclick=\"convertToInteractive('df-3d65891e-0411-4347-9c23-a5de77f0fc55')\"\n",
              "              title=\"Convert this dataframe to an interactive table.\"\n",
              "              style=\"display:none;\">\n",
              "        \n",
              "  <svg xmlns=\"http://www.w3.org/2000/svg\" height=\"24px\"viewBox=\"0 0 24 24\"\n",
              "       width=\"24px\">\n",
              "    <path d=\"M0 0h24v24H0V0z\" fill=\"none\"/>\n",
              "    <path d=\"M18.56 5.44l.94 2.06.94-2.06 2.06-.94-2.06-.94-.94-2.06-.94 2.06-2.06.94zm-11 1L8.5 8.5l.94-2.06 2.06-.94-2.06-.94L8.5 2.5l-.94 2.06-2.06.94zm10 10l.94 2.06.94-2.06 2.06-.94-2.06-.94-.94-2.06-.94 2.06-2.06.94z\"/><path d=\"M17.41 7.96l-1.37-1.37c-.4-.4-.92-.59-1.43-.59-.52 0-1.04.2-1.43.59L10.3 9.45l-7.72 7.72c-.78.78-.78 2.05 0 2.83L4 21.41c.39.39.9.59 1.41.59.51 0 1.02-.2 1.41-.59l7.78-7.78 2.81-2.81c.8-.78.8-2.07 0-2.86zM5.41 20L4 18.59l7.72-7.72 1.47 1.35L5.41 20z\"/>\n",
              "  </svg>\n",
              "      </button>\n",
              "      \n",
              "  <style>\n",
              "    .colab-df-container {\n",
              "      display:flex;\n",
              "      flex-wrap:wrap;\n",
              "      gap: 12px;\n",
              "    }\n",
              "\n",
              "    .colab-df-convert {\n",
              "      background-color: #E8F0FE;\n",
              "      border: none;\n",
              "      border-radius: 50%;\n",
              "      cursor: pointer;\n",
              "      display: none;\n",
              "      fill: #1967D2;\n",
              "      height: 32px;\n",
              "      padding: 0 0 0 0;\n",
              "      width: 32px;\n",
              "    }\n",
              "\n",
              "    .colab-df-convert:hover {\n",
              "      background-color: #E2EBFA;\n",
              "      box-shadow: 0px 1px 2px rgba(60, 64, 67, 0.3), 0px 1px 3px 1px rgba(60, 64, 67, 0.15);\n",
              "      fill: #174EA6;\n",
              "    }\n",
              "\n",
              "    [theme=dark] .colab-df-convert {\n",
              "      background-color: #3B4455;\n",
              "      fill: #D2E3FC;\n",
              "    }\n",
              "\n",
              "    [theme=dark] .colab-df-convert:hover {\n",
              "      background-color: #434B5C;\n",
              "      box-shadow: 0px 1px 3px 1px rgba(0, 0, 0, 0.15);\n",
              "      filter: drop-shadow(0px 1px 2px rgba(0, 0, 0, 0.3));\n",
              "      fill: #FFFFFF;\n",
              "    }\n",
              "  </style>\n",
              "\n",
              "      <script>\n",
              "        const buttonEl =\n",
              "          document.querySelector('#df-3d65891e-0411-4347-9c23-a5de77f0fc55 button.colab-df-convert');\n",
              "        buttonEl.style.display =\n",
              "          google.colab.kernel.accessAllowed ? 'block' : 'none';\n",
              "\n",
              "        async function convertToInteractive(key) {\n",
              "          const element = document.querySelector('#df-3d65891e-0411-4347-9c23-a5de77f0fc55');\n",
              "          const dataTable =\n",
              "            await google.colab.kernel.invokeFunction('convertToInteractive',\n",
              "                                                     [key], {});\n",
              "          if (!dataTable) return;\n",
              "\n",
              "          const docLinkHtml = 'Like what you see? Visit the ' +\n",
              "            '<a target=\"_blank\" href=https://colab.research.google.com/notebooks/data_table.ipynb>data table notebook</a>'\n",
              "            + ' to learn more about interactive tables.';\n",
              "          element.innerHTML = '';\n",
              "          dataTable['output_type'] = 'display_data';\n",
              "          await google.colab.output.renderOutput(dataTable, element);\n",
              "          const docLink = document.createElement('div');\n",
              "          docLink.innerHTML = docLinkHtml;\n",
              "          element.appendChild(docLink);\n",
              "        }\n",
              "      </script>\n",
              "    </div>\n",
              "  </div>\n",
              "  "
            ]
          },
          "metadata": {},
          "execution_count": 118
        }
      ]
    },
    {
      "cell_type": "markdown",
      "source": [
        "Terlihat bahwa hasil evaluation metricsnya untuk recall dari class positive lebih baik setelah di oversampling dari yang tidak di oversampling tetapi precisionnya tebakan class positive menjadi sedikit lebih buruk. \n",
        "\n",
        "Ini masuk akal karena class positive datanya kita perbanyak menjadi sama dengan jumlah data dari class negative, dimana ini biasa memang akan membuat recall dari class yg minoritas naik tetapi otomatis biasa precisionnya juga akan turun sebagai dampaknya. Tetapi untuk kasus kali ini recallnya naik sedikit lebih tinggi dari pada precisionnya yang turun. Dan dampak ini terhadap kasus permasalahan kita berarti model kita setelah di oversampling, menjadi mendapatkan potensial kandidat yang lebih banyak dari sebelumnya, tetapi sedikit berkurang dalam ketepatan/precision tebakannya untuk kandidat potensial, yang menyebabkan cost biaya recruitment yang terbuang menjadi lebih tinggi dari model yang tidak di oversampling.\n",
        "\n",
        "Recall lebih penting jika False Negative lebih mahal daripada False Positive. Sedangkan Precision lebih penting jika False Positive lebih mahal daripada False Negative. Untuk kasus ini, pelanggan tidak churn yang dideteksi sebagai churn (False Positive) lebih beresiko daripada pelanggan churn yang dideteksi sebagai tidak churn (False Negative). Maka dari itu, precision lebih penting untuk ditingkatkan untuk kasus ini dan model yang dipilih adalah model tanpa oversampling"
      ],
      "metadata": {
        "id": "qJXbW52PQIKm"
      }
    },
    {
      "cell_type": "markdown",
      "source": [
        "## Hyperparameter Tuning"
      ],
      "metadata": {
        "id": "aMVBSrnwksJK"
      }
    },
    {
      "cell_type": "code",
      "source": [
        "X_train, X_test, y_train, y_test = train_test_split(X,y,stratify=y,test_size=0.2,random_state=0)\n",
        "\n",
        "lgbm = lgb.LGBMClassifier()\n",
        "\n",
        "estimator=Pipeline([\n",
        "    ('preprocess',transformer),\n",
        "    ('model',lgbm)\n",
        "])"
      ],
      "metadata": {
        "id": "BgI1IjHnkt2c"
      },
      "execution_count": 119,
      "outputs": []
    },
    {
      "cell_type": "code",
      "source": [
        "hyperparam_space=[{\n",
        "    'model__max_bin': [255, 275, 300],\n",
        "    'model__num_leaves':[31, 21, 41],\n",
        "    'model__min_data_in_leaf': [20, 15, 30],\n",
        "    'model__num_iterations':[100, 75, 125],\n",
        "    'model__learning_rate': [0.1, 0.075, 0.125],\n",
        "    'model__random_state': [0]\n",
        "}]"
      ],
      "metadata": {
        "id": "f6yL_AH5k6Ny"
      },
      "execution_count": 120,
      "outputs": []
    },
    {
      "cell_type": "markdown",
      "source": [
        "default hyperparameter LGBM => `max_bin` = 255, `num_leaves` = 31, `min_data_in_leaf` = 20, `num_iterations` = 100, `learning_rate` = 0.1"
      ],
      "metadata": {
        "id": "Gwcnfchok_EC"
      }
    },
    {
      "cell_type": "code",
      "source": [
        "grid = GridSearchCV(estimator, n_jobs=-1, param_grid=hyperparam_space, scoring='f1', cv=StratifiedKFold(n_splits=10, shuffle=True, random_state = 0))"
      ],
      "metadata": {
        "id": "DyVCcx6Ok_bi"
      },
      "execution_count": 121,
      "outputs": []
    },
    {
      "cell_type": "code",
      "source": [
        "grid.fit(X_train,y_train)"
      ],
      "metadata": {
        "colab": {
          "base_uri": "https://localhost:8080/"
        },
        "id": "HAe04koMlBcB",
        "outputId": "e6267767-7651-45a8-cc52-93056820932d"
      },
      "execution_count": 122,
      "outputs": [
        {
          "output_type": "stream",
          "name": "stderr",
          "text": [
            "/usr/local/lib/python3.7/dist-packages/lightgbm/engine.py:118: UserWarning: Found `num_iterations` in params. Will use it instead of argument\n",
            "  warnings.warn(\"Found `{}` in params. Will use it instead of argument\".format(alias))\n"
          ]
        },
        {
          "output_type": "execute_result",
          "data": {
            "text/plain": [
              "GridSearchCV(cv=StratifiedKFold(n_splits=10, random_state=0, shuffle=True),\n",
              "             estimator=Pipeline(steps=[('preprocess',\n",
              "                                        ColumnTransformer(remainder='passthrough',\n",
              "                                                          transformers=[('onehot',\n",
              "                                                                         OneHotEncoder(drop='first'),\n",
              "                                                                         ['PreferedOrderCat',\n",
              "                                                                          'MaritalStatus'])])),\n",
              "                                       ('model', LGBMClassifier())]),\n",
              "             n_jobs=-1,\n",
              "             param_grid=[{'model__learning_rate': [0.1, 0.075, 0.125],\n",
              "                          'model__max_bin': [255, 275, 300],\n",
              "                          'model__min_data_in_leaf': [20, 15, 30],\n",
              "                          'model__num_iterations': [100, 75, 125],\n",
              "                          'model__num_leaves': [31, 21, 41],\n",
              "                          'model__random_state': [0]}],\n",
              "             scoring='f1')"
            ]
          },
          "metadata": {},
          "execution_count": 122
        }
      ]
    },
    {
      "cell_type": "code",
      "source": [
        "# score terbaik hasil dari grid_search\n",
        "print(grid.best_score_)\n",
        "\n",
        "# hyperparameter pada score terbaik hasil dari grid_search\n",
        "print(grid.best_params_)\n",
        "\n",
        "# proses secara keseluruhan dengan model terbaik dan parameter terbaik\n",
        "print(grid.best_estimator_)"
      ],
      "metadata": {
        "colab": {
          "base_uri": "https://localhost:8080/"
        },
        "id": "M8y1oh4mlEYf",
        "outputId": "46867a50-1df5-4b7c-e5f8-837f2190523b"
      },
      "execution_count": 123,
      "outputs": [
        {
          "output_type": "stream",
          "name": "stdout",
          "text": [
            "0.8408915534560386\n",
            "{'model__learning_rate': 0.125, 'model__max_bin': 275, 'model__min_data_in_leaf': 20, 'model__num_iterations': 100, 'model__num_leaves': 41, 'model__random_state': 0}\n",
            "Pipeline(steps=[('preprocess',\n",
            "                 ColumnTransformer(remainder='passthrough',\n",
            "                                   transformers=[('onehot',\n",
            "                                                  OneHotEncoder(drop='first'),\n",
            "                                                  ['PreferedOrderCat',\n",
            "                                                   'MaritalStatus'])])),\n",
            "                ('model',\n",
            "                 LGBMClassifier(learning_rate=0.125, max_bin=275,\n",
            "                                min_data_in_leaf=20, num_iterations=100,\n",
            "                                num_leaves=41, random_state=0))])\n"
          ]
        }
      ]
    },
    {
      "cell_type": "code",
      "source": [
        "best_model = grid.best_estimator_\n",
        "best_model.fit(X_train, y_train)"
      ],
      "metadata": {
        "colab": {
          "base_uri": "https://localhost:8080/"
        },
        "id": "Xlm9LY-dngh3",
        "outputId": "0c72da38-4c22-40f0-b0aa-917adf1e09d5"
      },
      "execution_count": 124,
      "outputs": [
        {
          "output_type": "stream",
          "name": "stderr",
          "text": [
            "/usr/local/lib/python3.7/dist-packages/lightgbm/engine.py:118: UserWarning: Found `num_iterations` in params. Will use it instead of argument\n",
            "  warnings.warn(\"Found `{}` in params. Will use it instead of argument\".format(alias))\n"
          ]
        },
        {
          "output_type": "execute_result",
          "data": {
            "text/plain": [
              "Pipeline(steps=[('preprocess',\n",
              "                 ColumnTransformer(remainder='passthrough',\n",
              "                                   transformers=[('onehot',\n",
              "                                                  OneHotEncoder(drop='first'),\n",
              "                                                  ['PreferedOrderCat',\n",
              "                                                   'MaritalStatus'])])),\n",
              "                ('model',\n",
              "                 LGBMClassifier(learning_rate=0.125, max_bin=275,\n",
              "                                min_data_in_leaf=20, num_iterations=100,\n",
              "                                num_leaves=41, random_state=0))])"
            ]
          },
          "metadata": {},
          "execution_count": 124
        }
      ]
    },
    {
      "cell_type": "code",
      "source": [
        "estimator=Pipeline([\n",
        "    ('preprocess',transformer),\n",
        "    ('model',lgbm)\n",
        "])\n",
        "estimator.fit(X_train, y_train)"
      ],
      "metadata": {
        "colab": {
          "base_uri": "https://localhost:8080/"
        },
        "id": "gGnSg3RTmGL2",
        "outputId": "3c5396d4-4862-46a8-9bc9-a69b6798aff0"
      },
      "execution_count": 125,
      "outputs": [
        {
          "output_type": "execute_result",
          "data": {
            "text/plain": [
              "Pipeline(steps=[('preprocess',\n",
              "                 ColumnTransformer(remainder='passthrough',\n",
              "                                   transformers=[('onehot',\n",
              "                                                  OneHotEncoder(drop='first'),\n",
              "                                                  ['PreferedOrderCat',\n",
              "                                                   'MaritalStatus'])])),\n",
              "                ('model', LGBMClassifier())])"
            ]
          },
          "metadata": {},
          "execution_count": 125
        }
      ]
    },
    {
      "cell_type": "code",
      "source": [
        "y_pred_default = estimator.predict(X_test)\n",
        "y_pred_tuned = best_model.predict(X_test)\n",
        "\n",
        "f1_default = f1_score(y_test, y_pred_default)\n",
        "f1_tuned = f1_score(y_test, y_pred_tuned)\n",
        "\n",
        "print('F1 Score Default LGBM : ', f1_default)\n",
        "print('F1 Score Tuned LGBM : ', f1_tuned)"
      ],
      "metadata": {
        "colab": {
          "base_uri": "https://localhost:8080/"
        },
        "id": "pEnY07jxon7w",
        "outputId": "08ce081a-c113-42d8-f2e3-22f552e88ae0"
      },
      "execution_count": 126,
      "outputs": [
        {
          "output_type": "stream",
          "name": "stdout",
          "text": [
            "F1 Score Default LGBM :  0.7734375\n",
            "F1 Score Tuned LGBM :  0.8153846153846153\n"
          ]
        }
      ]
    },
    {
      "cell_type": "code",
      "source": [
        "report_default = classification_report(y_test, y_pred_default)\n",
        "report_tuned = classification_report(y_test, y_pred_tuned)\n",
        "\n",
        "print('Classification Report Default LGBM : \\n', report_default)\n",
        "print('Classification Report Tuned LGBM : \\n', report_tuned)"
      ],
      "metadata": {
        "colab": {
          "base_uri": "https://localhost:8080/"
        },
        "id": "EfCW4B7MqKOI",
        "outputId": "53dd845c-16fb-4108-b5b4-556ca923eb78"
      },
      "execution_count": 127,
      "outputs": [
        {
          "output_type": "stream",
          "name": "stdout",
          "text": [
            "Classification Report Default LGBM : \n",
            "               precision    recall  f1-score   support\n",
            "\n",
            "           0       0.95      0.96      0.96       652\n",
            "           1       0.81      0.74      0.77       134\n",
            "\n",
            "    accuracy                           0.93       786\n",
            "   macro avg       0.88      0.85      0.86       786\n",
            "weighted avg       0.92      0.93      0.92       786\n",
            "\n",
            "Classification Report Tuned LGBM : \n",
            "               precision    recall  f1-score   support\n",
            "\n",
            "           0       0.96      0.97      0.96       652\n",
            "           1       0.84      0.79      0.82       134\n",
            "\n",
            "    accuracy                           0.94       786\n",
            "   macro avg       0.90      0.88      0.89       786\n",
            "weighted avg       0.94      0.94      0.94       786\n",
            "\n"
          ]
        }
      ]
    },
    {
      "cell_type": "markdown",
      "source": [
        "## Feature Importance"
      ],
      "metadata": {
        "id": "e9CtI6vis2F9"
      }
    },
    {
      "cell_type": "code",
      "source": [
        "coef1 = pd.Series(best_model['model'].feature_importances_, transformer.get_feature_names()).sort_values(ascending = False)\n",
        "plt.figure(figsize=(16,8))\n",
        "coef1.plot(kind='barh', title='Feature Importances')\n",
        "plt.show()"
      ],
      "metadata": {
        "colab": {
          "base_uri": "https://localhost:8080/",
          "height": 556
        },
        "id": "esxD3TfgrCU3",
        "outputId": "b92cf8c9-5ead-40eb-bd05-b0d8451a0103"
      },
      "execution_count": 128,
      "outputs": [
        {
          "output_type": "stream",
          "name": "stderr",
          "text": [
            "/usr/local/lib/python3.7/dist-packages/sklearn/utils/deprecation.py:87: FutureWarning: Function get_feature_names is deprecated; get_feature_names is deprecated in 1.0 and will be removed in 1.2. Please use get_feature_names_out instead.\n",
            "  warnings.warn(msg, category=FutureWarning)\n"
          ]
        },
        {
          "output_type": "display_data",
          "data": {
            "text/plain": [
              "<Figure size 1152x576 with 1 Axes>"
            ],
            "image/png": "[encoded data removed]"
          },
          "metadata": {}
        }
      ]
    },
    {
      "cell_type": "markdown",
      "source": [
        "Terlihat bahwa ternyata untuk model LGBM kita, fitur `CashbackAmount` adalah yang paling penting, kemudian diikuti dengan `WarehouseToHome`, `Tenure`, dan selanjutnya. Sedangkan untuk fitur yang paling tidak penting dalam model ini adalah fitur-fitur kategorikal yaitu `MaritalStatus` dan `PreferedOrderCat`."
      ],
      "metadata": {
        "id": "Kn4ZAZlzrtfo"
      }
    },
    {
      "cell_type": "markdown",
      "source": [
        "## Saving Model"
      ],
      "metadata": {
        "id": "zj7LmdLVCTdE"
      }
    },
    {
      "cell_type": "code",
      "source": [
        "#saving model with pickle\n",
        "import pickle\n",
        "pickle.dump(best_model, open('model_lgbm.sav', 'wb'))"
      ],
      "metadata": {
        "id": "voeesDjDCWuo"
      },
      "execution_count": 129,
      "outputs": []
    },
    {
      "cell_type": "markdown",
      "source": [
        "# Part 5 : Conclusion and Recommendation"
      ],
      "metadata": {
        "id": "FHBS52gdtv8S"
      }
    },
    {
      "cell_type": "markdown",
      "source": [
        "## Conclusion"
      ],
      "metadata": {
        "id": "0KPQ8IcLtyf7"
      }
    },
    {
      "cell_type": "code",
      "source": [
        "print('Classification Report Tuned LGBM : \\n', report_tuned)"
      ],
      "metadata": {
        "colab": {
          "base_uri": "https://localhost:8080/"
        },
        "id": "T__1p3IIt0pY",
        "outputId": "4048357f-1e43-4658-e7d5-450d7503789e"
      },
      "execution_count": 130,
      "outputs": [
        {
          "output_type": "stream",
          "name": "stdout",
          "text": [
            "Classification Report Tuned LGBM : \n",
            "               precision    recall  f1-score   support\n",
            "\n",
            "           0       0.96      0.97      0.96       652\n",
            "           1       0.84      0.79      0.82       134\n",
            "\n",
            "    accuracy                           0.94       786\n",
            "   macro avg       0.90      0.88      0.89       786\n",
            "weighted avg       0.94      0.94      0.94       786\n",
            "\n"
          ]
        }
      ]
    },
    {
      "cell_type": "markdown",
      "source": [
        "Berdasarkan hasil classification report dari model, dapat disimpulkan bahwa; bila seandainya nanti digunakan model ini untuk memfilter list pelanggan yang akan coba ditawarkan promosi, maka model ini dapat mengurangi 97% kandidat yang tidak churn untuk tidak di-approach, dan model ini dapat menangkap 79% pelanggan yang churn dari seluruh kandidat yang tertarik.\n",
        "\n",
        "Model ini memiliki ketepatan prediksi pelanggan yang churn sebesar 84%. Artinya, setiap model ini memprediksi bahwa seorang pelanggan akan churn, maka kemungkinan tebakannya benar itu sebesar 84% kurang lebih. Masih akan ada pelanggan yang tidak akan churn tetapi diprediksi sebagai pelanggan yang akan churn sekitar 3% dari keseluruhan pelanggan yang tidak churn.\n",
        "\n",
        "Bila seandainya: \n",
        "- Biaya untuk promosi per pelanggan itu 10$\n",
        "- Setiap mempertahankan 5% pelanggan yang akan churn itu mendapatkan keuntungan sebanyak 60% (berdasarkan sumber dari Harvard Business School: https://hbswk.hbs.edu/archive/the-economics-of-e-loyalty)\n",
        "- Andaikan jumlah pelanggan sebanyak 500 orang (100 pelanggan akan churn, 400 pelanggan tidak akan churn)\n",
        "\n",
        "Maka hitungannya kurang lebih akan seperti ini :\n",
        "\n",
        "Tanpa Model (semua pelanggan diberikan promosi) :\n",
        "- Total Biaya => 500 x 10 USD = 5000 USD\n",
        "- Total pelanggan akan churn yang didapatkan => 100 orang (karena semua kita tawarkan)\n",
        "- Total pelanggan akan churn yang tidak didapatkan => 0 orang (karena semua kita tawarkan)\n",
        "- Biaya yang terbuang => 400 x 10 USD = 4000 USD (karena 400 orang dipromosikan sia-sia karena tidak akan churn)\n",
        "- Jumlah penghematan => 0 USD\n",
        "\n",
        "Dengan Model (hanya pelanggan yang diprediksi oleh model akan churn yang diberikan promosi) :\n",
        "- Total Biaya => (79 x 10 USD) + (12 x 10 USD) = 790 USD + 120 USD = 910 USD\n",
        "- Total pelanggan akan churn yang didapatkan => 79 orang (karena recall 1 atau yang akan churn itu 79%)\n",
        "- Total pelanggan akan churn yang tidak didapatkan => 21 orang (karena recall 1 atau yang akan churn itu 79%, sisanya 21%)\n",
        "- Biaya yang terbuang => 12 x 10 USD = 120 USD (3% dari 400 atau 12 orang diberikan promosi tapi semulanya memang tidak akan churn)\n",
        "- Jumlah penghematan => 910 - 30 USD = 880 USD\n",
        "\n",
        "Dengan mengorbankan customer churn sebanyak 21%. Model ini mengkompensasi dengan penghematan biaya sebesar 4090 USD atau 81.8% penghematan biaya. \n",
        "\n",
        "Berdasarkan contoh hitungan tersebut, terlihat bahwa dengan menggunakan model ini, maka perusahaan tersebut akan menghemat biaya yang cukup besar tanpa mengorbankan terlalu banyak customer retention."
      ],
      "metadata": {
        "id": "rD9xNuy6t7MD"
      }
    },
    {
      "cell_type": "markdown",
      "source": [
        "## Recommendation"
      ],
      "metadata": {
        "id": "2GDWSv977ZzF"
      }
    },
    {
      "cell_type": "markdown",
      "source": [
        "Hal-hal yang bisa dilakukan untuk mengurangi masalah customer churn antara lain:\n",
        "- Memberikan promo khusus kepada pelanggan yang memiliki masa tenure rendah untuk mencegah potensi churn terhadap pelanggan baru.\n",
        "- Membuka cabang warehouse lebih banyak sehingga lebih dekat ke pemukiman rumah-rumah pelanggan.\n",
        "- Mengoptimalkan harga cashback untuk meningkatkan customer retention tanpa resiko kerugian yang besar.\n",
        "- Mengoptimalkan user experience dan customer service dari aplikasi atau website e-commerce untuk dapat melayani complain pelanggan dengan baik.\n",
        "- Memberikan promo khusus kepada pelanggan yang sudah lama tidak bertransaksi."
      ],
      "metadata": {
        "id": "w8ctdhAN7bv-"
      }
    },
    {
      "cell_type": "markdown",
      "source": [
        "Hal-hal yang dapat dilakukan untuk mengembangkan model agar lebih baik lagi, seperti:\n",
        "- Penghapusan fitur kategorikal untuk pemodelan ulang tanpa fitur yang tidak terlalu berpengaruh ke model.\n",
        "- Penggunaan grid search karena grid search menjamin hasil yang terbaik saat melakukan hyperparameter tuning dengan hyperparameter yang lebih banyak.\n",
        "- Menambahkan fitur-fitur baru yang dapat berguna untuk analisis dan pemodelan seperti lama penggunaan aplikasi atau website, jumlah produk yang berada dalam keranjang pelanggan, dan sebagainya."
      ],
      "metadata": {
        "id": "2A79TaN_BBxU"
      }
    }
  ]
}